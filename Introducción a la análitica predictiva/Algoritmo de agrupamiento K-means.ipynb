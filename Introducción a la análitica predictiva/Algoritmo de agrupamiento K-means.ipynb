{
 "cells": [
  {
   "cell_type": "markdown",
   "metadata": {},
   "source": [
    "### Descripción del problema"
   ]
  },
  {
   "cell_type": "markdown",
   "metadata": {},
   "source": [
    "Se desea detectar los tipos de clientes existentes en una empresa con el fin de poder definir políticas para su manejo en su etapa posterior."
   ]
  },
  {
   "cell_type": "code",
   "execution_count": 1,
   "metadata": {},
   "outputs": [
    {
     "name": "stdout",
     "output_type": "stream",
     "text": [
      "Overwriting data.csv\n"
     ]
    }
   ],
   "source": [
    "%%writefile data.csv\n",
    "x1,x2\n",
    "10.67,14.7\n",
    "10.87,6.91\n",
    "13.27,13.92\n",
    "9.74,13.79\n",
    "11.95,6.05\n",
    "14.4,16.58\n",
    "10.23,14.3\n",
    "12.77,7.97\n",
    "14.5,17.39\n",
    "11.17,15.53\n",
    "13.25,8.03\n",
    "14.2,16.7\n",
    "10.41,15.08\n",
    "14.42,9.25\n",
    "14.62,17.22\n",
    "11.14,14.45\n",
    "16.03,9.88\n",
    "13.05,12.2\n",
    "10.12,12.95\n",
    "12.23,6.97\n",
    "14.43,16.31\n",
    "9.58,13.76\n",
    "13.24,8.58\n",
    "13.51,15.12\n",
    "11.16,15.21\n",
    "10.88,6.15\n",
    "14.63,17.0\n",
    "10.08,13.53\n",
    "15.85,9.51\n",
    "15.36,16.95\n",
    "9.96,13.31\n",
    "11.63,7.28\n",
    "14.24,17.55\n",
    "9.17,12.41\n",
    "13.41,8.35\n",
    "13.82,15.46\n",
    "11.52,16.01\n",
    "11.71,6.37\n",
    "14.52,18.9\n",
    "11.27,15.41\n",
    "12.49,7.6\n",
    "15.43,19.0\n",
    "8.72,11.66\n",
    "14.46,8.21\n",
    "14.58,17.01\n",
    "11.3,15.11\n",
    "15.0,10.11\n",
    "12.87,14.26\n",
    "9.7,13.56\n",
    "12.24,7.16\n",
    "15.37,18.91\n",
    "8.69,11.81\n",
    "13.68,8.12\n",
    "15.61,19.0\n",
    "10.99,16.28\n",
    "15.06,8.47\n",
    "15.12,17.84\n",
    "10.82,14.41\n",
    "12.78,8.74\n",
    "13.64,15.49"
   ]
  },
  {
   "cell_type": "markdown",
   "metadata": {},
   "source": [
    "### Agrupamiento usando KMeans en Python\n"
   ]
  },
  {
   "cell_type": "code",
   "execution_count": 20,
   "metadata": {},
   "outputs": [],
   "source": [
    "# Preparación\n",
    "\n",
    "import pandas as pd\n",
    "import numpy as np\n",
    "import matplotlib.pyplot as plt\n",
    "%matplotlib inline\n"
   ]
  },
  {
   "cell_type": "code",
   "execution_count": 21,
   "metadata": {},
   "outputs": [],
   "source": [
    "df = pd.read_csv(\n",
    "    \"data.csv\",\n",
    "    sep = \",\",\n",
    "    thousands = None,\n",
    "    decimal = \".\")"
   ]
  },
  {
   "cell_type": "code",
   "execution_count": 22,
   "metadata": {
    "scrolled": true
   },
   "outputs": [
    {
     "data": {
      "text/plain": [
       "array([2, 1, 2, 2, 1, 0, 2, 1, 0, 2, 1, 0, 2, 1, 0, 2, 1, 2, 2, 1, 0, 2,\n",
       "       1, 0, 2, 1, 0, 2, 1, 0, 2, 1, 0, 2, 1, 0, 2, 1, 0, 2, 1, 0, 2, 1,\n",
       "       0, 2, 1, 2, 2, 1, 0, 2, 1, 0, 2, 1, 0, 2, 1, 0])"
      ]
     },
     "execution_count": 22,
     "metadata": {},
     "output_type": "execute_result"
    }
   ],
   "source": [
    "from sklearn.cluster import KMeans\n",
    "\n",
    "#Crea el clasificador\n",
    "\n",
    "m = KMeans(n_clusters = 3)\n",
    "\n",
    "# Construye los clusters\n",
    "\n",
    "m.fit(df.values)\n",
    "\n",
    "#Pronostica los clusters para la muestra de datos\n",
    "\n",
    "p = m.predict(df.values)\n",
    "p"
   ]
  },
  {
   "cell_type": "code",
   "execution_count": 23,
   "metadata": {
    "scrolled": true
   },
   "outputs": [
    {
     "data": {
      "text/plain": [
       "2    23\n",
       "1    20\n",
       "0    17\n",
       "Name: 0, dtype: int64"
      ]
     },
     "execution_count": 23,
     "metadata": {},
     "output_type": "execute_result"
    }
   ],
   "source": [
    "# Número de elementos por cluster\n",
    "\n",
    "(pd.DataFrame(p))[0].value_counts()"
   ]
  },
  {
   "cell_type": "code",
   "execution_count": 24,
   "metadata": {
    "scrolled": true
   },
   "outputs": [
    {
     "data": {
      "text/plain": [
       "array([[14.58705882, 17.20176471],\n",
       "       [13.1975    ,  7.9855    ],\n",
       "       [10.67956522, 14.07173913]])"
      ]
     },
     "execution_count": 24,
     "metadata": {},
     "output_type": "execute_result"
    }
   ],
   "source": [
    "# Centros de los clusters\n",
    "\n",
    "m.cluster_centers_"
   ]
  },
  {
   "cell_type": "code",
   "execution_count": 25,
   "metadata": {
    "scrolled": true
   },
   "outputs": [
    {
     "data": {
      "text/html": [
       "<div>\n",
       "<style scoped>\n",
       "    .dataframe tbody tr th:only-of-type {\n",
       "        vertical-align: middle;\n",
       "    }\n",
       "\n",
       "    .dataframe tbody tr th {\n",
       "        vertical-align: top;\n",
       "    }\n",
       "\n",
       "    .dataframe thead th {\n",
       "        text-align: right;\n",
       "    }\n",
       "</style>\n",
       "<table border=\"1\" class=\"dataframe\">\n",
       "  <thead>\n",
       "    <tr style=\"text-align: right;\">\n",
       "      <th></th>\n",
       "      <th>x1</th>\n",
       "      <th>x2</th>\n",
       "    </tr>\n",
       "    <tr>\n",
       "      <th>cluster</th>\n",
       "      <th></th>\n",
       "      <th></th>\n",
       "    </tr>\n",
       "  </thead>\n",
       "  <tbody>\n",
       "    <tr>\n",
       "      <th>0</th>\n",
       "      <td>14.587059</td>\n",
       "      <td>17.201765</td>\n",
       "    </tr>\n",
       "    <tr>\n",
       "      <th>1</th>\n",
       "      <td>13.197500</td>\n",
       "      <td>7.985500</td>\n",
       "    </tr>\n",
       "    <tr>\n",
       "      <th>2</th>\n",
       "      <td>10.679565</td>\n",
       "      <td>14.071739</td>\n",
       "    </tr>\n",
       "  </tbody>\n",
       "</table>\n",
       "</div>"
      ],
      "text/plain": [
       "                x1         x2\n",
       "cluster                      \n",
       "0        14.587059  17.201765\n",
       "1        13.197500   7.985500\n",
       "2        10.679565  14.071739"
      ]
     },
     "execution_count": 25,
     "metadata": {},
     "output_type": "execute_result"
    }
   ],
   "source": [
    "#Promedio de x1 y x2 por cluster\n",
    "\n",
    "df[\"cluster\"] = p\n",
    "df.groupby(\"cluster\").mean()"
   ]
  },
  {
   "cell_type": "code",
   "execution_count": 26,
   "metadata": {
    "scrolled": true
   },
   "outputs": [
    {
     "data": {
      "text/plain": [
       "<matplotlib.collections.PathCollection at 0x275b5a43fd0>"
      ]
     },
     "execution_count": 26,
     "metadata": {},
     "output_type": "execute_result"
    },
    {
     "data": {
      "image/png": "[encoded data removed]",
      "text/plain": [
       "<Figure size 432x288 with 1 Axes>"
      ]
     },
     "metadata": {
      "needs_background": "light"
     },
     "output_type": "display_data"
    }
   ],
   "source": [
    "## Gráfico de los clusters\n",
    "\n",
    "plt.scatter(df.values[:, 0], df.values[:, 1], c = p)"
   ]
  },
  {
   "cell_type": "markdown",
   "metadata": {},
   "source": [
    "### Escalamiento y transformación de variables"
   ]
  },
  {
   "cell_type": "markdown",
   "metadata": {},
   "source": [
    "El algoritmo K-means se ve afectado por la escala de las variables. Por ello, se debe realizar la transformación de las variables antes de aplicar K-means. En las siguientes ecuaciones, x representa cualquiera de las componentes de x"
   ]
  },
  {
   "cell_type": "markdown",
   "metadata": {},
   "source": [
    "**Normalización max-min** x = x-min(x)/(max(x)-min(x)\n",
    "**Estandarización z-score** z = x-mediax/desviaciónestandarx"
   ]
  },
  {
   "cell_type": "markdown",
   "metadata": {},
   "source": [
    "### Otras técnicas de agrupamiento"
   ]
  },
  {
   "cell_type": "markdown",
   "metadata": {},
   "source": [
    "### Clustering Jerárquico Divisivo"
   ]
  },
  {
   "cell_type": "markdown",
   "metadata": {},
   "source": [
    "El algoritmo se inicia con un solo cluster que contiene todos los datos. Cada cluster es dividido recursivamente en dos clusters de máxima disimilitud. El algoritmo finaliza cuando hay un cluster por cada observación."
   ]
  },
  {
   "cell_type": "markdown",
   "metadata": {},
   "source": [
    "### Clustering Jerárquico Aglomerativo"
   ]
  },
  {
   "cell_type": "markdown",
   "metadata": {},
   "source": [
    "En esta algoritmo, cada cluster contiene un solo dato.\n",
    "\n",
    "- Se calcula la métrica de distancia entre todos los clusters.\n",
    "\n",
    "- Se unen los dos clusters con menor distancia en uno solo.\n",
    "\n",
    "- Se retorna al paso 1.\n",
    "\n",
    "El algoritmo se detiene cuando se llegue a un solo cluster que contiene todos los datos."
   ]
  },
  {
   "cell_type": "markdown",
   "metadata": {},
   "source": [
    "### Bisecting K-means"
   ]
  },
  {
   "cell_type": "markdown",
   "metadata": {},
   "source": [
    "\n",
    "Este es un procedimiento constructivo a medias entre el agrupamiento jerárquico y K-means. El algoritmo se inicia con un solo cluster que contiene todos los datos y se ejecuta de la siguiente forma:\n",
    "\n",
    "- Se selecciona un cluster para dividir.\n",
    "\n",
    "- Se divide el cluster seleccionado en dos clusters usando K-means. Este es el paso de bisección.\n",
    "\n",
    "- Repita el paso 2 por un número fijo de veces y seleccione la partición con la mejor métrica de desempeño.\n",
    "\n",
    "- Repita los pasos 1, 2 y 3 hasta alcanzar el número deseado de clusters.\n",
    "\n",
    "**Actividad.**— Para el conjunto de datos que aparece al final de este tutorial, aplique este método hasta obtener 3 clusters."
   ]
  },
  {
   "cell_type": "markdown",
   "metadata": {},
   "source": [
    "### K-medoids"
   ]
  },
  {
   "cell_type": "markdown",
   "metadata": {},
   "source": [
    "En esta variación del algoritmo, los centros (medoids) de cada cluster son puntos de la muestra de datos; esto es, el centro de cada cluster es uno de los puntos asignados al cluster. El algoritmo opera de forma similar a K-means:\n",
    "\n",
    "- Paso 1: Se seleccionan k puntos como centros de los clusters.\n",
    "\n",
    "- Paso 2: Para todos los clusters se verifica si alguno de los miembros del cluster disminuye la métrica de distancia utilizada. En caso afirmativo, este punto pasa a ser el nuevo centro del cluster. En caso negativo, hay convergencia del algoritmo.\n",
    "\n",
    "- Paso 3: Se asignan los puntos al cluster con centro más cercano y se retorna al Paso 2.\n",
    "\n",
    "Actividad.— Para el conjunto de datos que aparece al final de este tutorial, use los puntos 1, 21 y 41 como medoids. Asigne los puntos restantes a cada uno de los clusters y determine cuál punto debe ser el siguiente medoid para cada cluster."
   ]
  },
  {
   "cell_type": "markdown",
   "metadata": {},
   "source": [
    "### K-means ++"
   ]
  },
  {
   "cell_type": "markdown",
   "metadata": {},
   "source": [
    "Este algoritmo es similar al algoritmo K-means, con la diferencia que los nuevos centros de los clusters son generados de forma aleatoria."
   ]
  },
  {
   "cell_type": "markdown",
   "metadata": {},
   "source": [
    "### Mini batch K-means"
   ]
  },
  {
   "cell_type": "markdown",
   "metadata": {},
   "source": [
    "Este método se basa en tomar un subconjunto de los datos disponibles para estimar los clusters. Se usa para grandes conjuntos de datos.\n",
    "\n",
    "Para un número T de iteraciones y unos centros iniciales aleatorios se realiza el siguiente procedimiento:\n",
    "\n",
    "- Se seleccionan b puntos aleatoriamente del conjunto de datos.\n",
    "\n",
    "- Se asignan los puntos a los clusters actuales como en K-means.\n",
    "\n",
    "- Por cada uno de los b puntos se ajusta el centro del correspondiente cluster uno a uno.\n",
    "\n",
    "Este algoritmo usa una regla de ajuste similar a la regla de aprendizaje del perceptrón."
   ]
  },
  {
   "cell_type": "markdown",
   "metadata": {},
   "source": [
    "### Canopy Clustering"
   ]
  },
  {
   "cell_type": "markdown",
   "metadata": {},
   "source": [
    "Es un método para crear grupos de elementos cercanos y se puede usar como una fase preliminar antes de usar otros métodos como k-means. El método requiere definir dos distancias T1 y T2. El método funciona como se indica a continuación:\n",
    "\n",
    "- Se colocan todos los puntos en el conjunto S.\n",
    "\n",
    "- Mientras S no este vacio:\n",
    "\n",
    "* Seleccione aleatoriamente un punto r del conjunto S y remuevalo. Este el centro de un nuevo canopy.\n",
    "\n",
    "* Para cada punto x en S compute la distancia d entre x y r.\n",
    "\n",
    "* Si d < T1, agregue el punto x al canopy con centro en r.\n",
    "\n",
    "* Si d < T2, remueva x de S.\n",
    "\n",
    "Note que un punto podría pertenecer a más de un canopy. Para el ejemplo desarrollado, cada canopy es representado por un circulo."
   ]
  }
 ],
 "metadata": {
  "kernelspec": {
   "display_name": "Python 3",
   "language": "python",
   "name": "python3"
  },
  "language_info": {
   "codemirror_mode": {
    "name": "ipython",
    "version": 3
   },
   "file_extension": ".py",
   "mimetype": "text/x-python",
   "name": "python",
   "nbconvert_exporter": "python",
   "pygments_lexer": "ipython3",
   "version": "3.8.3"
  }
 },
 "nbformat": 4,
 "nbformat_minor": 4
}
