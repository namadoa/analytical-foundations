{
 "cells": [
  {
   "cell_type": "markdown",
   "metadata": {},
   "source": [
    "## Programación usando Test Development Driven"
   ]
  },
  {
   "cell_type": "markdown",
   "metadata": {},
   "source": [
    "## Doctest\n",
    "* Doctest permite correr las pruebas escritas en la documentación del coódigo de forma automática. En otras palabras, permite verificar que el código siga funcionando correctamente después de introducir cambios."
   ]
  },
  {
   "cell_type": "code",
   "execution_count": 1,
   "metadata": {
    "scrolled": true
   },
   "outputs": [
    {
     "name": "stdout",
     "output_type": "stream",
     "text": [
      "\f",
      "\n",
      "**********************************************************************\n",
      "File \"__main__\", line 15, in __main__\n",
      "Failed example:\n",
      "    suma(1, 1)\n",
      "Expected:\n",
      "    3\n",
      "Got:\n",
      "    2\n",
      "**********************************************************************\n",
      "1 items had failures:\n",
      "   1 of   2 in __main__\n",
      "***Test Failed*** 1 failures.\n"
     ]
    }
   ],
   "source": [
    "%clear\n",
    "\n",
    "\"\"\"\n",
    "Este es un ejemplo usando `doctest`. Las líneas que empiezan\n",
    "con `>>>` son interpretada como código en Python. `doctest`\n",
    "extrae dichas líneas, las ejecuta y compara contra el resultado\n",
    "indicado.\n",
    "\n",
    "En este ejemplo, la función suma(a, b) debe retornar a+b.\n",
    "Note que en el primera llamada el resultado es correcto,\n",
    "mientras que en la segunda es incorrecto.\n",
    "\n",
    ">>> suma(1, 1)\n",
    "2\n",
    "\n",
    ">>> suma(1, 1)\n",
    "3\n",
    "\n",
    "\"\"\"\n",
    "\n",
    "def suma(a, b):\n",
    "    return a + b\n",
    "\n",
    "if __name__ == \"__main__\":\n",
    "    import doctest\n",
    "    doctest.testmod()"
   ]
  },
  {
   "cell_type": "code",
   "execution_count": 2,
   "metadata": {
    "scrolled": false
   },
   "outputs": [
    {
     "name": "stdout",
     "output_type": "stream",
     "text": [
      "\f",
      "\n",
      "> \u001b[1;32m<ipython-input-2-386f7a9e4583>\u001b[0m(23)\u001b[0;36msuma\u001b[1;34m()\u001b[0m\n",
      "\u001b[1;32m     21 \u001b[1;33m    \u001b[1;32mimport\u001b[0m \u001b[0mpdb\u001b[0m\u001b[1;33m;\u001b[0m \u001b[0mpdb\u001b[0m\u001b[1;33m.\u001b[0m\u001b[0mset_trace\u001b[0m\u001b[1;33m(\u001b[0m\u001b[1;33m)\u001b[0m\u001b[1;33m\u001b[0m\u001b[1;33m\u001b[0m\u001b[0m\n",
      "\u001b[0m\u001b[1;32m     22 \u001b[1;33m    \u001b[1;31m## <<<\u001b[0m\u001b[1;33m\u001b[0m\u001b[1;33m\u001b[0m\u001b[1;33m\u001b[0m\u001b[0m\n",
      "\u001b[0m\u001b[1;32m---> 23 \u001b[1;33m    \u001b[1;32mreturn\u001b[0m \u001b[0ma\u001b[0m \u001b[1;33m+\u001b[0m \u001b[0mb\u001b[0m\u001b[1;33m\u001b[0m\u001b[1;33m\u001b[0m\u001b[0m\n",
      "\u001b[0m\u001b[1;32m     24 \u001b[1;33m\u001b[1;33m\u001b[0m\u001b[0m\n",
      "\u001b[0m\u001b[1;32m     25 \u001b[1;33m\u001b[1;32mif\u001b[0m \u001b[0m__name__\u001b[0m \u001b[1;33m==\u001b[0m \u001b[1;34m\"__main__\"\u001b[0m\u001b[1;33m:\u001b[0m\u001b[1;33m\u001b[0m\u001b[1;33m\u001b[0m\u001b[0m\n",
      "\u001b[0m\n",
      "--KeyboardInterrupt--\n",
      "\n",
      "KeyboardInterrupt: Interrupted by user\n",
      "**********************************************************************\n",
      "File \"__main__\", line 15, in __main__\n",
      "Failed example:\n",
      "    suma(1, 1)\n",
      "Expected:\n",
      "    3\n",
      "Got:\n",
      "    2\n",
      "**********************************************************************\n",
      "1 items had failures:\n",
      "   1 of   2 in __main__\n",
      "***Test Failed*** 1 failures.\n"
     ]
    }
   ],
   "source": [
    "%clear\n",
    "\"\"\"\n",
    "Este es un ejemplo usando `doctest`. Las líneas que empiezan\n",
    "con `>>>` son interpretada como código en Python. `doctest`\n",
    "extrae dichas líneas, las ejecuta y compara contra el resultado\n",
    "indicado.\n",
    "\n",
    "En este ejemplo, la función suma(a, b) debe retornar a+b.\n",
    "Note que en el primera llamada el resultado es correcto,\n",
    "mientras que en la segunda es incorrecto.\n",
    "\n",
    ">>> suma(1, 1)\n",
    "2\n",
    "\n",
    ">>> suma(1, 1)\n",
    "3\n",
    "\n",
    "\"\"\"\n",
    "def suma(a, b):\n",
    "    ## código nuevo >>>\n",
    "    import pdb; pdb.set_trace()\n",
    "    ## <<<\n",
    "    return a + b\n",
    "\n",
    "if __name__ == \"__main__\":\n",
    "    import doctest\n",
    "    doctest.testmod()"
   ]
  },
  {
   "cell_type": "markdown",
   "metadata": {},
   "source": [
    "## Construcción de un Datapipe en Python"
   ]
  },
  {
   "cell_type": "code",
   "execution_count": 7,
   "metadata": {},
   "outputs": [],
   "source": [
    "# ## Se crea un directorio para el ejemplo\n",
    "# !mkdir directory"
   ]
  },
  {
   "cell_type": "code",
   "execution_count": 4,
   "metadata": {},
   "outputs": [
    {
     "name": "stdout",
     "output_type": "stream",
     "text": [
      "Writing directory/file1.csv\n"
     ]
    }
   ],
   "source": [
    "%%writefile directory/file1.csv\n",
    "a,1,12\n",
    "b,2,13,\n",
    "c,,\"14\"\n",
    "0,\\N, \"0\"\n",
    "a, \\N, \"0\"\n",
    "e,,\n",
    "0,\n",
    "\\N,,\n",
    ",,\n",
    "a,0,0\n",
    "\\n,\\n,\\n\n"
   ]
  },
  {
   "cell_type": "code",
   "execution_count": 5,
   "metadata": {},
   "outputs": [
    {
     "name": "stdout",
     "output_type": "stream",
     "text": [
      "Writing directory/file2.csv\n"
     ]
    }
   ],
   "source": [
    "%%writefile directory/file2.csv\n",
    "b,1,12\n",
    "a,2,13\n",
    "d,,14\n",
    "0,\\N,15\n",
    "\\n\n",
    "\\n\n",
    "\n",
    "e,,\n",
    ",,,\n",
    "K,3,\\n"
   ]
  },
  {
   "cell_type": "code",
   "execution_count": 6,
   "metadata": {},
   "outputs": [
    {
     "name": "stdout",
     "output_type": "stream",
     "text": [
      "Writing directory/file3.csv\n"
     ]
    }
   ],
   "source": [
    "%%writefile directory/file3.csv\n",
    "b;1;12\n",
    "'a';4;13\n",
    "a;3;13\n",
    "\n",
    "'c';3;17\n",
    "'a';'\\n';'15'\n",
    "E;2;0"
   ]
  },
  {
   "cell_type": "markdown",
   "metadata": {},
   "source": [
    "## Lectura de archivos"
   ]
  },
  {
   "cell_type": "code",
   "execution_count": 9,
   "metadata": {
    "scrolled": true
   },
   "outputs": [
    {
     "data": {
      "text/plain": [
       "['directory\\\\file1.csv', 'directory\\\\file2.csv', 'directory\\\\file3.csv']"
      ]
     },
     "execution_count": 9,
     "metadata": {},
     "output_type": "execute_result"
    }
   ],
   "source": [
    "import glob\n",
    "\n",
    "filenames = glob.glob(\"directory/*.csv\")\n",
    "filenames"
   ]
  },
  {
   "cell_type": "code",
   "execution_count": 10,
   "metadata": {
    "scrolled": true
   },
   "outputs": [
    {
     "data": {
      "text/plain": [
       "['a,1,12\\n',\n",
       " 'b,2,13,\\n',\n",
       " 'c,,\"14\"\\n',\n",
       " '0,\\\\N, \"0\"\\n',\n",
       " 'a, \\\\N, \"0\"\\n',\n",
       " 'e,,\\n',\n",
       " '0,\\n',\n",
       " '\\\\N,,\\n',\n",
       " ',,\\n',\n",
       " 'a,0,0\\n',\n",
       " '\\\\n,\\\\n,\\\\n\\n',\n",
       " 'b,1,12\\n',\n",
       " 'a,2,13\\n',\n",
       " 'd,,14\\n',\n",
       " '0,\\\\N,15\\n',\n",
       " '\\\\n\\n',\n",
       " '\\\\n\\n',\n",
       " '\\n',\n",
       " 'e,,\\n',\n",
       " ',,,\\n',\n",
       " 'K,3,\\\\n\\n',\n",
       " 'b;1;12\\n',\n",
       " \"'a';4;13\\n\",\n",
       " 'a;3;13\\n',\n",
       " '\\n',\n",
       " \"'c';3;17\\n\",\n",
       " \"'a';'\\\\n';'15'\\n\",\n",
       " 'E;2;0\\n']"
      ]
     },
     "execution_count": 10,
     "metadata": {},
     "output_type": "execute_result"
    }
   ],
   "source": [
    "## Crear un variable para almacenar el contenido de \n",
    "#de los archivos\n",
    "\n",
    "text = []\n",
    "\n",
    "for filename in filenames:\n",
    "    with open(filename, \"rt\") as f:\n",
    "        text += f.readlines()\n",
    "        \n",
    "\n",
    "text"
   ]
  },
  {
   "cell_type": "code",
   "execution_count": 12,
   "metadata": {
    "scrolled": true
   },
   "outputs": [
    {
     "data": {
      "text/plain": [
       "['a,1,1',\n",
       " 'b,2,13',\n",
       " 'c,,\"14',\n",
       " '0,\\\\N, \"0',\n",
       " 'a, \\\\N, \"0',\n",
       " 'e,',\n",
       " '0',\n",
       " '\\\\N,',\n",
       " ',',\n",
       " 'a,0,',\n",
       " '\\\\n,\\\\n,\\\\',\n",
       " 'b,1,1',\n",
       " 'a,2,1',\n",
       " 'd,,1',\n",
       " '0,\\\\N,1',\n",
       " '\\\\',\n",
       " '\\\\',\n",
       " '',\n",
       " 'e,',\n",
       " ',,',\n",
       " 'K,3,\\\\',\n",
       " 'b;1;1',\n",
       " \"'a';4;1\",\n",
       " 'a;3;1',\n",
       " '',\n",
       " \"'c';3;1\",\n",
       " \"'a';'\\\\n';'15\",\n",
       " 'E;2;']"
      ]
     },
     "execution_count": 12,
     "metadata": {},
     "output_type": "execute_result"
    }
   ],
   "source": [
    "text = [line[:-1] for line in text]\n",
    "text"
   ]
  },
  {
   "cell_type": "markdown",
   "metadata": {},
   "source": [
    "### Todos los registro deben tener 3 columnas"
   ]
  },
  {
   "cell_type": "code",
   "execution_count": 14,
   "metadata": {
    "scrolled": true
   },
   "outputs": [
    {
     "name": "stdout",
     "output_type": "stream",
     "text": [
      "['e', '']\n",
      "['0']\n",
      "['\\\\N', '']\n",
      "['', '']\n",
      "['\\\\']\n",
      "['\\\\']\n",
      "['']\n",
      "['e', '']\n",
      "['b;1;1']\n",
      "[\"'a';4;1\"]\n",
      "['a;3;1']\n",
      "['']\n",
      "[\"'c';3;1\"]\n",
      "[\"'a';'\\\\n';'15\"]\n",
      "['E;2;']\n"
     ]
    }
   ],
   "source": [
    "csv = [line.split(\",\") for line in text]\n",
    "\n",
    "for line in csv:\n",
    "    if len(line) !=3:\n",
    "        print(line)"
   ]
  },
  {
   "cell_type": "code",
   "execution_count": 15,
   "metadata": {
    "scrolled": true
   },
   "outputs": [
    {
     "name": "stdout",
     "output_type": "stream",
     "text": [
      "['e', '']\n",
      "['0']\n",
      "['\\\\N', '']\n",
      "['', '']\n",
      "['\\\\']\n",
      "['\\\\']\n",
      "['']\n",
      "['e', '']\n",
      "['']\n"
     ]
    }
   ],
   "source": [
    "## Hay archivos que estan delimitados por \";\"\n",
    "#Se reemplazan el \";\" por \",\" y se verifica nuevamente\n",
    "\n",
    "text = [line.replace(\";\", \",\") for line in text]\n",
    "\n",
    "csv = [line.split(\",\") for line in text]\n",
    "\n",
    "for line in csv:\n",
    "    if len(line) !=3:\n",
    "        print(line)"
   ]
  },
  {
   "cell_type": "code",
   "execution_count": 17,
   "metadata": {
    "scrolled": true
   },
   "outputs": [
    {
     "name": "stdout",
     "output_type": "stream",
     "text": [
      "['e', '']\n",
      "['0']\n",
      "['\\\\N', '']\n",
      "['', '']\n",
      "['\\\\']\n",
      "['\\\\']\n",
      "['e', '']\n"
     ]
    }
   ],
   "source": [
    "## Hay líneas vacias\n",
    "\n",
    "text = [line for line in text if line != \"\"]\n",
    "csv = [line.split(\",\") for line in text]\n",
    "for line in csv:\n",
    "    if len(line)!=3:\n",
    "        print(line)\n",
    "        \n",
    "        "
   ]
  },
  {
   "cell_type": "code",
   "execution_count": 18,
   "metadata": {
    "scrolled": true
   },
   "outputs": [
    {
     "data": {
      "text/plain": [
       "[['a', '1', '1'],\n",
       " ['b', '2', '13'],\n",
       " ['c', '', '\"14'],\n",
       " ['0', '\\\\N', ' \"0'],\n",
       " ['a', ' \\\\N', ' \"0'],\n",
       " ['a', '0', ''],\n",
       " ['\\\\n', '\\\\n', '\\\\'],\n",
       " ['b', '1', '1'],\n",
       " ['a', '2', '1'],\n",
       " ['d', '', '1'],\n",
       " ['0', '\\\\N', '1'],\n",
       " ['', '', ''],\n",
       " ['K', '3', '\\\\'],\n",
       " ['b', '1', '1'],\n",
       " [\"'a'\", '4', '1'],\n",
       " ['a', '3', '1'],\n",
       " [\"'c'\", '3', '1'],\n",
       " [\"'a'\", \"'\\\\n'\", \"'15\"],\n",
       " ['E', '2', '']]"
      ]
     },
     "execution_count": 18,
     "metadata": {},
     "output_type": "execute_result"
    }
   ],
   "source": [
    "#Eliminamos las lnieas que no tienen tres campos\n",
    "csv = [line.split(\",\") for line in text]\n",
    "csv = [line for line in csv if len(line) ==3]\n",
    "csv"
   ]
  },
  {
   "cell_type": "markdown",
   "metadata": {},
   "source": [
    "## Los valores válidos de  la columna 1 son {a,b,c,d,e} en minúsculas\n",
    "\n"
   ]
  },
  {
   "cell_type": "code",
   "execution_count": 19,
   "metadata": {
    "scrolled": true
   },
   "outputs": [
    {
     "name": "stdout",
     "output_type": "stream",
     "text": [
      "['0', '\\\\N', ' \"0']\n",
      "['\\\\n', '\\\\n', '\\\\']\n",
      "['0', '\\\\N', '1']\n",
      "['', '', '']\n",
      "['K', '3', '\\\\']\n",
      "[\"'a'\", '4', '1']\n",
      "[\"'c'\", '3', '1']\n",
      "[\"'a'\", \"'\\\\n'\", \"'15\"]\n",
      "['E', '2', '']\n"
     ]
    }
   ],
   "source": [
    "#Inspeccionar valores de la columna 1 que son validos para\n",
    "#determinar las acciones a tomar\n",
    "\n",
    "for line in csv:\n",
    "    if line[0] not in [\"a\", \"b\", \"c\", \"d\", \"e\", \"\\\\N\"]:\n",
    "        print(line)"
   ]
  },
  {
   "cell_type": "code",
   "execution_count": 21,
   "metadata": {
    "scrolled": true
   },
   "outputs": [
    {
     "name": "stdout",
     "output_type": "stream",
     "text": [
      "['0', '\\\\N', ' \"0']\n",
      "['\\\\n', '\\\\n', '\\\\']\n",
      "['0', '\\\\N', '1']\n",
      "['', '', '']\n",
      "['k', '3', '\\\\']\n",
      "[\"'a'\", '4', '1']\n",
      "[\"'c'\", '3', '1']\n",
      "[\"'a'\", \"'\\\\n'\", \"'15\"]\n",
      "['e', '2', '']\n"
     ]
    }
   ],
   "source": [
    "## Hay letras en mayúsculas\n",
    "\n",
    "csv = [[line[0].lower()] + line[1:] for line in csv]\n",
    "\n",
    "for line in csv:\n",
    "    if line[0] not in [\"a\", \"b\", \"c\", \"d\", \"e\" \"\\\\N\"]:\n",
    "        print(line)"
   ]
  },
  {
   "cell_type": "code",
   "execution_count": 22,
   "metadata": {
    "scrolled": true
   },
   "outputs": [
    {
     "name": "stdout",
     "output_type": "stream",
     "text": [
      "['\\\\N', '\\\\N', ' \"0']\n",
      "['\\\\N', '\\\\n', '\\\\']\n",
      "['\\\\N', '\\\\N', '1']\n",
      "['\\\\N', '', '']\n",
      "['\\\\N', '3', '\\\\']\n",
      "['\\\\N', '4', '1']\n",
      "['\\\\N', '3', '1']\n",
      "['\\\\N', \"'\\\\n'\", \"'15\"]\n",
      "['e', '2', '']\n"
     ]
    }
   ],
   "source": [
    "# Se toma la decisión de reemplazar los valores inválidsos\n",
    "## en la columna 1 por \\N\n",
    "\n",
    "csv = [[\"\\\\N\"] + line[1:] if line[0] not in [\"a\", \"b\", \"c\", \"d\", \"e\"] else line for line in csv]\n",
    "\n",
    "\n",
    "for line in csv:\n",
    "    if line[0] not in [\"a\", \"b\", \"c\", \"d\", \"e\" \"\\\\N\"]:\n",
    "        print(line)"
   ]
  },
  {
   "cell_type": "code",
   "execution_count": 31,
   "metadata": {
    "scrolled": true
   },
   "outputs": [
    {
     "data": {
      "text/plain": [
       "[['a', '1', '1'],\n",
       " ['b', '2', '13'],\n",
       " ['c', '', '\"14'],\n",
       " ['\\\\N', '\\\\N', ' \"0'],\n",
       " ['a', ' \\\\N', ' \"0'],\n",
       " ['a', '0', ''],\n",
       " ['\\\\N', '\\\\n', '\\\\'],\n",
       " ['b', '1', '1'],\n",
       " ['a', '2', '1'],\n",
       " ['d', '', '1'],\n",
       " ['\\\\N', '\\\\N', '1'],\n",
       " ['\\\\N', '', ''],\n",
       " ['\\\\N', '3', '\\\\'],\n",
       " ['b', '1', '1'],\n",
       " ['\\\\N', '4', '1'],\n",
       " ['a', '3', '1'],\n",
       " ['\\\\N', '3', '1'],\n",
       " ['\\\\N', \"'\\\\n'\", \"'15\"],\n",
       " ['e', '2', '']]"
      ]
     },
     "execution_count": 31,
     "metadata": {},
     "output_type": "execute_result"
    }
   ],
   "source": [
    "csv"
   ]
  },
  {
   "cell_type": "code",
   "execution_count": 35,
   "metadata": {
    "scrolled": true
   },
   "outputs": [
    {
     "data": {
      "text/plain": [
       "[['a', '1', '1'],\n",
       " ['b', '2', '13'],\n",
       " ['c', '', '\"14'],\n",
       " ['\\\\N', '\\\\N', ' \"0'],\n",
       " ['a', ' \\\\N', ' \"0'],\n",
       " ['a', '0', ''],\n",
       " ['\\\\N', '\\\\N', '\\\\'],\n",
       " ['b', '1', '1'],\n",
       " ['a', '2', '1'],\n",
       " ['d', '', '1'],\n",
       " ['\\\\N', '\\\\N', '1'],\n",
       " ['\\\\N', '', ''],\n",
       " ['\\\\N', '3', '\\\\'],\n",
       " ['b', '1', '1'],\n",
       " ['\\\\N', '4', '1'],\n",
       " ['a', '3', '1'],\n",
       " ['\\\\N', '3', '1'],\n",
       " ['\\\\N', \"'\\\\N'\", \"'15\"],\n",
       " ['e', '2', '']]"
      ]
     },
     "execution_count": 35,
     "metadata": {},
     "output_type": "execute_result"
    }
   ],
   "source": [
    "## Regla2: los valores nulos se notan como \"\\N\"\n",
    "#es más simple procesar cada linea como un string\n",
    "\n",
    "text = [\",\".join(line) for line in csv]\n",
    "text = [line.replace(\"\\\\n\", \"\\\\N\") for line in text]\n",
    "csv = [line.split(\",\") for line in text]\n",
    "csv\n"
   ]
  },
  {
   "cell_type": "code",
   "execution_count": 36,
   "metadata": {
    "scrolled": true
   },
   "outputs": [
    {
     "data": {
      "text/plain": [
       "[['a', '1', '1'],\n",
       " ['b', '2', '13'],\n",
       " ['c', '\\\\N', '\"14'],\n",
       " ['\\\\N', '\\\\N', ' \"0'],\n",
       " ['a', ' \\\\N', ' \"0'],\n",
       " ['a', '0', '\\\\N'],\n",
       " ['\\\\N', '\\\\N', '\\\\'],\n",
       " ['b', '1', '1'],\n",
       " ['a', '2', '1'],\n",
       " ['d', '\\\\N', '1'],\n",
       " ['\\\\N', '\\\\N', '1'],\n",
       " ['\\\\N', '\\\\N', '\\\\N'],\n",
       " ['\\\\N', '3', '\\\\'],\n",
       " ['b', '1', '1'],\n",
       " ['\\\\N', '4', '1'],\n",
       " ['a', '3', '1'],\n",
       " ['\\\\N', '3', '1'],\n",
       " ['\\\\N', \"'\\\\N'\", \"'15\"],\n",
       " ['e', '2', '\\\\N']]"
      ]
     },
     "execution_count": 36,
     "metadata": {},
     "output_type": "execute_result"
    }
   ],
   "source": [
    "# Los \"\" se reemplazan por \"\\N\"\n",
    "csv = [[\"\\\\N\" if field == \"\" else field for field in line] for line in csv]\n",
    "csv"
   ]
  },
  {
   "cell_type": "markdown",
   "metadata": {},
   "source": [
    "### Los valores de la columna 2 son enteros o nulos"
   ]
  },
  {
   "cell_type": "code",
   "execution_count": 39,
   "metadata": {
    "scrolled": true
   },
   "outputs": [
    {
     "data": {
      "text/plain": [
       "[['a', ' \\\\N', ' \"0'], ['\\\\N', \"'\\\\N'\", \"'15\"]]"
      ]
     },
     "execution_count": 39,
     "metadata": {},
     "output_type": "execute_result"
    }
   ],
   "source": [
    "## Se imprimen los registros con problemas\n",
    "[line for line in csv if not line[1].isdigit() and line[1] != \"\\\\N\"]"
   ]
  },
  {
   "cell_type": "code",
   "execution_count": 40,
   "metadata": {
    "scrolled": true
   },
   "outputs": [
    {
     "data": {
      "text/plain": [
       "[['a', '1', '1'],\n",
       " ['b', '2', '13'],\n",
       " ['c', '\\\\N', '\"14'],\n",
       " ['\\\\N', '\\\\N', ' \"0'],\n",
       " ['a', ' \\\\N', ' \"0'],\n",
       " ['a', '0', '\\\\N'],\n",
       " ['\\\\N', '\\\\N', '\\\\'],\n",
       " ['b', '1', '1'],\n",
       " ['a', '2', '1'],\n",
       " ['d', '\\\\N', '1'],\n",
       " ['\\\\N', '\\\\N', '1'],\n",
       " ['\\\\N', '\\\\N', '\\\\N'],\n",
       " ['\\\\N', '3', '\\\\'],\n",
       " ['b', '1', '1'],\n",
       " ['\\\\N', '4', '1'],\n",
       " ['a', '3', '1'],\n",
       " ['\\\\N', '3', '1'],\n",
       " ['\\\\N', '\\\\N', \"'15\"],\n",
       " ['e', '2', '\\\\N']]"
      ]
     },
     "execution_count": 40,
     "metadata": {},
     "output_type": "execute_result"
    }
   ],
   "source": [
    "## Hay nulos con comillas simples\n",
    "\n",
    "text = [\",\".join(line) for line in csv]\n",
    "text = [line.replace(\"'\\\\N'\", \"\\\\N\") for line in text]\n",
    "csv = [line.split(\",\") for line in text]\n",
    "csv"
   ]
  },
  {
   "cell_type": "markdown",
   "metadata": {},
   "source": [
    "### Los valores de la comuna 3 son enteros o nulos"
   ]
  },
  {
   "cell_type": "code",
   "execution_count": 41,
   "metadata": {
    "scrolled": true
   },
   "outputs": [
    {
     "data": {
      "text/plain": [
       "[['c', '\\\\N', '\"14'],\n",
       " ['\\\\N', '\\\\N', ' \"0'],\n",
       " ['a', ' \\\\N', ' \"0'],\n",
       " ['\\\\N', '\\\\N', '\\\\'],\n",
       " ['\\\\N', '3', '\\\\'],\n",
       " ['\\\\N', '\\\\N', \"'15\"]]"
      ]
     },
     "execution_count": 41,
     "metadata": {},
     "output_type": "execute_result"
    }
   ],
   "source": [
    "## Se imprimen los registros con problemas\n",
    "[line for line in csv if not line[2].isdigit() and line[2] != \"\\\\N\"]"
   ]
  },
  {
   "cell_type": "code",
   "execution_count": 43,
   "metadata": {
    "scrolled": true
   },
   "outputs": [
    {
     "data": {
      "text/plain": [
       "[['a', '1', '1'],\n",
       " ['b', '2', '13'],\n",
       " ['c', '\\\\N', '\"14'],\n",
       " ['\\\\N', '\\\\N', ' \"0'],\n",
       " ['a', ' \\\\N', ' \"0'],\n",
       " ['a', '0', '\\\\N'],\n",
       " ['\\\\N', '\\\\N', '\\\\'],\n",
       " ['b', '1', '1'],\n",
       " ['a', '2', '1'],\n",
       " ['d', '\\\\N', '1'],\n",
       " ['\\\\N', '\\\\N', '1'],\n",
       " ['\\\\N', '\\\\N', '\\\\N'],\n",
       " ['\\\\N', '3', '\\\\'],\n",
       " ['b', '1', '1'],\n",
       " ['\\\\N', '4', '1'],\n",
       " ['a', '3', '1'],\n",
       " ['\\\\N', '3', '1'],\n",
       " ['\\\\N', '\\\\N', '1'],\n",
       " ['e', '2', '\\\\N']]"
      ]
     },
     "execution_count": 43,
     "metadata": {},
     "output_type": "execute_result"
    }
   ],
   "source": [
    "## Hay valores entre comillas simples\n",
    "\n",
    "csv = [line[:2] + [line[2][1:-1]] if (line[2][0] == \"'\" and line[2] != \"\\\\N\") else line for line in csv]\n",
    "csv"
   ]
  },
  {
   "cell_type": "markdown",
   "metadata": {},
   "source": [
    "## Se genera el archivo de salid"
   ]
  },
  {
   "cell_type": "code",
   "execution_count": 44,
   "metadata": {
    "scrolled": true
   },
   "outputs": [
    {
     "data": {
      "text/plain": [
       "['a,1,1',\n",
       " 'b,2,13',\n",
       " 'c,\\\\N,\"14',\n",
       " '\\\\N,\\\\N, \"0',\n",
       " 'a, \\\\N, \"0',\n",
       " 'a,0,\\\\N',\n",
       " '\\\\N,\\\\N,\\\\',\n",
       " 'b,1,1',\n",
       " 'a,2,1',\n",
       " 'd,\\\\N,1',\n",
       " '\\\\N,\\\\N,1',\n",
       " '\\\\N,\\\\N,\\\\N',\n",
       " '\\\\N,3,\\\\',\n",
       " 'b,1,1',\n",
       " '\\\\N,4,1',\n",
       " 'a,3,1',\n",
       " '\\\\N,3,1',\n",
       " '\\\\N,\\\\N,1',\n",
       " 'e,2,\\\\N']"
      ]
     },
     "execution_count": 44,
     "metadata": {},
     "output_type": "execute_result"
    }
   ],
   "source": [
    "text = [\",\".join(line) for line in csv]\n",
    "text\n"
   ]
  },
  {
   "cell_type": "code",
   "execution_count": 45,
   "metadata": {},
   "outputs": [],
   "source": [
    "text = \"\\n\".join(text)"
   ]
  },
  {
   "cell_type": "code",
   "execution_count": 47,
   "metadata": {},
   "outputs": [],
   "source": [
    "with open(\"summary.csv\", \"w\") as f:\n",
    "    f.write(text)"
   ]
  },
  {
   "cell_type": "code",
   "execution_count": 50,
   "metadata": {
    "scrolled": true
   },
   "outputs": [
    {
     "name": "stderr",
     "output_type": "stream",
     "text": [
      "'cat' is not recognized as an internal or external command,\n",
      "operable program or batch file.\n"
     ]
    }
   ],
   "source": [
    "!cat summary.csv"
   ]
  },
  {
   "cell_type": "code",
   "execution_count": 51,
   "metadata": {},
   "outputs": [
    {
     "name": "stderr",
     "output_type": "stream",
     "text": [
      "'rm' is not recognized as an internal or external command,\n",
      "operable program or batch file.\n",
      "'rm' is not recognized as an internal or external command,\n",
      "operable program or batch file.\n"
     ]
    }
   ],
   "source": [
    "## limpia el directorio de trabajo\n",
    "!rm -rf directory\n",
    "!rm summary.cs"
   ]
  }
 ],
 "metadata": {
  "kernelspec": {
   "display_name": "Python 3",
   "language": "python",
   "name": "python3"
  },
  "language_info": {
   "codemirror_mode": {
    "name": "ipython",
    "version": 3
   },
   "file_extension": ".py",
   "mimetype": "text/x-python",
   "name": "python",
   "nbconvert_exporter": "python",
   "pygments_lexer": "ipython3",
   "version": "3.8.3"
  }
 },
 "nbformat": 4,
 "nbformat_minor": 4
}
