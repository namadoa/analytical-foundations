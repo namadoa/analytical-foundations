{
 "cells": [
  {
   "cell_type": "code",
   "execution_count": 9,
   "metadata": {},
   "outputs": [],
   "source": [
    "# importar las librerías\n",
    "\n",
    "import numpy as np\n",
    "import pandas as pd\n",
    "\n",
    "import matplotlib.pyplot as plt\n",
    "import matplotlib as mpl\n",
    "pd.set_option('display.notebook_repr_html', False)"
   ]
  },
  {
   "cell_type": "code",
   "execution_count": 10,
   "metadata": {},
   "outputs": [
    {
     "data": {
      "text/plain": [
       "   Sepal_Length  Sepal_Width  Petal_Length  Petal_Width Species\n",
       "0           5.1          3.5           1.4          0.2  setosa\n",
       "1           4.9          3.0           1.4          0.2  setosa\n",
       "2           4.7          3.2           1.3          0.2  setosa\n",
       "3           4.6          3.1           1.5          0.2  setosa\n",
       "4           5.0          3.6           1.4          0.2  setosa"
      ]
     },
     "execution_count": 10,
     "metadata": {},
     "output_type": "execute_result"
    }
   ],
   "source": [
    "df = pd.read_csv(\n",
    "    \"https://raw.githubusercontent.com/jdvelasq/datalabs/master/datasets/iris.csv\",\n",
    "    sep = ',',         # separador de campos\n",
    "    thousands = None,  # separador de miles para números\n",
    "    decimal = '.')     # separador de los decimales para números\n",
    "\n",
    "df.head()"
   ]
  },
  {
   "cell_type": "markdown",
   "metadata": {},
   "source": [
    "## Melt & Pivot"
   ]
  },
  {
   "cell_type": "code",
   "execution_count": 11,
   "metadata": {
    "scrolled": true
   },
   "outputs": [
    {
     "data": {
      "text/plain": [
       "   Sepal_Length  Sepal_Width  Petal_Length  Petal_Width Species  id\n",
       "0           5.1          3.5           1.4          0.2  setosa   0\n",
       "1           4.9          3.0           1.4          0.2  setosa   1\n",
       "2           4.7          3.2           1.3          0.2  setosa   2\n",
       "3           4.6          3.1           1.5          0.2  setosa   3\n",
       "4           5.0          3.6           1.4          0.2  setosa   4"
      ]
     },
     "execution_count": 11,
     "metadata": {},
     "output_type": "execute_result"
    }
   ],
   "source": [
    "##\n",
    "## agrega una clave para identificar cada caso\n",
    "##\n",
    "df[\"id\"] = list(range(150))\n",
    "df.head()"
   ]
  },
  {
   "cell_type": "code",
   "execution_count": 13,
   "metadata": {
    "scrolled": true
   },
   "outputs": [
    {
     "data": {
      "text/plain": [
       "   id     Variables Values\n",
       "0   0  Sepal_Length    5.1\n",
       "1   1  Sepal_Length    4.9\n",
       "2   2  Sepal_Length    4.7\n",
       "3   3  Sepal_Length    4.6\n",
       "4   4  Sepal_Length      5"
      ]
     },
     "execution_count": 13,
     "metadata": {},
     "output_type": "execute_result"
    }
   ],
   "source": [
    "df_melt = pd.melt(\n",
    "    df,\n",
    "    id_vars = \"id\",   #columnas que no se apilan\n",
    "    var_name = \"Variables\", #nombre de la columna que contiene las columnas apiladas\n",
    "    value_name = \"Values\") #nombre de la columna que contiene los valores)\n",
    "df_melt.head()"
   ]
  },
  {
   "cell_type": "code",
   "execution_count": 14,
   "metadata": {
    "scrolled": false
   },
   "outputs": [
    {
     "data": {
      "text/plain": [
       "      id Variables     Values\n",
       "745  145   Species  virginica\n",
       "746  146   Species  virginica\n",
       "747  147   Species  virginica\n",
       "748  148   Species  virginica\n",
       "749  149   Species  virginica"
      ]
     },
     "execution_count": 14,
     "metadata": {},
     "output_type": "execute_result"
    }
   ],
   "source": [
    "df_melt.tail()"
   ]
  },
  {
   "cell_type": "code",
   "execution_count": 15,
   "metadata": {
    "scrolled": true
   },
   "outputs": [
    {
     "data": {
      "text/plain": [
       "Variables Petal_Length Petal_Width Sepal_Length Sepal_Width Species\n",
       "id                                                                 \n",
       "0                  1.4         0.2          5.1         3.5  setosa\n",
       "1                  1.4         0.2          4.9           3  setosa\n",
       "2                  1.3         0.2          4.7         3.2  setosa\n",
       "3                  1.5         0.2          4.6         3.1  setosa\n",
       "4                  1.4         0.2            5         3.6  setosa\n",
       "5                  1.7         0.4          5.4         3.9  setosa\n",
       "6                  1.4         0.3          4.6         3.4  setosa\n",
       "7                  1.5         0.2            5         3.4  setosa\n",
       "8                  1.4         0.2          4.4         2.9  setosa\n",
       "9                  1.5         0.1          4.9         3.1  setosa"
      ]
     },
     "execution_count": 15,
     "metadata": {},
     "output_type": "execute_result"
    }
   ],
   "source": [
    "df_melt.pivot(\n",
    "    index = \"id\",\n",
    "    columns = \"Variables\",\n",
    "    values = \"Values\").head(10)"
   ]
  },
  {
   "cell_type": "code",
   "execution_count": null,
   "metadata": {},
   "outputs": [],
   "source": [
    "%%R -i df\n",
    "library(dplyr)\n",
    "library(reshape2)\n",
    "\n",
    "df_melt <- melt(df,\n",
    "                id = 'id',\n",
    "                measured = c('Sepal_Length', 'Sepal_Width', 'Petal_Length',\n",
    "                             'Petal_Width', 'Species'))\n",
    "df_melt %>% head(10)"
   ]
  },
  {
   "cell_type": "code",
   "execution_count": null,
   "metadata": {},
   "outputs": [],
   "source": [
    "%%R\n",
    "df_melt %>% dcast(id ~ variable, value.var = \"value\") %>% head(10)"
   ]
  },
  {
   "cell_type": "code",
   "execution_count": null,
   "metadata": {},
   "outputs": [],
   "source": [
    "%%R\n",
    "library(tidyr)\n",
    "\n",
    "df_melt <- df %>% gather(key, value, -id)\n",
    "df_melt %>% head(10)"
   ]
  },
  {
   "cell_type": "code",
   "execution_count": null,
   "metadata": {},
   "outputs": [],
   "source": [
    "%%R\n",
    "df_melt %>% tail(10)"
   ]
  },
  {
   "cell_type": "code",
   "execution_count": null,
   "metadata": {},
   "outputs": [],
   "source": [
    "%%R\n",
    "df_melt %>% spread(key, value)  %>% head(10)"
   ]
  },
  {
   "cell_type": "markdown",
   "metadata": {},
   "source": [
    "## Stack & Unstack"
   ]
  },
  {
   "cell_type": "code",
   "execution_count": 17,
   "metadata": {},
   "outputs": [
    {
     "data": {
      "text/plain": [
       "     Sepal_Length  Sepal_Width  Petal_Length  Petal_Width    Species   id\n",
       "0             5.1          3.5           1.4          0.2     setosa    0\n",
       "1             4.9          3.0           1.4          0.2     setosa    1\n",
       "2             4.7          3.2           1.3          0.2     setosa    2\n",
       "3             4.6          3.1           1.5          0.2     setosa    3\n",
       "4             5.0          3.6           1.4          0.2     setosa    4\n",
       "..            ...          ...           ...          ...        ...  ...\n",
       "145           6.7          3.0           5.2          2.3  virginica  145\n",
       "146           6.3          2.5           5.0          1.9  virginica  146\n",
       "147           6.5          3.0           5.2          2.0  virginica  147\n",
       "148           6.2          3.4           5.4          2.3  virginica  148\n",
       "149           5.9          3.0           5.1          1.8  virginica  149\n",
       "\n",
       "[150 rows x 6 columns]"
      ]
     },
     "execution_count": 17,
     "metadata": {},
     "output_type": "execute_result"
    }
   ],
   "source": [
    "df"
   ]
  },
  {
   "cell_type": "code",
   "execution_count": 16,
   "metadata": {},
   "outputs": [
    {
     "data": {
      "text/plain": [
       "0  Sepal_Length       5.1\n",
       "   Sepal_Width        3.5\n",
       "   Petal_Length       1.4\n",
       "   Petal_Width        0.2\n",
       "   Species         setosa\n",
       "   id                   0\n",
       "1  Sepal_Length       4.9\n",
       "   Sepal_Width          3\n",
       "   Petal_Length       1.4\n",
       "   Petal_Width        0.2\n",
       "   Species         setosa\n",
       "   id                   1\n",
       "2  Sepal_Length       4.7\n",
       "   Sepal_Width        3.2\n",
       "   Petal_Length       1.3\n",
       "   Petal_Width        0.2\n",
       "   Species         setosa\n",
       "   id                   2\n",
       "3  Sepal_Length       4.6\n",
       "   Sepal_Width        3.1\n",
       "   Petal_Length       1.5\n",
       "   Petal_Width        0.2\n",
       "   Species         setosa\n",
       "   id                   3\n",
       "dtype: object"
      ]
     },
     "execution_count": 16,
     "metadata": {},
     "output_type": "execute_result"
    }
   ],
   "source": [
    "df.stack().head(24)"
   ]
  },
  {
   "cell_type": "code",
   "execution_count": 18,
   "metadata": {},
   "outputs": [
    {
     "data": {
      "text/plain": [
       "  Sepal_Length Sepal_Width Petal_Length Petal_Width Species id\n",
       "0          5.1         3.5          1.4         0.2  setosa  0\n",
       "1          4.9           3          1.4         0.2  setosa  1\n",
       "2          4.7         3.2          1.3         0.2  setosa  2\n",
       "3          4.6         3.1          1.5         0.2  setosa  3"
      ]
     },
     "execution_count": 18,
     "metadata": {},
     "output_type": "execute_result"
    }
   ],
   "source": [
    "df.stack().unstack().head(4)"
   ]
  },
  {
   "cell_type": "markdown",
   "metadata": {},
   "source": [
    "# Tablas dinámicas"
   ]
  },
  {
   "cell_type": "code",
   "execution_count": 20,
   "metadata": {},
   "outputs": [
    {
     "data": {
      "text/plain": [
       "  key1 key2  values1  values2\n",
       "0    a    A        1        7\n",
       "1    a    B        2        8\n",
       "2    b    A        3        9\n",
       "3    b    B        4       10\n",
       "4    c    A        5       11\n",
       "5    c    B        6       12"
      ]
     },
     "execution_count": 20,
     "metadata": {},
     "output_type": "execute_result"
    }
   ],
   "source": [
    "df = pd.DataFrame({\n",
    "    \"key1\" : [\"a\", \"a\", \"b\", \"b\", \"c\", \"c\"],\n",
    "    \"key2\" : [\"A\", \"B\", \"A\", \"B\", \"A\", \"B\"],\n",
    "    \"values1\" : [1, 2, 3, 4, 5, 6],\n",
    "    \"values2\": [7, 8, 9, 10, 11, 12]\n",
    "})\n",
    "df"
   ]
  },
  {
   "cell_type": "code",
   "execution_count": 21,
   "metadata": {},
   "outputs": [
    {
     "data": {
      "text/plain": [
       "           values1  values2\n",
       "key1 key2                  \n",
       "a    A           1        7\n",
       "     B           2        8\n",
       "b    A           3        9\n",
       "     B           4       10\n",
       "c    A           5       11\n",
       "     B           6       12"
      ]
     },
     "execution_count": 21,
     "metadata": {},
     "output_type": "execute_result"
    }
   ],
   "source": [
    "pd.pivot_table(\n",
    "    df,\n",
    "    index = [\"key1\", \"key2\"],\n",
    "    values = [\"values1\", \"values2\"])"
   ]
  },
  {
   "cell_type": "code",
   "execution_count": 22,
   "metadata": {
    "scrolled": true
   },
   "outputs": [
    {
     "data": {
      "text/plain": [
       "           values1  values2\n",
       "key2 key1                  \n",
       "A    a           1        7\n",
       "     b           3        9\n",
       "     c           5       11\n",
       "B    a           2        8\n",
       "     b           4       10\n",
       "     c           6       12"
      ]
     },
     "execution_count": 22,
     "metadata": {},
     "output_type": "execute_result"
    }
   ],
   "source": [
    "pd.pivot_table(\n",
    "    df,\n",
    "    index = [\"key2\", \"key1\"],\n",
    "    values = [\"values1\", \"values2\"])"
   ]
  },
  {
   "cell_type": "markdown",
   "metadata": {},
   "source": [
    "## Paneles de DataFrames"
   ]
  },
  {
   "cell_type": "code",
   "execution_count": 23,
   "metadata": {},
   "outputs": [],
   "source": [
    "## se crean los DataFrames\n",
    "df1 = pd.DataFrame({\n",
    "    \"colA\": [1, 2],\n",
    "    \"colB\": [3, 4]\n",
    "})\n",
    "\n",
    "df2 = pd.DataFrame({\n",
    "    \"colB\": [5, 6],\n",
    "    \"colC\": [7, 8]\n",
    "})\n",
    "\n",
    "df3 = pd.DataFrame({\n",
    "    \"colC\": [9, 0],\n",
    "    \"colD\": [1, 2]\n",
    "})"
   ]
  },
  {
   "cell_type": "code",
   "execution_count": 24,
   "metadata": {},
   "outputs": [
    {
     "name": "stdout",
     "output_type": "stream",
     "text": [
      "{'df1':    colA  colB\n",
      "0     1     3\n",
      "1     2     4, 'df2':    colB  colC\n",
      "0     5     7\n",
      "1     6     8, 'df3':    colC  colD\n",
      "0     9     1\n",
      "1     0     2}\n"
     ]
    }
   ],
   "source": [
    "## creación del panel como un diccionario\n",
    "pdPanel = {\"df1\": df1,\n",
    "          \"df2\": df2,\n",
    "          \"df3\": df3}\n",
    "print(pdPanel)"
   ]
  },
  {
   "cell_type": "code",
   "execution_count": null,
   "metadata": {},
   "outputs": [],
   "source": []
  },
  {
   "cell_type": "code",
   "execution_count": null,
   "metadata": {},
   "outputs": [],
   "source": []
  },
  {
   "cell_type": "code",
   "execution_count": null,
   "metadata": {},
   "outputs": [],
   "source": []
  },
  {
   "cell_type": "code",
   "execution_count": null,
   "metadata": {},
   "outputs": [],
   "source": []
  }
 ],
 "metadata": {
  "kernelspec": {
   "display_name": "Python 3",
   "language": "python",
   "name": "python3"
  },
  "language_info": {
   "codemirror_mode": {
    "name": "ipython",
    "version": 3
   },
   "file_extension": ".py",
   "mimetype": "text/x-python",
   "name": "python",
   "nbconvert_exporter": "python",
   "pygments_lexer": "ipython3",
   "version": "3.8.3"
  }
 },
 "nbformat": 4,
 "nbformat_minor": 4
}
