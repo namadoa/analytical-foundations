{
 "cells": [
  {
   "cell_type": "code",
   "execution_count": 2,
   "metadata": {},
   "outputs": [],
   "source": [
    "import pandas as pd\n",
    "import numpy as np\n",
    "pd.set_option('display.notebook_repr_html', False)"
   ]
  },
  {
   "cell_type": "code",
   "execution_count": 3,
   "metadata": {},
   "outputs": [
    {
     "data": {
      "text/plain": [
       "   Sepal_Length  Sepal_Width  Petal_Length  Petal_Width Species\n",
       "0           5.1          3.5           1.4          0.2  setosa\n",
       "1           4.9          3.0           1.4          0.2  setosa\n",
       "2           4.7          3.2           1.3          0.2  setosa\n",
       "3           4.6          3.1           1.5          0.2  setosa\n",
       "4           5.0          3.6           1.4          0.2  setosa"
      ]
     },
     "execution_count": 3,
     "metadata": {},
     "output_type": "execute_result"
    }
   ],
   "source": [
    "df = pd.read_csv(\n",
    "    \"https://raw.githubusercontent.com/jdvelasq/datalabs/master/datasets/iris.csv\",\n",
    "    sep = ',',\n",
    "    thousands = None,\n",
    "    decimal = '.')\n",
    "\n",
    "df.head()"
   ]
  },
  {
   "cell_type": "markdown",
   "metadata": {},
   "source": [
    "## Variables dummy"
   ]
  },
  {
   "cell_type": "code",
   "execution_count": 4,
   "metadata": {},
   "outputs": [
    {
     "data": {
      "text/plain": [
       "     setosa  versicolor  virginica\n",
       "0         1           0          0\n",
       "1         1           0          0\n",
       "2         1           0          0\n",
       "3         1           0          0\n",
       "4         1           0          0\n",
       "..      ...         ...        ...\n",
       "145       0           0          1\n",
       "146       0           0          1\n",
       "147       0           0          1\n",
       "148       0           0          1\n",
       "149       0           0          1\n",
       "\n",
       "[150 rows x 3 columns]"
      ]
     },
     "execution_count": 4,
     "metadata": {},
     "output_type": "execute_result"
    }
   ],
   "source": [
    "##\n",
    "## genera variables dummies para variables categóricas.\n",
    "##\n",
    "pd.get_dummies(df.Species)"
   ]
  },
  {
   "cell_type": "markdown",
   "metadata": {},
   "source": [
    "## Inserción de filas"
   ]
  },
  {
   "cell_type": "code",
   "execution_count": 5,
   "metadata": {
    "scrolled": false
   },
   "outputs": [
    {
     "data": {
      "text/plain": [
       "     Sepal_Length  Sepal_Width  Petal_Length  Petal_Width    Species\n",
       "146           6.3          2.5           5.0          1.9  virginica\n",
       "147           6.5          3.0           5.2          2.0  virginica\n",
       "148           6.2          3.4           5.4          2.3  virginica\n",
       "149           5.9          3.0           5.1          1.8  virginica\n",
       "150           1.0          1.0           1.0          1.0     setosa"
      ]
     },
     "execution_count": 5,
     "metadata": {},
     "output_type": "execute_result"
    }
   ],
   "source": [
    "## adición de una fila (al final)\n",
    "\n",
    "u = pd.DataFrame({\"Sepal_Length\": [1],\n",
    "                 \"Sepal_Width\": [1],\n",
    "                 \"Petal_Length\": [1],\n",
    "                 \"Petal_Width\": [1],\n",
    "                 \"Species\": [\"setosa\"]})\n",
    "\n",
    "df.append(u, ignore_index = True).tail()"
   ]
  },
  {
   "cell_type": "markdown",
   "metadata": {},
   "source": [
    "# Casos duplicados y datos faltantes\n"
   ]
  },
  {
   "cell_type": "code",
   "execution_count": 7,
   "metadata": {
    "scrolled": true
   },
   "outputs": [
    {
     "data": {
      "text/plain": [
       "array([ 15,  78, 128, 103, 122,  89, 106,  58,  67,  72, 110,   6,  84,\n",
       "       149, 112, 125, 143,  11,  26,  14])"
      ]
     },
     "execution_count": 7,
     "metadata": {},
     "output_type": "execute_result"
    }
   ],
   "source": [
    "## se crea un vector aleatorio de indices\n",
    "\n",
    "u = np.random.choice(\n",
    "    range(150),\n",
    "    size = 20,\n",
    "    replace = False)\n",
    "u"
   ]
  },
  {
   "cell_type": "code",
   "execution_count": 8,
   "metadata": {
    "scrolled": true
   },
   "outputs": [
    {
     "data": {
      "text/plain": [
       "     Sepal_Length  Sepal_Width  Petal_Length  Petal_Width     Species\n",
       "15            5.7          4.4           1.5          0.4      setosa\n",
       "78            6.0          2.9           4.5          1.5  versicolor\n",
       "128           6.4          2.8           5.6          2.1   virginica\n",
       "103           6.3          2.9           5.6          1.8   virginica\n",
       "122           7.7          2.8           6.7          2.0   virginica"
      ]
     },
     "execution_count": 8,
     "metadata": {},
     "output_type": "execute_result"
    }
   ],
   "source": [
    "## submuestra de data.frame original \"x\"\n",
    "y = df.loc[u].copy()\n",
    "y.head()"
   ]
  },
  {
   "cell_type": "code",
   "execution_count": 9,
   "metadata": {
    "scrolled": true
   },
   "outputs": [
    {
     "data": {
      "text/plain": [
       "    Sepal_Length  Sepal_Width  Petal_Length  Petal_Width     Species\n",
       "0            5.7          4.4           1.5          0.4      setosa\n",
       "1            6.0          2.9           4.5          1.5  versicolor\n",
       "2            6.4          2.8           5.6          2.1   virginica\n",
       "3            6.3          2.9           5.6          1.8   virginica\n",
       "4            7.7          2.8           6.7          2.0   virginica\n",
       "5            5.5          2.5           4.0          1.3  versicolor\n",
       "6            4.9          2.5           4.5          1.7   virginica\n",
       "7            6.6          2.9           4.6          1.3  versicolor\n",
       "8            5.8          2.7           4.1          1.0  versicolor\n",
       "9            6.3          2.5           4.9          1.5  versicolor\n",
       "10           6.5          3.2           5.1          2.0   virginica\n",
       "11           4.6          3.4           1.4          0.3      setosa\n",
       "12           5.4          3.0           4.5          1.5  versicolor\n",
       "13           5.9          3.0           5.1          1.8   virginica\n",
       "14           6.8          3.0           5.5          2.1   virginica\n",
       "15           7.2          3.2           6.0          1.8   virginica\n",
       "16           6.8          3.2           5.9          2.3   virginica\n",
       "17           4.8          3.4           1.6          0.2      setosa\n",
       "18           5.0          3.4           1.6          0.4      setosa\n",
       "19           5.8          4.0           1.2          0.2      setosa"
      ]
     },
     "execution_count": 9,
     "metadata": {},
     "output_type": "execute_result"
    }
   ],
   "source": [
    "## cambia los nombres de las filas\n",
    "y.index = list(range(20))\n",
    "y"
   ]
  },
  {
   "cell_type": "code",
   "execution_count": 10,
   "metadata": {},
   "outputs": [
    {
     "data": {
      "text/plain": [
       "array([ 6, 18, 10,  0,  2,  1,  8, 14, 19,  3])"
      ]
     },
     "execution_count": 10,
     "metadata": {},
     "output_type": "execute_result"
    }
   ],
   "source": [
    "## de la submuestra \"y\" se hacen varios registros incompletos\n",
    "## cambiando varios valores de la columna \"Sepal.length\" por NA\n",
    "\n",
    "u = np.random.choice(range(20), size = 10, replace = False)\n",
    "u"
   ]
  },
  {
   "cell_type": "code",
   "execution_count": 11,
   "metadata": {
    "scrolled": true
   },
   "outputs": [
    {
     "data": {
      "text/plain": [
       "    Sepal_Length  Sepal_Width  Petal_Length  Petal_Width     Species\n",
       "6            4.9          2.5           4.5          1.7   virginica\n",
       "18           5.0          3.4           1.6          0.4      setosa\n",
       "10           6.5          3.2           5.1          2.0   virginica\n",
       "0            5.7          4.4           1.5          0.4      setosa\n",
       "2            6.4          2.8           5.6          2.1   virginica\n",
       "1            6.0          2.9           4.5          1.5  versicolor\n",
       "8            5.8          2.7           4.1          1.0  versicolor\n",
       "14           6.8          3.0           5.5          2.1   virginica\n",
       "19           5.8          4.0           1.2          0.2      setosa\n",
       "3            6.3          2.9           5.6          1.8   virginica"
      ]
     },
     "execution_count": 11,
     "metadata": {},
     "output_type": "execute_result"
    }
   ],
   "source": [
    "y.iloc[u]"
   ]
  },
  {
   "cell_type": "code",
   "execution_count": 13,
   "metadata": {
    "scrolled": true
   },
   "outputs": [
    {
     "data": {
      "text/plain": [
       "    Sepal_Length  Sepal_Width  Petal_Length  Petal_Width     Species\n",
       "0            NaN          4.4           1.5          0.4      setosa\n",
       "1            NaN          2.9           4.5          1.5  versicolor\n",
       "2            NaN          2.8           5.6          2.1   virginica\n",
       "3            NaN          2.9           5.6          1.8   virginica\n",
       "4            7.7          2.8           6.7          2.0   virginica\n",
       "5            5.5          2.5           4.0          1.3  versicolor\n",
       "6            NaN          2.5           4.5          1.7   virginica\n",
       "7            6.6          2.9           4.6          1.3  versicolor\n",
       "8            NaN          2.7           4.1          1.0  versicolor\n",
       "9            6.3          2.5           4.9          1.5  versicolor\n",
       "10           NaN          3.2           5.1          2.0   virginica\n",
       "11           4.6          3.4           1.4          0.3      setosa\n",
       "12           5.4          3.0           4.5          1.5  versicolor\n",
       "13           5.9          3.0           5.1          1.8   virginica\n",
       "14           NaN          3.0           5.5          2.1   virginica\n",
       "15           7.2          3.2           6.0          1.8   virginica\n",
       "16           6.8          3.2           5.9          2.3   virginica\n",
       "17           4.8          3.4           1.6          0.2      setosa\n",
       "18           NaN          3.4           1.6          0.4      setosa\n",
       "19           NaN          4.0           1.2          0.2      setosa"
      ]
     },
     "execution_count": 13,
     "metadata": {},
     "output_type": "execute_result"
    }
   ],
   "source": [
    "## casos con datos faltantes\n",
    "y.loc[u, \"Sepal_Length\"] = np.nan\n",
    "y"
   ]
  },
  {
   "cell_type": "code",
   "execution_count": 14,
   "metadata": {
    "scrolled": true
   },
   "outputs": [
    {
     "data": {
      "text/plain": [
       "     Sepal_Length  Sepal_Width  Petal_Length  Petal_Width     Species\n",
       "145           6.7          3.0           5.2          2.3   virginica\n",
       "146           6.3          2.5           5.0          1.9   virginica\n",
       "147           6.5          3.0           5.2          2.0   virginica\n",
       "148           6.2          3.4           5.4          2.3   virginica\n",
       "149           5.9          3.0           5.1          1.8   virginica\n",
       "150           NaN          4.4           1.5          0.4      setosa\n",
       "151           NaN          2.9           4.5          1.5  versicolor\n",
       "152           NaN          2.8           5.6          2.1   virginica\n",
       "153           NaN          2.9           5.6          1.8   virginica\n",
       "154           7.7          2.8           6.7          2.0   virginica\n",
       "155           5.5          2.5           4.0          1.3  versicolor\n",
       "156           NaN          2.5           4.5          1.7   virginica\n",
       "157           6.6          2.9           4.6          1.3  versicolor\n",
       "158           NaN          2.7           4.1          1.0  versicolor\n",
       "159           6.3          2.5           4.9          1.5  versicolor\n",
       "160           NaN          3.2           5.1          2.0   virginica\n",
       "161           4.6          3.4           1.4          0.3      setosa\n",
       "162           5.4          3.0           4.5          1.5  versicolor\n",
       "163           5.9          3.0           5.1          1.8   virginica\n",
       "164           NaN          3.0           5.5          2.1   virginica\n",
       "165           7.2          3.2           6.0          1.8   virginica\n",
       "166           6.8          3.2           5.9          2.3   virginica\n",
       "167           4.8          3.4           1.6          0.2      setosa\n",
       "168           NaN          3.4           1.6          0.4      setosa\n",
       "169           NaN          4.0           1.2          0.2      setosa"
      ]
     },
     "execution_count": 14,
     "metadata": {},
     "output_type": "execute_result"
    }
   ],
   "source": [
    "## apilado de dataframes\n",
    "## Los casos 151 a 170 contienen casos duplicados o\n",
    "## casos con datos faltantes\n",
    "w = pd.concat([df, y])\n",
    "w.index = list(range(170))\n",
    "w.tail(25)"
   ]
  },
  {
   "cell_type": "code",
   "execution_count": 15,
   "metadata": {
    "scrolled": true
   },
   "outputs": [
    {
     "data": {
      "text/plain": [
       "     Sepal_Length  Sepal_Width  Petal_Length  Petal_Width     Species\n",
       "142           5.8          2.7           5.1          1.9   virginica\n",
       "154           7.7          2.8           6.7          2.0   virginica\n",
       "155           5.5          2.5           4.0          1.3  versicolor\n",
       "157           6.6          2.9           4.6          1.3  versicolor\n",
       "159           6.3          2.5           4.9          1.5  versicolor\n",
       "161           4.6          3.4           1.4          0.3      setosa\n",
       "162           5.4          3.0           4.5          1.5  versicolor\n",
       "163           5.9          3.0           5.1          1.8   virginica\n",
       "165           7.2          3.2           6.0          1.8   virginica\n",
       "166           6.8          3.2           5.9          2.3   virginica\n",
       "167           4.8          3.4           1.6          0.2      setosa"
      ]
     },
     "execution_count": 15,
     "metadata": {},
     "output_type": "execute_result"
    }
   ],
   "source": [
    "## casos duplicados\n",
    "## note que el caso 142 aparece duplicado\n",
    "w[w.duplicated()]"
   ]
  },
  {
   "cell_type": "code",
   "execution_count": 16,
   "metadata": {
    "scrolled": true
   },
   "outputs": [
    {
     "data": {
      "text/plain": [
       "     Sepal_Length  Sepal_Width  Petal_Length  Petal_Width     Species\n",
       "139           6.9          3.1           5.4          2.1   virginica\n",
       "140           6.7          3.1           5.6          2.4   virginica\n",
       "141           6.9          3.1           5.1          2.3   virginica\n",
       "143           6.8          3.2           5.9          2.3   virginica\n",
       "144           6.7          3.3           5.7          2.5   virginica\n",
       "145           6.7          3.0           5.2          2.3   virginica\n",
       "146           6.3          2.5           5.0          1.9   virginica\n",
       "147           6.5          3.0           5.2          2.0   virginica\n",
       "148           6.2          3.4           5.4          2.3   virginica\n",
       "149           5.9          3.0           5.1          1.8   virginica\n",
       "150           NaN          4.4           1.5          0.4      setosa\n",
       "151           NaN          2.9           4.5          1.5  versicolor\n",
       "152           NaN          2.8           5.6          2.1   virginica\n",
       "153           NaN          2.9           5.6          1.8   virginica\n",
       "156           NaN          2.5           4.5          1.7   virginica\n",
       "158           NaN          2.7           4.1          1.0  versicolor\n",
       "160           NaN          3.2           5.1          2.0   virginica\n",
       "164           NaN          3.0           5.5          2.1   virginica\n",
       "168           NaN          3.4           1.6          0.4      setosa\n",
       "169           NaN          4.0           1.2          0.2      setosa"
      ]
     },
     "execution_count": 16,
     "metadata": {},
     "output_type": "execute_result"
    }
   ],
   "source": [
    "# casos únicos o no duplicados\n",
    "## incluye los casos con valores NA como únicos\n",
    "## note que se eliminaron varios casos entre el 151 y 170\n",
    "w.drop_duplicates().tail(20)"
   ]
  },
  {
   "cell_type": "code",
   "execution_count": 17,
   "metadata": {
    "scrolled": true
   },
   "outputs": [
    {
     "data": {
      "text/plain": [
       "160     True\n",
       "161    False\n",
       "162    False\n",
       "163    False\n",
       "164     True\n",
       "165    False\n",
       "166    False\n",
       "167    False\n",
       "168     True\n",
       "169     True\n",
       "Name: Sepal_Length, dtype: bool"
      ]
     },
     "execution_count": 17,
     "metadata": {},
     "output_type": "execute_result"
    }
   ],
   "source": [
    "## casos nulos\n",
    "w[\"Sepal_Length\"].isnull().tail(10)"
   ]
  },
  {
   "cell_type": "code",
   "execution_count": 18,
   "metadata": {
    "scrolled": true
   },
   "outputs": [
    {
     "data": {
      "text/plain": [
       "     Sepal_Length  Sepal_Width  Petal_Length  Petal_Width     Species\n",
       "150           NaN          4.4           1.5          0.4      setosa\n",
       "151           NaN          2.9           4.5          1.5  versicolor\n",
       "152           NaN          2.8           5.6          2.1   virginica\n",
       "153           NaN          2.9           5.6          1.8   virginica\n",
       "156           NaN          2.5           4.5          1.7   virginica\n",
       "158           NaN          2.7           4.1          1.0  versicolor\n",
       "160           NaN          3.2           5.1          2.0   virginica\n",
       "164           NaN          3.0           5.5          2.1   virginica\n",
       "168           NaN          3.4           1.6          0.4      setosa\n",
       "169           NaN          4.0           1.2          0.2      setosa"
      ]
     },
     "execution_count": 18,
     "metadata": {},
     "output_type": "execute_result"
    }
   ],
   "source": [
    "w[w[\"Sepal_Length\"].isnull()]"
   ]
  },
  {
   "cell_type": "code",
   "execution_count": 19,
   "metadata": {
    "scrolled": true
   },
   "outputs": [
    {
     "data": {
      "text/plain": [
       "     Sepal_Length  Sepal_Width  Petal_Length  Petal_Width     Species\n",
       "140           6.7          3.1           5.6          2.4   virginica\n",
       "141           6.9          3.1           5.1          2.3   virginica\n",
       "142           5.8          2.7           5.1          1.9   virginica\n",
       "143           6.8          3.2           5.9          2.3   virginica\n",
       "144           6.7          3.3           5.7          2.5   virginica\n",
       "145           6.7          3.0           5.2          2.3   virginica\n",
       "146           6.3          2.5           5.0          1.9   virginica\n",
       "147           6.5          3.0           5.2          2.0   virginica\n",
       "148           6.2          3.4           5.4          2.3   virginica\n",
       "149           5.9          3.0           5.1          1.8   virginica\n",
       "154           7.7          2.8           6.7          2.0   virginica\n",
       "155           5.5          2.5           4.0          1.3  versicolor\n",
       "157           6.6          2.9           4.6          1.3  versicolor\n",
       "159           6.3          2.5           4.9          1.5  versicolor\n",
       "161           4.6          3.4           1.4          0.3      setosa\n",
       "162           5.4          3.0           4.5          1.5  versicolor\n",
       "163           5.9          3.0           5.1          1.8   virginica\n",
       "165           7.2          3.2           6.0          1.8   virginica\n",
       "166           6.8          3.2           5.9          2.3   virginica\n",
       "167           4.8          3.4           1.6          0.2      setosa"
      ]
     },
     "execution_count": 19,
     "metadata": {},
     "output_type": "execute_result"
    }
   ],
   "source": [
    "## casos completos (sin faltantes)\n",
    "w.dropna().tail(20)"
   ]
  },
  {
   "cell_type": "code",
   "execution_count": null,
   "metadata": {},
   "outputs": [],
   "source": []
  }
 ],
 "metadata": {
  "kernelspec": {
   "display_name": "Python 3",
   "language": "python",
   "name": "python3"
  },
  "language_info": {
   "codemirror_mode": {
    "name": "ipython",
    "version": 3
   },
   "file_extension": ".py",
   "mimetype": "text/x-python",
   "name": "python",
   "nbconvert_exporter": "python",
   "pygments_lexer": "ipython3",
   "version": "3.8.3"
  }
 },
 "nbformat": 4,
 "nbformat_minor": 4
}
