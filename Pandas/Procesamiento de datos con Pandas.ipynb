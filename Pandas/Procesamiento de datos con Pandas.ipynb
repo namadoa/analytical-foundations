{
 "cells": [
  {
   "cell_type": "code",
   "execution_count": 1,
   "metadata": {},
   "outputs": [],
   "source": [
    "import pandas as pd\n",
    "import numpy as np"
   ]
  },
  {
   "cell_type": "code",
   "execution_count": 2,
   "metadata": {},
   "outputs": [],
   "source": [
    "pd.set_option(\"display.notebook_repr_html\", False)"
   ]
  },
  {
   "cell_type": "code",
   "execution_count": 3,
   "metadata": {},
   "outputs": [],
   "source": [
    "drivers = pd.read_csv(\n",
    "    \"https://raw.githubusercontent.com/jdvelasq/playground/master/datasets/drivers/drivers.csv\",\n",
    "    sep=\",\",  # separador de campos\n",
    "    thousands=None,  #  separador de miles para números\n",
    "    decimal=\".\",\n",
    ")  #  separador de los decimales para números"
   ]
  },
  {
   "cell_type": "code",
   "execution_count": 5,
   "metadata": {
    "scrolled": true
   },
   "outputs": [
    {
     "data": {
      "text/plain": [
       "   driverId               name        ssn                            location  \\\n",
       "0        10  George Vetticaden  621011971                  244-4532 Nulla Rd.   \n",
       "1        11     Jamie Engesser  262112338                  366-4125 Ac Street   \n",
       "2        12        Paul Coddin  198041975           Ap #622-957 Risus. Street   \n",
       "3        13        Joe Niemiec  139907145                 2071 Hendrerit. Ave   \n",
       "4        14         Adis Cesir  820812209                 Ap #810-1228 In St.   \n",
       "5        15       Rohit Bakshi  239005227                   648-5681 Dui- Rd.   \n",
       "6        16         Tom McCuch  363303105    P.O. Box 313- 962 Parturient Rd.   \n",
       "7        17        Eric Mizell  123808238  P.O. Box 579- 2191 Gravida. Street   \n",
       "8        18          Grant Liu  171010151         Ap #928-3159 Vestibulum Av.   \n",
       "9        19         Ajay Singh  160005158             592-9430 Nonummy Avenue   \n",
       "\n",
       "  certified wage-plan  \n",
       "0         N     miles  \n",
       "1         N     miles  \n",
       "2         Y     hours  \n",
       "3         Y     hours  \n",
       "4         Y     hours  \n",
       "5         Y     hours  \n",
       "6         Y     hours  \n",
       "7         Y     hours  \n",
       "8         Y     hours  \n",
       "9         Y     hours  "
      ]
     },
     "execution_count": 5,
     "metadata": {},
     "output_type": "execute_result"
    }
   ],
   "source": [
    "drivers.head(10)"
   ]
  },
  {
   "cell_type": "markdown",
   "metadata": {},
   "source": [
    "### Creación de la tabla timesheet"
   ]
  },
  {
   "cell_type": "code",
   "execution_count": 6,
   "metadata": {},
   "outputs": [],
   "source": [
    "timesheet = pd.read_csv(\n",
    "   \"https://raw.githubusercontent.com/jdvelasq/playground/master/datasets/drivers/timesheet.csv\",\n",
    "    sep=\",\",  # separador de campos\n",
    "    thousands=None,  #  separador de miles para números\n",
    "    decimal=\".\", #  separador de los decimales para números\n",
    ")  "
   ]
  },
  {
   "cell_type": "code",
   "execution_count": 7,
   "metadata": {
    "scrolled": true
   },
   "outputs": [
    {
     "data": {
      "text/plain": [
       "   driverId  week  hours-logged  miles-logged\n",
       "0        10     1            70          3300\n",
       "1        10     2            70          3300\n",
       "2        10     3            60          2800\n",
       "3        10     4            70          3100\n",
       "4        10     5            70          3200\n",
       "5        10     6            70          3300\n",
       "6        10     7            70          3000\n",
       "7        10     8            70          3300\n",
       "8        10     9            70          3200\n",
       "9        10    10            50          2500"
      ]
     },
     "execution_count": 7,
     "metadata": {},
     "output_type": "execute_result"
    }
   ],
   "source": [
    "timesheet.head(10)"
   ]
  },
  {
   "cell_type": "markdown",
   "metadata": {},
   "source": [
    "### Cantidad de horas y millas de cada conductor por año"
   ]
  },
  {
   "cell_type": "code",
   "execution_count": 9,
   "metadata": {
    "scrolled": true
   },
   "outputs": [
    {
     "data": {
      "text/plain": [
       "          week  hours-logged  miles-logged\n",
       "driverId                                  \n",
       "10        1378          3232        147150\n",
       "11        1378          3642        179300\n",
       "12        1378          2639        135962\n",
       "13        1378          2727        134126\n",
       "14        1378          2781        136624\n",
       "15        1378          2734        138750\n",
       "16        1378          2746        137205\n",
       "17        1378          2701        135992\n",
       "18        1378          2654        137834\n",
       "19        1378          2738        137968\n",
       "20        1378          2644        134564\n",
       "21        1378          2751        138719\n",
       "22        1378          2733        137550\n",
       "23        1378          2750        137980\n",
       "24        1378          2647        134461\n",
       "25        1378          2723        139180\n",
       "26        1378          2730        137530\n",
       "27        1378          2771        137922\n",
       "28        1378          2723        137469\n",
       "29        1378          2760        138255\n",
       "30        1378          2773        137473\n",
       "31        1378          2704        137057\n",
       "32        1378          2736        137422\n",
       "33        1378          2759        139285\n",
       "34        1378          2811        137728\n",
       "35        1378          2728        138727\n",
       "36        1378          2795        138025\n",
       "37        1378          2694        137223\n",
       "38        1378          2760        137464\n",
       "39        1378          2745        138788\n",
       "40        1378          2700        136931\n",
       "41        1378          2723        138407\n",
       "42        1378          2697        136673\n",
       "43        1378          2750        136993"
      ]
     },
     "execution_count": 9,
     "metadata": {},
     "output_type": "execute_result"
    }
   ],
   "source": [
    "sum_timesheet = timesheet.groupby(\"driverId\").sum()\n",
    "sum_timesheet"
   ]
  },
  {
   "cell_type": "code",
   "execution_count": 10,
   "metadata": {
    "scrolled": true
   },
   "outputs": [
    {
     "data": {
      "text/plain": [
       "          hours-logged  miles-logged\n",
       "driverId                            \n",
       "10                3232        147150\n",
       "11                3642        179300\n",
       "12                2639        135962\n",
       "13                2727        134126\n",
       "14                2781        136624"
      ]
     },
     "execution_count": 10,
     "metadata": {},
     "output_type": "execute_result"
    }
   ],
   "source": [
    "sum_timesheet = sum_timesheet[[\"hours-logged\", \"miles-logged\"]]\n",
    "sum_timesheet.head()"
   ]
  },
  {
   "cell_type": "code",
   "execution_count": 11,
   "metadata": {},
   "outputs": [],
   "source": [
    "\n",
    "# sum_timesheet['driverId'] = sum_timesheet.index.tolist()\n",
    "# sum_timesheet.head()"
   ]
  },
  {
   "cell_type": "markdown",
   "metadata": {},
   "source": [
    "# Unión de tablas"
   ]
  },
  {
   "cell_type": "code",
   "execution_count": 12,
   "metadata": {
    "scrolled": true
   },
   "outputs": [
    {
     "data": {
      "text/plain": [
       "    driverId  hours-logged  miles-logged                 name\n",
       "0         10          3232        147150    George Vetticaden\n",
       "1         11          3642        179300       Jamie Engesser\n",
       "2         12          2639        135962          Paul Coddin\n",
       "3         13          2727        134126          Joe Niemiec\n",
       "4         14          2781        136624           Adis Cesir\n",
       "5         15          2734        138750         Rohit Bakshi\n",
       "6         16          2746        137205           Tom McCuch\n",
       "7         17          2701        135992          Eric Mizell\n",
       "8         18          2654        137834            Grant Liu\n",
       "9         19          2738        137968           Ajay Singh\n",
       "10        20          2644        134564         Chris Harris\n",
       "11        21          2751        138719         Jeff Markham\n",
       "12        22          2733        137550        Nadeem Asghar\n",
       "13        23          2750        137980            Adam Diaz\n",
       "14        24          2647        134461          Don Hilborn\n",
       "15        25          2723        139180  Jean-Philippe Playe\n",
       "16        26          2730        137530         Michael Aube\n",
       "17        27          2771        137922      Mark Lochbihler\n",
       "18        28          2723        137469      Olivier Renault\n",
       "19        29          2760        138255           Teddy Choi\n",
       "20        30          2773        137473             Dan Rice\n",
       "21        31          2704        137057        Rommel Garcia\n",
       "22        32          2736        137422       Ryan Templeton\n",
       "23        33          2759        139285    Sridhara Sabbella\n",
       "24        34          2811        137728         Frank Romano\n",
       "25        35          2728        138727          Emil Siemes\n",
       "26        36          2795        138025        Andrew Grande\n",
       "27        37          2694        137223            Wes Floyd\n",
       "28        38          2760        137464           Scott Shaw\n",
       "29        39          2745        138788         David Kaiser\n",
       "30        40          2700        136931     Nicolas Maillard\n",
       "31        41          2723        138407        Greg Phillips\n",
       "32        42          2697        136673      Randy Gelhausen\n",
       "33        43          2750        136993          Dave Patton"
      ]
     },
     "execution_count": 12,
     "metadata": {},
     "output_type": "execute_result"
    }
   ],
   "source": [
    "summary = pd.merge(sum_timesheet, drivers[[\"driverId\", \"name\"]], on=\"driverId\")\n",
    "summary"
   ]
  },
  {
   "cell_type": "code",
   "execution_count": 13,
   "metadata": {},
   "outputs": [],
   "source": [
    "pd.merge?"
   ]
  },
  {
   "cell_type": "markdown",
   "metadata": {},
   "source": [
    "## Almacenamiento de los resultados"
   ]
  },
  {
   "cell_type": "code",
   "execution_count": 14,
   "metadata": {
    "scrolled": true
   },
   "outputs": [
    {
     "name": "stderr",
     "output_type": "stream",
     "text": [
      "A subdirectory or file -p already exists.\n",
      "Error occurred while processing: -p.\n",
      "A subdirectory or file tmp already exists.\n",
      "Error occurred while processing: tmp.\n"
     ]
    }
   ],
   "source": [
    "!mkdir -p tmp\n",
    "summary.to_csv(\n",
    "    \"tmp/summary.csv\",\n",
    "    sep = \",\",\n",
    "    header = True,\n",
    "    index = True)"
   ]
  },
  {
   "cell_type": "code",
   "execution_count": 15,
   "metadata": {
    "scrolled": false
   },
   "outputs": [
    {
     "name": "stderr",
     "output_type": "stream",
     "text": [
      "'head' is not recognized as an internal or external command,\n",
      "operable program or batch file.\n"
     ]
    }
   ],
   "source": [
    "!head tmp/summary.csv"
   ]
  },
  {
   "cell_type": "code",
   "execution_count": 1,
   "metadata": {},
   "outputs": [],
   "source": [
    "ID = [1, 2, 3, 4]"
   ]
  },
  {
   "cell_type": "code",
   "execution_count": null,
   "metadata": {},
   "outputs": [],
   "source": [
    "def pollant (ID, pollant = [\"monda\", \"monda2\"], directory):\n",
    "\n",
    "    df = pd.read_csv(directory + \"ID.csv\")\n",
    "    df.append(df)\n",
    "    return means\n",
    "\n",
    "np.mean(means)"
   ]
  },
  {
   "cell_type": "code",
   "execution_count": 2,
   "metadata": {},
   "outputs": [
    {
     "name": "stdout",
     "output_type": "stream",
     "text": [
      "1\n",
      "2\n",
      "3\n",
      "4\n"
     ]
    }
   ],
   "source": [
    "for i in ID:\n",
    "    print(i)"
   ]
  },
  {
   "cell_type": "code",
   "execution_count": null,
   "metadata": {},
   "outputs": [],
   "source": [
    "directory = \"C://Desktop/Documents/Laura/Cousera/R/trabajo1\""
   ]
  },
  {
   "cell_type": "code",
   "execution_count": null,
   "metadata": {},
   "outputs": [],
   "source": [
    "def(ID, \"monda\", directory):\n",
    "    for i in ID:\n",
    "        read.csv(file = directory + \"/\" str(ID) + \".csv\")\n",
    "        "
   ]
  },
  {
   "cell_type": "code",
   "execution_count": null,
   "metadata": {},
   "outputs": [],
   "source": [
    "import pandas as pd\n",
    "import glob\n",
    "\n",
    "path = r'C:\\DRO\\DCL_rawdata_files' # use your path\n",
    "all_files = glob.glob(path + \"/*.csv\")\n",
    "\n",
    "li = []\n",
    "\n",
    "for filename in all_files:\n",
    "    df = pd.read_csv(filename, index_col=None, header=0)\n",
    "    li.append(df)\n",
    "\n",
    "frame = pd.concat(li, axis=0, ignore_index=True)"
   ]
  }
 ],
 "metadata": {
  "kernelspec": {
   "display_name": "Python 3",
   "language": "python",
   "name": "python3"
  },
  "language_info": {
   "codemirror_mode": {
    "name": "ipython",
    "version": 3
   },
   "file_extension": ".py",
   "mimetype": "text/x-python",
   "name": "python",
   "nbconvert_exporter": "python",
   "pygments_lexer": "ipython3",
   "version": "3.8.3"
  }
 },
 "nbformat": 4,
 "nbformat_minor": 4
}
