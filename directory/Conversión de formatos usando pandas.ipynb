{
 "cells": [
  {
   "cell_type": "code",
   "execution_count": 3,
   "metadata": {},
   "outputs": [],
   "source": [
    "import pandas \n",
    "import numpy as np\n",
    "pandas.set_option('display.notebook_repr_html', False)"
   ]
  },
  {
   "cell_type": "code",
   "execution_count": 4,
   "metadata": {
    "scrolled": true
   },
   "outputs": [
    {
     "data": {
      "text/plain": [
       "   index name  value\n",
       "0      1    A   3.03\n",
       "1      2    B   5.14\n",
       "2      3    C   0.40\n",
       "3      4    D   1.13\n",
       "4      5    E   8.25"
      ]
     },
     "execution_count": 4,
     "metadata": {},
     "output_type": "execute_result"
    }
   ],
   "source": [
    "## crea el DataFrame\n",
    "## los DataFrame en Pandas son diccionarios\n",
    "df = pandas.DataFrame( {'index': list(range(1,6)),\n",
    "                        'name': ['A', 'B', 'C', 'D', 'E'],\n",
    "                        'value': [3.03, 5.14, 0.40, 1.13, 8.25]})\n",
    "df"
   ]
  },
  {
   "cell_type": "markdown",
   "metadata": {},
   "source": [
    "## Almacenamiento del archivo en disco\n"
   ]
  },
  {
   "cell_type": "code",
   "execution_count": 5,
   "metadata": {},
   "outputs": [],
   "source": [
    "df.to_csv(\n",
    "    \"data.csv\",   #el nombre del archivo\n",
    "    index = False) #Imprime los nombres de las filas?"
   ]
  },
  {
   "cell_type": "markdown",
   "metadata": {},
   "source": [
    "## Ejemplo de conversión de csv a json"
   ]
  },
  {
   "cell_type": "code",
   "execution_count": 9,
   "metadata": {},
   "outputs": [],
   "source": [
    "pandas.read_csv(\"data.csv\").to_json(\"data.json\")"
   ]
  },
  {
   "cell_type": "markdown",
   "metadata": {},
   "source": [
    "## Lectura y escritura de archivos usando Pandas"
   ]
  },
  {
   "cell_type": "code",
   "execution_count": 10,
   "metadata": {},
   "outputs": [],
   "source": [
    "## crea el DataFrame\n",
    "## los DataFrame en Pandas son diccionarios\n",
    "df = pandas.DataFrame( {\"index\": list(range(1,6)),\n",
    "                       \"name\": [\"A\", \"B\", \"C\", \"D\", \"E\"],\n",
    "                       \"value\": [3.03, 5.14, 0.40, 1.13, 8.25]})"
   ]
  },
  {
   "cell_type": "markdown",
   "metadata": {},
   "source": [
    "## Formato nativo de Python con Pandas"
   ]
  },
  {
   "cell_type": "code",
   "execution_count": 12,
   "metadata": {},
   "outputs": [],
   "source": [
    "## pandas.DataFrame\n",
    "df.to_pickle(\"data.pickle\")"
   ]
  },
  {
   "cell_type": "code",
   "execution_count": 14,
   "metadata": {
    "scrolled": true
   },
   "outputs": [
    {
     "data": {
      "text/plain": [
       "   index name  value\n",
       "0      1    A   3.03\n",
       "1      2    B   5.14\n",
       "2      3    C   0.40\n",
       "3      4    D   1.13\n",
       "4      5    E   8.25"
      ]
     },
     "execution_count": 14,
     "metadata": {},
     "output_type": "execute_result"
    }
   ],
   "source": [
    "pandas.read_pickle(\"data.pickle\")"
   ]
  },
  {
   "cell_type": "markdown",
   "metadata": {},
   "source": [
    "## Archivos delimitados por caracteres con Pandas"
   ]
  },
  {
   "cell_type": "code",
   "execution_count": 15,
   "metadata": {
    "scrolled": true
   },
   "outputs": [
    {
     "name": "stdout",
     "output_type": "stream",
     "text": [
      "index,name,value\n",
      "1,A,3.03\n",
      "2,B,5.14\n",
      "3,C,0.4\n",
      "4,D,1.13\n",
      "5,E,8.25\n",
      "\n"
     ]
    }
   ],
   "source": [
    "df.to_csv(\"data.csv\",\n",
    "         index=False)\n",
    "print(open(\"data.csv\", \"r\").read())"
   ]
  },
  {
   "cell_type": "code",
   "execution_count": 16,
   "metadata": {
    "scrolled": true
   },
   "outputs": [
    {
     "data": {
      "text/plain": [
       "   index name  value\n",
       "0      1    A   3.03\n",
       "1      2    B   5.14\n",
       "2      3    C   0.40\n",
       "3      4    D   1.13\n",
       "4      5    E   8.25"
      ]
     },
     "execution_count": 16,
     "metadata": {},
     "output_type": "execute_result"
    }
   ],
   "source": [
    "pandas.read_csv(\"data.csv\")"
   ]
  },
  {
   "cell_type": "code",
   "execution_count": 18,
   "metadata": {
    "scrolled": true
   },
   "outputs": [
    {
     "data": {
      "text/plain": [
       "   index name  value\n",
       "0      1    A   3.03\n",
       "1      2    B   5.14\n",
       "2      3    C   0.40\n",
       "3      4    D   1.13\n",
       "4      5    E   8.25"
      ]
     },
     "execution_count": 18,
     "metadata": {},
     "output_type": "execute_result"
    }
   ],
   "source": [
    "## opciones mas importantes\n",
    "pandas.read_csv(\"data.csv\",\n",
    "               sep = \",\",\n",
    "               thousands = None,\n",
    "               decimal = \".\")"
   ]
  },
  {
   "cell_type": "markdown",
   "metadata": {},
   "source": [
    "#### En español: \";\" como separador de campos y \",\" como separador decimal"
   ]
  },
  {
   "cell_type": "code",
   "execution_count": 21,
   "metadata": {
    "scrolled": true
   },
   "outputs": [
    {
     "name": "stdout",
     "output_type": "stream",
     "text": [
      "index;name;value\n",
      "1;A;3,03\n",
      "2;B;5,14\n",
      "3;C;0,4\n",
      "4;D;1,13\n",
      "5;E;8,25\n",
      "\n"
     ]
    }
   ],
   "source": [
    "## escribe el archivo\n",
    "df.to_csv(\"data.csv2\",\n",
    "        sep = \";\",\n",
    "         decimal = \",\",\n",
    "         index = False\n",
    "         )\n",
    "print(open(\"data.csv2\", \"r\").read())"
   ]
  },
  {
   "cell_type": "code",
   "execution_count": 23,
   "metadata": {
    "scrolled": true
   },
   "outputs": [
    {
     "data": {
      "text/plain": [
       "   index name  value\n",
       "0      1    A   3.03\n",
       "1      2    B   5.14\n",
       "2      3    C   0.40\n",
       "3      4    D   1.13\n",
       "4      5    E   8.25"
      ]
     },
     "execution_count": 23,
     "metadata": {},
     "output_type": "execute_result"
    }
   ],
   "source": [
    "pandas.read_csv('data.csv2',\n",
    "                 sep = ';',\n",
    "                 thousands = None,\n",
    "                 decimal = ',')"
   ]
  },
  {
   "cell_type": "markdown",
   "metadata": {},
   "source": [
    "## Formato de ancho fijo con Pandas"
   ]
  },
  {
   "cell_type": "code",
   "execution_count": 24,
   "metadata": {
    "scrolled": true
   },
   "outputs": [
    {
     "name": "stdout",
     "output_type": "stream",
     "text": [
      "indexnames      valuescodes\n",
      "    1john wick    2.13   10\n",
      "    2mark twin    3.14   11\n",
      "    3louis ng     4.34   12\n",
      "    4dan brown    2.31   13\n",
      "    5ann marie    4.98   14\n"
     ]
    }
   ],
   "source": [
    "# crea un archivo separado por multiples espacios en blanco.\n",
    "# Los nombres de las columnas están separados por comas.\n",
    "text = \"\"\"indexnames      valuescodes\n",
    "    1john wick    2.13   10\n",
    "    2mark twin    3.14   11\n",
    "    3louis ng     4.34   12\n",
    "    4dan brown    2.31   13\n",
    "    5ann marie    4.98   14\"\"\"\n",
    "with open(\"data.txt\", \"w\") as f:\n",
    "    f.write(text)\n",
    "\n",
    "## verifica el archivo creado\n",
    "print(open(\"data.txt\", \"r\").read())"
   ]
  },
  {
   "cell_type": "code",
   "execution_count": 25,
   "metadata": {
    "scrolled": true
   },
   "outputs": [
    {
     "data": {
      "text/plain": [
       "   index      names  values  codes\n",
       "0      1  john wick    2.13     10\n",
       "1      2  mark twin    3.14     11\n",
       "2      3   louis ng    4.34     12\n",
       "3      4  dan brown    2.31     13\n",
       "4      5  ann marie    4.98     14"
      ]
     },
     "execution_count": 25,
     "metadata": {},
     "output_type": "execute_result"
    }
   ],
   "source": [
    "pandas.read_fwf(\"data.txt\",\n",
    "               colspecs = \"infer\",\n",
    "               widths = [5, 9, 8, 5])"
   ]
  },
  {
   "cell_type": "markdown",
   "metadata": {},
   "source": [
    "## JSON con Pandas"
   ]
  },
  {
   "cell_type": "code",
   "execution_count": 26,
   "metadata": {
    "scrolled": true
   },
   "outputs": [
    {
     "name": "stdout",
     "output_type": "stream",
     "text": [
      "{\"index\":{\"0\":1,\"1\":2,\"2\":3,\"3\":4,\"4\":5},\"name\":{\"0\":\"A\",\"1\":\"B\",\"2\":\"C\",\"3\":\"D\",\"4\":\"E\"},\"value\":{\"0\":3.03,\"1\":5.14,\"2\":0.4,\"3\":1.13,\"4\":8.25}}\n"
     ]
    }
   ],
   "source": [
    "# escribe el DataFrame al archivo\n",
    "\n",
    "df.to_json(\"data.json\")\n",
    "\n",
    "# verifica el archivo creado\n",
    "print(open(\"data.json\", \"r\").read())"
   ]
  },
  {
   "cell_type": "code",
   "execution_count": 27,
   "metadata": {},
   "outputs": [
    {
     "data": {
      "text/plain": [
       "   index name  value\n",
       "0      1    A   3.03\n",
       "1      2    B   5.14\n",
       "2      3    C   0.40\n",
       "3      4    D   1.13\n",
       "4      5    E   8.25"
      ]
     },
     "execution_count": 27,
     "metadata": {},
     "output_type": "execute_result"
    }
   ],
   "source": [
    "## Lo recupera\n",
    "pandas.read_json(\"data.json\")"
   ]
  },
  {
   "cell_type": "markdown",
   "metadata": {},
   "source": [
    "### HTML con Pandas"
   ]
  },
  {
   "cell_type": "code",
   "execution_count": 28,
   "metadata": {
    "scrolled": true
   },
   "outputs": [
    {
     "name": "stdout",
     "output_type": "stream",
     "text": [
      "<table border=\"1\" class=\"dataframe\">\n",
      "  <thead>\n",
      "    <tr style=\"text-align: right;\">\n",
      "      <th>index</th>\n",
      "      <th>name</th>\n",
      "      <th>value</th>\n",
      "    </tr>\n",
      "  </thead>\n",
      "  <tbody>\n",
      "    <tr>\n",
      "      <td>1</td>\n",
      "      <td>A</td>\n",
      "      <td>3.03</td>\n",
      "    </tr>\n",
      "    <tr>\n",
      "      <td>2</td>\n",
      "      <td>B</td>\n",
      "      <td>5.14</td>\n",
      "    </tr>\n",
      "    <tr>\n",
      "      <td>3</td>\n",
      "      <td>C</td>\n",
      "      <td>0.40</td>\n",
      "    </tr>\n",
      "    <tr>\n",
      "      <td>4</td>\n",
      "      <td>D</td>\n",
      "      <td>1.13</td>\n",
      "    </tr>\n",
      "    <tr>\n",
      "      <td>5</td>\n",
      "      <td>E</td>\n",
      "      <td>8.25</td>\n",
      "    </tr>\n",
      "  </tbody>\n",
      "</table>\n"
     ]
    }
   ],
   "source": [
    "df.to_html(\"data.html\",\n",
    "          index = False)\n",
    "\n",
    "## verifica el archivo creado\n",
    "print(open(\"data.html\",  \"r\").read())"
   ]
  },
  {
   "cell_type": "code",
   "execution_count": 29,
   "metadata": {
    "scrolled": true
   },
   "outputs": [
    {
     "data": {
      "text/plain": [
       "[   index name  value\n",
       " 0      1    A   3.03\n",
       " 1      2    B   5.14\n",
       " 2      3    C   0.40\n",
       " 3      4    D   1.13\n",
       " 4      5    E   8.25]"
      ]
     },
     "execution_count": 29,
     "metadata": {},
     "output_type": "execute_result"
    }
   ],
   "source": [
    "pandas.read_html(\"data.html\")"
   ]
  },
  {
   "cell_type": "markdown",
   "metadata": {},
   "source": [
    "## Excel con Pandas"
   ]
  },
  {
   "cell_type": "code",
   "execution_count": 30,
   "metadata": {},
   "outputs": [],
   "source": [
    "df.to_excel(\"data.xlsx\",\n",
    "           index = False)"
   ]
  },
  {
   "cell_type": "code",
   "execution_count": 31,
   "metadata": {
    "scrolled": true
   },
   "outputs": [
    {
     "data": {
      "text/plain": [
       "   index name  value\n",
       "0      1    A   3.03\n",
       "1      2    B   5.14\n",
       "2      3    C   0.40\n",
       "3      4    D   1.13\n",
       "4      5    E   8.25"
      ]
     },
     "execution_count": 31,
     "metadata": {},
     "output_type": "execute_result"
    }
   ],
   "source": [
    "pandas.read_excel(\"data.xlsx\")"
   ]
  },
  {
   "cell_type": "markdown",
   "metadata": {},
   "source": [
    "## HDF5 con Pandas"
   ]
  },
  {
   "cell_type": "code",
   "execution_count": 32,
   "metadata": {},
   "outputs": [],
   "source": [
    "# escribe el archivo a disco\n",
    "df.to_hdf(\"data.h5\",\n",
    "         key=\"G1\")"
   ]
  },
  {
   "cell_type": "code",
   "execution_count": 33,
   "metadata": {},
   "outputs": [
    {
     "data": {
      "text/plain": [
       "   index name  value\n",
       "0      1    A   3.03\n",
       "1      2    B   5.14\n",
       "2      3    C   0.40\n",
       "3      4    D   1.13\n",
       "4      5    E   8.25"
      ]
     },
     "execution_count": 33,
     "metadata": {},
     "output_type": "execute_result"
    }
   ],
   "source": [
    "# lECTURA\n",
    "pandas.read_hdf(\"data.h5\",\n",
    "               key = \"G1\")"
   ]
  },
  {
   "cell_type": "code",
   "execution_count": 34,
   "metadata": {
    "scrolled": true
   },
   "outputs": [
    {
     "data": {
      "text/plain": [
       "   index name  value\n",
       "0      1    A   3.03\n",
       "1      2    B   5.14\n",
       "2      3    C   0.40\n",
       "3      4    D   1.13\n",
       "4      5    E   8.25"
      ]
     },
     "execution_count": 34,
     "metadata": {},
     "output_type": "execute_result"
    }
   ],
   "source": [
    "pandas.read_hdf(\"data.h5\")"
   ]
  },
  {
   "cell_type": "markdown",
   "metadata": {},
   "source": [
    "## STATA con PANDAS"
   ]
  },
  {
   "cell_type": "code",
   "execution_count": 35,
   "metadata": {
    "scrolled": true
   },
   "outputs": [
    {
     "data": {
      "text/plain": [
       "   level_0  index name  value\n",
       "0        0      1    A   3.03\n",
       "1        1      2    B   5.14\n",
       "2        2      3    C   0.40\n",
       "3        3      4    D   1.13\n",
       "4        4      5    E   8.25"
      ]
     },
     "execution_count": 35,
     "metadata": {},
     "output_type": "execute_result"
    }
   ],
   "source": [
    "df.to_stata(\"data.dta\")\n",
    "pandas.read_stata(\"data.dta\")"
   ]
  },
  {
   "cell_type": "markdown",
   "metadata": {},
   "source": [
    "# SQL con Pandas"
   ]
  },
  {
   "cell_type": "code",
   "execution_count": null,
   "metadata": {},
   "outputs": [],
   "source": [
    "pandas.DataFrame.to_sql(name = df, con = conn, ifexists = True)"
   ]
  },
  {
   "cell_type": "code",
   "execution_count": 36,
   "metadata": {
    "scrolled": true
   },
   "outputs": [
    {
     "name": "stdout",
     "output_type": "stream",
     "text": [
      "Collecting PyPDF2\n",
      "Note: you may need to restart the kernel to use updated packages.  Downloading PyPDF2-1.26.0.tar.gz (77 kB)\n",
      "Building wheels for collected packages: PyPDF2\n",
      "  Building wheel for PyPDF2 (setup.py): started\n",
      "  Building wheel for PyPDF2 (setup.py): finished with status 'done'\n",
      "  Created wheel for PyPDF2: filename=PyPDF2-1.26.0-py3-none-any.whl size=61087 sha256=0f027decd59d2959bce5c81a433d4d04da52c13e92ad5da4afd4458f80dbea0f\n",
      "\n",
      "  Stored in directory: c:\\users\\ofaa\\appdata\\local\\pip\\cache\\wheels\\b1\\1a\\8f\\a4c34be976825a2f7948d0fa40907598d69834f8ab5889de11\n",
      "Successfully built PyPDF2\n",
      "Installing collected packages: PyPDF2\n",
      "Successfully installed PyPDF2-1.26.0\n"
     ]
    }
   ],
   "source": [
    "pip install PyPDF2"
   ]
  },
  {
   "cell_type": "code",
   "execution_count": 39,
   "metadata": {
    "scrolled": true
   },
   "outputs": [],
   "source": [
    "import PyPDF2\n",
    "# pdfFileObj = open('data.pdf', 'rb')\n",
    "# pdfReader = PyPDF2.PdfFileReader(pdfFileObj)\n",
    "# pageObj = pdfReader.getPage(0)\n",
    "# pageObj.extractText()"
   ]
  },
  {
   "cell_type": "markdown",
   "metadata": {},
   "source": [
    "## Lectura de Matlab y Octave"
   ]
  },
  {
   "cell_type": "code",
   "execution_count": 40,
   "metadata": {
    "scrolled": true
   },
   "outputs": [
    {
     "data": {
      "text/plain": [
       "{'__header__': b'MATLAB 5.0 MAT-file Platform: nt, Created on: Fri Oct 30 11:16:58 2020',\n",
       " '__version__': '1.0',\n",
       " '__globals__': [],\n",
       " 'df': array([[(array([[None]], dtype=object), array([[None]], dtype=object), array([[None]], dtype=object))]],\n",
       "       dtype=[('index', 'O'), ('name', 'O'), ('value', 'O')])}"
      ]
     },
     "execution_count": 40,
     "metadata": {},
     "output_type": "execute_result"
    }
   ],
   "source": [
    "import scipy.io as sio\n",
    "sio.savemat(\"data\", {\"df\": df})\n",
    "sio.loadmat(\"data\")"
   ]
  },
  {
   "cell_type": "markdown",
   "metadata": {},
   "source": [
    "## Lectura de XBASE"
   ]
  },
  {
   "cell_type": "code",
   "execution_count": 41,
   "metadata": {},
   "outputs": [],
   "source": [
    "# import dbfread\n",
    "#\n",
    "# for x in dbfread.DBF('files/data.dbf'):\n",
    "#    print(x)"
   ]
  }
 ],
 "metadata": {
  "kernelspec": {
   "display_name": "Python 3",
   "language": "python",
   "name": "python3"
  },
  "language_info": {
   "codemirror_mode": {
    "name": "ipython",
    "version": 3
   },
   "file_extension": ".py",
   "mimetype": "text/x-python",
   "name": "python",
   "nbconvert_exporter": "python",
   "pygments_lexer": "ipython3",
   "version": "3.8.3"
  }
 },
 "nbformat": 4,
 "nbformat_minor": 4
}
