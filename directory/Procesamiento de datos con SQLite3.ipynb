{
 "cells": [
  {
   "cell_type": "markdown",
   "metadata": {},
   "source": [
    "### Preparción\n",
    "\n"
   ]
  },
  {
   "cell_type": "code",
   "execution_count": 2,
   "metadata": {},
   "outputs": [],
   "source": [
    "## Apertura de la conexión\n",
    "\n",
    "import sqlite3\n",
    "conn = sqlite3.connect(\":memory:\") \n",
    "cur = conn.cursor()"
   ]
  },
  {
   "cell_type": "code",
   "execution_count": 3,
   "metadata": {
    "scrolled": true
   },
   "outputs": [
    {
     "name": "stderr",
     "output_type": "stream",
     "text": [
      "'tail' is not recognized as an internal or external command,\n",
      "operable program or batch file.\n"
     ]
    }
   ],
   "source": [
    "! tail -n 5 drivers.csv"
   ]
  },
  {
   "cell_type": "markdown",
   "metadata": {},
   "source": [
    "## Creación y carga de datos para la tabla drivers usando pandas"
   ]
  },
  {
   "cell_type": "code",
   "execution_count": null,
   "metadata": {},
   "outputs": [],
   "source": [
    "import pandas as pd\n",
    "\n",
    "drivers = pd.read_csv(\"drivers.csv\",\n",
    "                      sep = ',',           # separador de campos\n",
    "                      thousands = None,    # separador de miles para números\n",
    "                      decimal = '.',       # separador de los decimales para números\n",
    "                      encoding='latin-1')\n",
    "\n",
    "drivers.to_sql(name = \"drivers\",\n",
    "              con = conn,\n",
    "              if_exists = \"replace\")"
   ]
  },
  {
   "cell_type": "code",
   "execution_count": 4,
   "metadata": {
    "scrolled": true
   },
   "outputs": [
    {
     "ename": "OperationalError",
     "evalue": "no such table: drivers",
     "output_type": "error",
     "traceback": [
      "\u001b[1;31m---------------------------------------------------------------------------\u001b[0m",
      "\u001b[1;31mOperationalError\u001b[0m                          Traceback (most recent call last)",
      "\u001b[1;32m<ipython-input-4-c88c9bec2202>\u001b[0m in \u001b[0;36m<module>\u001b[1;34m\u001b[0m\n\u001b[1;32m----> 1\u001b[1;33m \u001b[0mcur\u001b[0m\u001b[1;33m.\u001b[0m\u001b[0mexecute\u001b[0m\u001b[1;33m(\u001b[0m\u001b[1;34m\"SELECT * FROM drivers LIMIT 1;\"\u001b[0m\u001b[1;33m)\u001b[0m\u001b[1;33m.\u001b[0m\u001b[0mfetchall\u001b[0m\u001b[1;33m(\u001b[0m\u001b[1;33m)\u001b[0m\u001b[1;33m\u001b[0m\u001b[1;33m\u001b[0m\u001b[0m\n\u001b[0m",
      "\u001b[1;31mOperationalError\u001b[0m: no such table: drivers"
     ]
    }
   ],
   "source": [
    "cur.execute(\"SELECT * FROM drivers LIMIT 1;\").fetchall()"
   ]
  },
  {
   "cell_type": "markdown",
   "metadata": {},
   "source": [
    "### Creación y carga de datos de la tabla"
   ]
  },
  {
   "cell_type": "code",
   "execution_count": null,
   "metadata": {},
   "outputs": [],
   "source": [
    "timesheet = pd.read_csv(\"timesheet.csv\",\n",
    "                       sep = \",\",\n",
    "                       thousands = None, ##Separador de miles para numeros\n",
    "                        decimal = \".\",\n",
    "                        encoding = \"latin-1\")\n",
    "\n",
    "timesheet.to_sql(name = \"timesheet\", #nombre de la tabla\n",
    "                con = conn,   #conexión a la base de datos\n",
    "                if_exists = \"replace\")\n",
    "                    "
   ]
  },
  {
   "cell_type": "code",
   "execution_count": null,
   "metadata": {},
   "outputs": [],
   "source": [
    "timesheet[0:1]"
   ]
  },
  {
   "cell_type": "code",
   "execution_count": null,
   "metadata": {},
   "outputs": [],
   "source": [
    "cur.execute(\"SELECT driverId, week, hours_logged, miles_logged FROM timesheet LIMIT1; \").fetchall()\n"
   ]
  },
  {
   "cell_type": "markdown",
   "metadata": {},
   "source": [
    "## Cantidad de horas y millas de cada conductor por año."
   ]
  },
  {
   "cell_type": "code",
   "execution_count": null,
   "metadata": {},
   "outputs": [],
   "source": [
    "cur.execute(\"\"\"\n",
    "SELECT \n",
    "    driverID, \n",
    "    sum(hours_logged),\n",
    "    sum(miles_logged)\n",
    "FROM \n",
    "    timesheet\n",
    "GROUP BY \n",
    "    driverId;\"\"\").fetchall()"
   ]
  },
  {
   "cell_type": "markdown",
   "metadata": {},
   "source": [
    "## Subconsultas"
   ]
  },
  {
   "cell_type": "code",
   "execution_count": null,
   "metadata": {},
   "outputs": [],
   "source": [
    "##\n",
    "## Selecciona todos los registros de la tabla timesheet\n",
    "## que tienen el driverId igual al menor driverId de la\n",
    "## tabla drivers.\n",
    "##\n",
    "\n",
    "cur.execute(\"\"\"\n",
    "SELECT\n",
    "    *\n",
    "FROM\n",
    "    timesheet\n",
    "WHERE\n",
    "    driverId = (SELECT min(driverId) FROM drivers);\n",
    "\"\"\").fetchall()"
   ]
  },
  {
   "cell_type": "markdown",
   "metadata": {},
   "source": [
    "### Cosulta para unir las tablas"
   ]
  },
  {
   "cell_type": "code",
   "execution_count": null,
   "metadata": {},
   "outputs": [],
   "source": [
    "cur.execute(\"\"\"\n",
    "SELECT\n",
    "    d.driverId,\n",
    "    d.name,\n",
    "    t.total_hours,\n",
    "    t.total_miles\n",
    "FROM\n",
    "    drivers d\n",
    "JOIN (\n",
    "    SELECT \n",
    "        driverId,\n",
    "        sum(hours_logged)total_hours,\n",
    "        sum(miles_logged)totalmiles\n",
    "    FROM\n",
    "        timesheet\n",
    "    GROUP BY\n",
    "        driverId\n",
    "    )t\n",
    "ON\n",
    "    (d.driverId = t.driverId);\n",
    "\"\"\").fetchall()"
   ]
  },
  {
   "cell_type": "code",
   "execution_count": null,
   "metadata": {},
   "outputs": [],
   "source": [
    "\n",
    "\n",
    "cur.execute(\"\"\"\n",
    "SELECT\n",
    "    d.driverId,\n",
    "    d.name,\n",
    "    t.total_hours,\n",
    "    t.total_miles\n",
    "FROM \n",
    "    drivers d\n",
    "JOIN (\n",
    "    SELECT\n",
    "        driverId,\n",
    "        sum(hours_logged)total_hours,\n",
    "        sum(miles_logged)total_miles\n",
    "    FROM\n",
    "        timesheet\n",
    "    GROUP BY\n",
    "        driverId) t\n",
    "ON\n",
    "    (d.driverId = t.driverId)\n",
    "ORDER BY\n",
    "    t.total_hours DESC\n",
    "LIMIT 1;\n",
    "\"\"\").fetchall"
   ]
  },
  {
   "cell_type": "markdown",
   "metadata": {},
   "source": [
    "## Creación de un DataFrame usando una consulta"
   ]
  },
  {
   "cell_type": "code",
   "execution_count": 6,
   "metadata": {
    "scrolled": false
   },
   "outputs": [
    {
     "ename": "NameError",
     "evalue": "name 'pd' is not defined",
     "output_type": "error",
     "traceback": [
      "\u001b[1;31m---------------------------------------------------------------------------\u001b[0m",
      "\u001b[1;31mNameError\u001b[0m                                 Traceback (most recent call last)",
      "\u001b[1;32m<ipython-input-6-2999808ee491>\u001b[0m in \u001b[0;36m<module>\u001b[1;34m\u001b[0m\n\u001b[1;32m----> 1\u001b[1;33m df = pd.read_sql(\"\"\"\n\u001b[0m\u001b[0;32m      2\u001b[0m \u001b[0mSELECT\u001b[0m\u001b[1;33m\u001b[0m\u001b[1;33m\u001b[0m\u001b[0m\n\u001b[0;32m      3\u001b[0m     \u001b[0md\u001b[0m\u001b[1;33m.\u001b[0m\u001b[0mdriverId\u001b[0m\u001b[1;33m,\u001b[0m\u001b[1;33m\u001b[0m\u001b[1;33m\u001b[0m\u001b[0m\n\u001b[0;32m      4\u001b[0m     \u001b[0md\u001b[0m\u001b[1;33m.\u001b[0m\u001b[0mname\u001b[0m\u001b[1;33m,\u001b[0m\u001b[1;33m\u001b[0m\u001b[1;33m\u001b[0m\u001b[0m\n\u001b[0;32m      5\u001b[0m     \u001b[0mt\u001b[0m\u001b[1;33m.\u001b[0m\u001b[0mtotal_hours\u001b[0m\u001b[1;33m,\u001b[0m\u001b[1;33m\u001b[0m\u001b[1;33m\u001b[0m\u001b[0m\n",
      "\u001b[1;31mNameError\u001b[0m: name 'pd' is not defined"
     ]
    }
   ],
   "source": [
    "df = pd.read_sql(\"\"\"\n",
    "SELECT\n",
    "    d.driverId,\n",
    "    d.name,\n",
    "    t.total_hours,\n",
    "    t.total_miles\n",
    "FROM\n",
    "    drivers d\n",
    "JOIN (\n",
    "    SELECT\n",
    "        driverId,\n",
    "        sum(hours_logged)total_hours,\n",
    "        sum(miles_logged)total_miles\n",
    "    FROM\n",
    "        timesheet\n",
    "    GROUP BY\n",
    "        driverId\n",
    "    )t\n",
    "ON\n",
    "    (d.driverId = t.driverId):\n",
    "\"\"\", con = conn)\n",
    "\n",
    "import matplotlib as mpl\n",
    "import matplotlib.pyplot as plt\n",
    "%matplotlib inline\n",
    "df.plot.bar(x=\"name\", y=\"total_hours\");"
   ]
  },
  {
   "cell_type": "markdown",
   "metadata": {},
   "source": [
    "## Almacenamiento de los resultados"
   ]
  },
  {
   "cell_type": "code",
   "execution_count": null,
   "metadata": {},
   "outputs": [],
   "source": [
    "summary = cur.execute(\"\"\"\n",
    "SELECT\n",
    "    d.driverId,\n",
    "    d.name,\n",
    "    t.total_hours,\n",
    "    t.total_miles\n",
    "FROM\n",
    "    drivers d\n",
    "JOIN (\n",
    "    SELECT\n",
    "        driverId,\n",
    "        sum(hours_logged)total_hours,\n",
    "        sum(miles_logged)total_miles\n",
    "    FROM\n",
    "        timesheet\n",
    "    GROUP BY\n",
    "        driverId\n",
    "    ) t\n",
    "ON\n",
    "    (d.driverId = t.driverId)\n",
    "ORDER BY\n",
    "    d.name;\n",
    "\"\"\").fetchall()\n",
    "\n",
    "\n",
    "text = [[str(e) for e in row] for row in summary]\n",
    "text = [\",\".join(row) for row in text]\n",
    "text = \"\\n\".join(text)\n",
    "\n",
    "open(\"summary.csv\", \"wt\").write(text)"
   ]
  },
  {
   "cell_type": "code",
   "execution_count": null,
   "metadata": {},
   "outputs": [],
   "source": []
  }
 ],
 "metadata": {
  "kernelspec": {
   "display_name": "Python 3",
   "language": "python",
   "name": "python3"
  },
  "language_info": {
   "codemirror_mode": {
    "name": "ipython",
    "version": 3
   },
   "file_extension": ".py",
   "mimetype": "text/x-python",
   "name": "python",
   "nbconvert_exporter": "python",
   "pygments_lexer": "ipython3",
   "version": "3.8.3"
  }
 },
 "nbformat": 4,
 "nbformat_minor": 4
}
