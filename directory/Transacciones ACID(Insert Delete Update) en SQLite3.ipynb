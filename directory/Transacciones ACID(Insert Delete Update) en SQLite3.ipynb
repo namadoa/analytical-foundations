{
 "cells": [
  {
   "cell_type": "code",
   "execution_count": 1,
   "metadata": {},
   "outputs": [],
   "source": [
    "import sqlite3\n",
    "conn = sqlite3.connect(\":memory:\")\n",
    "cur = conn.cursor()"
   ]
  },
  {
   "cell_type": "code",
   "execution_count": 11,
   "metadata": {},
   "outputs": [
    {
     "data": {
      "text/plain": [
       "[]"
      ]
     },
     "execution_count": 11,
     "metadata": {},
     "output_type": "execute_result"
    }
   ],
   "source": [
    "cur.executescript(\"\"\"\n",
    "DROP TABLE IF EXISTS persons;\n",
    "CREATE TABLE persons(\n",
    "    id INT,\n",
    "    firstname VARCHAR(10),\n",
    "    surname VARCHAR(10),\n",
    "    birthday DATE,\n",
    "    color VARCHAR(10),\n",
    "    quantity INT);\n",
    "\"\"\").fetchall()\n"
   ]
  },
  {
   "cell_type": "markdown",
   "metadata": {},
   "source": [
    "## Insert"
   ]
  },
  {
   "cell_type": "code",
   "execution_count": 12,
   "metadata": {},
   "outputs": [
    {
     "data": {
      "text/plain": [
       "[(1, 'Vivian', 'Hamilton', '1971-07-08', 'green', 1)]"
      ]
     },
     "execution_count": 12,
     "metadata": {},
     "output_type": "execute_result"
    }
   ],
   "source": [
    "cur.execute(\"\"\"\n",
    "INSERT INTO\n",
    "    persons\n",
    "VALUES\n",
    "    (1,\"Vivian\",\"Hamilton\",\"1971-07-08\",\"green\",1);\"\"\").fetchall()\n",
    "\n",
    "cur.execute(\"SELECT * FROM persons;\").fetchall()"
   ]
  },
  {
   "cell_type": "code",
   "execution_count": 14,
   "metadata": {
    "scrolled": true
   },
   "outputs": [
    {
     "data": {
      "text/plain": [
       "[(1, 'Vivian', 'Hamilton', '1971-07-08', 'green', 1),\n",
       " (2, 'Karen', 'Holcomb', '1974-05-23', 'green', 4),\n",
       " (3, 'Cody', 'Garrett', '1973-04-22', 'orange', 1),\n",
       " (2, 'Karen', 'Holcomb', '1974-05-23', 'green', 4),\n",
       " (3, 'Cody', 'Garrett', '1973-04-22', 'orange', 1)]"
      ]
     },
     "execution_count": 14,
     "metadata": {},
     "output_type": "execute_result"
    }
   ],
   "source": [
    "cur.execute(\"\"\"\n",
    "INSERT INTO \n",
    "    persons\n",
    "VALUES\n",
    "   (2,\"Karen\",\"Holcomb\",\"1974-05-23\",\"green\",4),\n",
    "   (3,\"Cody\",\"Garrett\",\"1973-04-22\",\"orange\",1); \"\"\").fetchall()\n",
    "cur.execute(\"SELECT * FROM persons\").fetchall()"
   ]
  },
  {
   "cell_type": "code",
   "execution_count": 15,
   "metadata": {
    "scrolled": true
   },
   "outputs": [
    {
     "data": {
      "text/plain": [
       "[]"
      ]
     },
     "execution_count": 15,
     "metadata": {},
     "output_type": "execute_result"
    }
   ],
   "source": [
    "## información parcial\n",
    "\n",
    "cur.execute(\"\"\"\n",
    "INSERT INTO\n",
    "    persons (color, firstname, surname) VALUES\n",
    "        (\"violet\",\"Vivian\", \"Kinney\"),\n",
    "    (\"blue\",\"Hope\",\"Kingston\"),\n",
    "    (\"red\",\"Kylan\",\"Bigelow\");\"\"\").fetchall()"
   ]
  },
  {
   "cell_type": "code",
   "execution_count": 16,
   "metadata": {
    "scrolled": true
   },
   "outputs": [
    {
     "data": {
      "text/plain": [
       "[(1, 'Vivian', 'Hamilton', '1971-07-08', 'green', 1),\n",
       " (2, 'Karen', 'Holcomb', '1974-05-23', 'green', 4),\n",
       " (3, 'Cody', 'Garrett', '1973-04-22', 'orange', 1),\n",
       " (2, 'Karen', 'Holcomb', '1974-05-23', 'green', 4),\n",
       " (3, 'Cody', 'Garrett', '1973-04-22', 'orange', 1),\n",
       " (None, 'Vivian', 'Kinney', None, 'violet', None),\n",
       " (None, 'Hope', 'Kingston', None, 'blue', None),\n",
       " (None, 'Kylan', 'Bigelow', None, 'red', None)]"
      ]
     },
     "execution_count": 16,
     "metadata": {},
     "output_type": "execute_result"
    }
   ],
   "source": [
    "cur.execute(\"SELECT * FROM persons;\").fetchall()"
   ]
  },
  {
   "cell_type": "code",
   "execution_count": 17,
   "metadata": {
    "scrolled": true
   },
   "outputs": [
    {
     "data": {
      "text/plain": [
       "[(1, 'Vivian', 'Hamilton', '1971-07-08', 'green', 1),\n",
       " (2, 'Karen', 'Holcomb', '1974-05-23', 'green', 4),\n",
       " (3, 'Cody', 'Garrett', '1973-04-22', 'orange', 1),\n",
       " (2, 'Karen', 'Holcomb', '1974-05-23', 'green', 4),\n",
       " (3, 'Cody', 'Garrett', '1973-04-22', 'orange', 1),\n",
       " (None, 'Vivian', 'Kinney', None, 'violet', None),\n",
       " (None, 'Hope', 'Kingston', None, 'blue', None),\n",
       " (None, 'Kylan', 'Bigelow', None, 'red', None),\n",
       " (None, 'Camilo', None, None, None, None)]"
      ]
     },
     "execution_count": 17,
     "metadata": {},
     "output_type": "execute_result"
    }
   ],
   "source": [
    "cur.execute(\"\"\"\n",
    "INSERT INTO persons (firstname)\n",
    "VALUES\n",
    "    (\"Camilo\");\"\"\").fetchall()\n",
    "cur.execute(\"SELECT * FROM persons;\").fetchall()"
   ]
  },
  {
   "cell_type": "code",
   "execution_count": 18,
   "metadata": {
    "scrolled": true
   },
   "outputs": [
    {
     "data": {
      "text/plain": [
       "[(1, 'Vivian', 'Hamilton', '1971-07-08', 'green', 1),\n",
       " (2, 'Karen', 'Holcomb', '1974-05-23', 'green', 4),\n",
       " (3, 'Cody', 'Garrett', '1973-04-22', 'orange', 1),\n",
       " (2, 'Karen', 'Holcomb', '1974-05-23', 'green', 4),\n",
       " (3, 'Cody', 'Garrett', '1973-04-22', 'orange', 1),\n",
       " (None, 'Vivian', 'Kinney', None, 'violet', None),\n",
       " (None, 'Hope', 'Kingston', None, 'blue', None),\n",
       " (None, 'Kylan', 'Bigelow', None, 'red', None),\n",
       " (None, 'Camilo', None, None, None, None),\n",
       " (None, 'Kate', 'Bond', '1974-05-23', None, None)]"
      ]
     },
     "execution_count": 18,
     "metadata": {},
     "output_type": "execute_result"
    }
   ],
   "source": [
    "cur.execute(\"\"\"\n",
    "INSERT INTO\n",
    "    persons\n",
    "VALUES\n",
    "    (NULL,\"Kate\",\"Bond\",\"1974-05-23\",NULL,NULL);\n",
    "\"\"\").fetchall()\n",
    "\n",
    "cur.execute(\"SELECT * FROM persons;\").fetchall()"
   ]
  },
  {
   "cell_type": "markdown",
   "metadata": {},
   "source": [
    "# UPDATE"
   ]
  },
  {
   "cell_type": "code",
   "execution_count": 19,
   "metadata": {
    "scrolled": true
   },
   "outputs": [
    {
     "data": {
      "text/plain": [
       "[(1, 'Vivian', 'Hamilton', '1971-07-08', 'green', 1),\n",
       " (2, 'Karen', 'Holcomb', '1974-05-23', 'green', 4),\n",
       " (3, 'Cody', 'Garrett', '1973-04-22', 'orange', 1),\n",
       " (2, 'Karen', 'Holcomb', '1974-05-23', 'green', 4),\n",
       " (3, 'Cody', 'Garrett', '1973-04-22', 'orange', 1),\n",
       " (None, 'Vivian', 'Kinney', None, 'violet', None),\n",
       " (None, 'Hope', 'Kingston', None, 'blue', None),\n",
       " (None, 'Kylan', 'Bigelow', None, 'red', None),\n",
       " (None, 'Camilo', None, None, None, None),\n",
       " (8, 'Kate', 'Bond', '1974-05-23', 'gray', None)]"
      ]
     },
     "execution_count": 19,
     "metadata": {},
     "output_type": "execute_result"
    }
   ],
   "source": [
    "cur.execute(\"\"\"\n",
    "UPDATE persons SET\n",
    "    id = 8,\n",
    "    color = 'gray'\n",
    "WHERE\n",
    "    firstname = 'Kate';\n",
    "    \"\"\").fetchall()\n",
    "cur.execute(\"SELECT * FROM persons;\").fetchall()"
   ]
  },
  {
   "cell_type": "code",
   "execution_count": 20,
   "metadata": {
    "scrolled": true
   },
   "outputs": [
    {
     "data": {
      "text/plain": [
       "[(1, 'Vivian', 'Hamilton', '1971-07-08', 'green', 1),\n",
       " (2, 'Karen', 'Holcomb', '1974-05-23', 'green', 4),\n",
       " (3, 'Cody', 'Garrett', '1973-04-22', 'orange', 1),\n",
       " (2, 'Karen', 'Holcomb', '1974-05-23', 'green', 4),\n",
       " (3, 'Cody', 'Garrett', '1973-04-22', 'orange', 1),\n",
       " (None, 'Vivian', 'Kinney', None, 'violet', None),\n",
       " (None, 'Hope', 'Kingston', None, 'blue', None),\n",
       " (None, 'Kylan', 'Bigelow', None, 'red', None),\n",
       " (None, 'Camilo', None, None, None, None),\n",
       " (8, 'Kate', 'Bond', '1974-05-23', 'black', None)]"
      ]
     },
     "execution_count": 20,
     "metadata": {},
     "output_type": "execute_result"
    }
   ],
   "source": [
    "## Se actualiza el campo con base en el indicador.\n",
    "\n",
    "cur.execute(\"\"\"\n",
    "UPDATE\n",
    "    persons\n",
    "SET\n",
    "    color ='black'\n",
    "WHERE\n",
    "    id = 8;\n",
    "\"\"\").fetchall()\n",
    "\n",
    "cur.execute(\"SELECT *  FROM persons;\").fetchall()"
   ]
  },
  {
   "cell_type": "markdown",
   "metadata": {},
   "source": [
    "# DELETE"
   ]
  },
  {
   "cell_type": "code",
   "execution_count": 21,
   "metadata": {},
   "outputs": [
    {
     "data": {
      "text/plain": [
       "[(3, 'Cody', 'Garrett', '1973-04-22', 'orange', 1),\n",
       " (3, 'Cody', 'Garrett', '1973-04-22', 'orange', 1),\n",
       " (None, 'Vivian', 'Kinney', None, 'violet', None),\n",
       " (None, 'Hope', 'Kingston', None, 'blue', None),\n",
       " (None, 'Kylan', 'Bigelow', None, 'red', None),\n",
       " (None, 'Camilo', None, None, None, None),\n",
       " (8, 'Kate', 'Bond', '1974-05-23', 'black', None)]"
      ]
     },
     "execution_count": 21,
     "metadata": {},
     "output_type": "execute_result"
    }
   ],
   "source": [
    "cur.execute(\"\"\"\n",
    "DELETE FROM\n",
    "    persons\n",
    "WHERE\n",
    "    color = 'green';\n",
    "\"\"\").fetchall()\n",
    "\n",
    "cur.execute(\"SELECT * FROM persons;\").fetchall()"
   ]
  },
  {
   "cell_type": "code",
   "execution_count": null,
   "metadata": {},
   "outputs": [],
   "source": []
  }
 ],
 "metadata": {
  "kernelspec": {
   "display_name": "Python 3",
   "language": "python",
   "name": "python3"
  },
  "language_info": {
   "codemirror_mode": {
    "name": "ipython",
    "version": 3
   },
   "file_extension": ".py",
   "mimetype": "text/x-python",
   "name": "python",
   "nbconvert_exporter": "python",
   "pygments_lexer": "ipython3",
   "version": "3.8.3"
  }
 },
 "nbformat": 4,
 "nbformat_minor": 4
}
