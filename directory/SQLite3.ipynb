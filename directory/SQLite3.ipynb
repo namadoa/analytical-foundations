{
 "cells": [
  {
   "cell_type": "markdown",
   "metadata": {},
   "source": [
    "## Preparación"
   ]
  },
  {
   "cell_type": "code",
   "execution_count": 2,
   "metadata": {},
   "outputs": [],
   "source": [
    "##\n",
    "## Apertura de la conexión\n",
    "##\n",
    "import sqlite3\n",
    "conn = sqlite3.connect(\":memory:\")\n",
    "cur = conn.cursor()"
   ]
  },
  {
   "cell_type": "code",
   "execution_count": 8,
   "metadata": {},
   "outputs": [],
   "source": [
    "##\n",
    "## executescript() permite enviar varios comandos de SQL\n",
    "## en la misma cadena de texto.\n",
    "##\n",
    "\n",
    "conn.executescript(\"\"\"\n",
    "DROP TABLE IF EXISTS truck_events;\n",
    "\n",
    "CREATE TABLE truck_events (driverId       INT,\n",
    "                           truckId        INT,\n",
    "                           eventTime      STRING,\n",
    "                           eventType      STRING,\n",
    "                           longitude      DOUBLE,\n",
    "                           latitude       DOUBLE,\n",
    "                           eventKey       STRING,\n",
    "                           correlationId  STRING,\n",
    "                           driverName     STRING,\n",
    "                           routeId        STRING,\n",
    "                           routeName      STRING,\n",
    "                           eventDate      STRING);\n",
    "\n",
    "\n",
    "\n",
    "\"\"\")\n",
    "\n",
    "conn.commit()"
   ]
  },
  {
   "cell_type": "code",
   "execution_count": 9,
   "metadata": {},
   "outputs": [
    {
     "data": {
      "text/plain": [
       "<sqlite3.Cursor at 0x1e8d493cab0>"
      ]
     },
     "execution_count": 9,
     "metadata": {},
     "output_type": "execute_result"
    }
   ],
   "source": [
    "##\n",
    "## La función execute() permite enviar únicamente un comando SQL\n",
    "## al motor de la base de datos. El siguiente comando es equivalente\n",
    "## a `SHOW TABLES;` en SQL\n",
    "##\n",
    "cur.execute(\"SELECT name FROM sqlite_master WHERE type='table';\")"
   ]
  },
  {
   "cell_type": "code",
   "execution_count": 10,
   "metadata": {
    "scrolled": true
   },
   "outputs": [
    {
     "data": {
      "text/plain": [
       "[('CREATE TABLE truck_events (driverId       INT,\\n                           truckId        INT,\\n                           eventTime      STRING,\\n                           eventType      STRING,\\n                           longitude      DOUBLE,\\n                           latitude       DOUBLE,\\n                           eventKey       STRING,\\n                           correlationId  STRING,\\n                           driverName     STRING,\\n                           routeId        STRING,\\n                           routeName      STRING,\\n                           eventDate      STRING)',)]"
      ]
     },
     "execution_count": 10,
     "metadata": {},
     "output_type": "execute_result"
    }
   ],
   "source": [
    "##\n",
    "## La siguiente sentencia devuelve un string que\n",
    "## representa los comandos sql para crear la tabla\n",
    "##\n",
    "\n",
    "cur.execute(\"SELECT sql FROM sqlite_master WHERE type='table' and name='truck_events'; \").fetchall()"
   ]
  },
  {
   "cell_type": "code",
   "execution_count": 15,
   "metadata": {
    "scrolled": true
   },
   "outputs": [
    {
     "name": "stdout",
     "output_type": "stream",
     "text": [
      "CREATE TABLE truck_events (driverId       INT,\n",
      "                           truckId        INT,\n",
      "                           eventTime      STRING,\n",
      "                           eventType      STRING,\n",
      "                           longitude      DOUBLE,\n",
      "                           latitude       DOUBLE,\n",
      "                           eventKey       STRING,\n",
      "                           correlationId  STRING,\n",
      "                           driverName     STRING,\n",
      "                           routeId        STRING,\n",
      "                           routeName      STRING,\n",
      "                           eventDate      STRING)\n"
     ]
    }
   ],
   "source": [
    "##\n",
    "## Se imprime el comando sql equivalente para cada\n",
    "## tabla existente en la base de datos\n",
    "##\n",
    "for a in cur.execute(\"SELECT sql FROM sqlite_master WHERE type='table';\").fetchall():\n",
    "    print(a[0])"
   ]
  },
  {
   "cell_type": "markdown",
   "metadata": {},
   "source": [
    "## Carga de datos usando INSERT INTO"
   ]
  },
  {
   "cell_type": "code",
   "execution_count": null,
   "metadata": {},
   "outputs": [],
   "source": [
    "## Lectura de de todo el archivo\n",
    "\n",
    "with open(\"truck_event_text_partition.csv\", \"rt\") as f:\n",
    "    data = f.readlines()\n",
    "\n",
    "data = [line[:-1] if line[:-1] == \"\\n\" else line for line in data]\n",
    "\n",
    "#Separa ls campos por comas\n",
    "data = [line.split(\",\") for line in data]\n",
    "\n",
    "#Convierte la fina en una tupla\n",
    "data = [tuple(line) for line in data]\n",
    "\n",
    "#Descartar la cabecera\n",
    "data = data[1:]\n",
    "\n",
    "#Imprime los primeros 3 registros\n",
    "data[0:3]"
   ]
  },
  {
   "cell_type": "code",
   "execution_count": null,
   "metadata": {},
   "outputs": [],
   "source": [
    "## Cargar a partir de la list de tuplas contenidas en data\n",
    "\n",
    "cur.executemany(\"INSERT INTO truck_events VALUES (?,?,?,?,?,?,?,?,?,?,?,?)\", data)\n",
    "\n",
    "#Verificación\n",
    "\n",
    "cur.execute(\"SELECT * FROM truck_events LIMIT 1;\").fetchall"
   ]
  },
  {
   "cell_type": "markdown",
   "metadata": {},
   "source": [
    "## Consulta de datos"
   ]
  },
  {
   "cell_type": "code",
   "execution_count": null,
   "metadata": {},
   "outputs": [],
   "source": [
    "cur.execute(\"SELECT * FROM truck_events LIMIT 3; \").fetchall()"
   ]
  },
  {
   "cell_type": "markdown",
   "metadata": {},
   "source": [
    "## Obtención de un subconjunto de registros"
   ]
  },
  {
   "cell_type": "code",
   "execution_count": null,
   "metadata": {},
   "outputs": [],
   "source": [
    "conn.executescript(\"\"\"\n",
    "DROP TABLE IF EXISTS truc_events_subset;\n",
    "\n",
    "CREATE TABLE truc_events_Subset\n",
    "AS \n",
    "    SELECT * \n",
    "    FROM truck_events\n",
    "    LIMIT 100\n",
    "\n",
    "\"\"\")\n",
    "conn.commit()"
   ]
  },
  {
   "cell_type": "code",
   "execution_count": null,
   "metadata": {},
   "outputs": [],
   "source": [
    "cur.execute(\"SELECT * FROM truck_events_subset LIMIT1\").fetchall()"
   ]
  },
  {
   "cell_type": "markdown",
   "metadata": {},
   "source": [
    "## Obtención de un subconjunto de campos"
   ]
  },
  {
   "cell_type": "code",
   "execution_count": null,
   "metadata": {},
   "outputs": [],
   "source": [
    "conn.executescript(\"\"\"\n",
    "\n",
    "DROP TABLE IF EXISTS specific_columns;\n",
    "\n",
    "CREATE TABLE specific_columns\n",
    "AS \n",
    "    SELECT\n",
    "        driverID,\n",
    "        eventTime,\n",
    "        eventType,\n",
    "    FROM\n",
    "        truck_events_subset;\n",
    "\n",
    "SELECT * FROM specific_columns LIMIT1;\n",
    "\n",
    "\n",
    "\"\"\")\n",
    "\n",
    "conn.commit()"
   ]
  },
  {
   "cell_type": "code",
   "execution_count": null,
   "metadata": {},
   "outputs": [],
   "source": [
    "cur.execute(\"SELECT * FROM specific_columns LIMIT 2, 3;\").fetchall()"
   ]
  },
  {
   "cell_type": "code",
   "execution_count": null,
   "metadata": {},
   "outputs": [],
   "source": [
    "##\n",
    "## Registros parael driverId==11\n",
    "\n",
    "cur.execute(\"SELECT * FROM specific_columns WHERE driverID = 11;\").fetchall()"
   ]
  },
  {
   "cell_type": "code",
   "execution_count": null,
   "metadata": {},
   "outputs": [],
   "source": [
    "##\n",
    "## Tipos de eventos\n",
    "##\n",
    "cur.execute(\"SELECT DISTINCT eventType FROM specific_columns;\").fetchall()"
   ]
  },
  {
   "cell_type": "markdown",
   "metadata": {},
   "source": [
    "### Escritura de la tabla en el disco"
   ]
  },
  {
   "cell_type": "code",
   "execution_count": null,
   "metadata": {},
   "outputs": [],
   "source": [
    "## Obtención de los datos como una lista de tuplas\n",
    "\n",
    "data = cur.execute(\"SELECT * FROM truck_events_subset;\").fetchall()\n",
    "\n",
    "\n",
    "## Conversión de los elementos de la tupla a strings\n",
    "\n",
    "text = [[str(e) for e in row] for row in data]\n",
    "\n",
    "\n",
    "## Concatenación de strings\n",
    "\n",
    "text = [\",\".join(row) for row in text]\n",
    "text = \"\\n\".join(text)\n",
    "\n",
    "#Escritura al disco\n",
    "\n",
    "open(\"data.csv\", \"wt\").write(text)"
   ]
  },
  {
   "cell_type": "markdown",
   "metadata": {},
   "source": [
    "## Apéndice - Manejo de nulos"
   ]
  },
  {
   "cell_type": "code",
   "execution_count": 4,
   "metadata": {},
   "outputs": [],
   "source": [
    "conn.executescript(\"\"\"\n",
    "DROP TABLE IF EXISTS nulltable;\n",
    "CREATE TABLE nulltable(\n",
    "    col1 INT,\n",
    "    col2 VARCHAR(1)\n",
    ");\n",
    "\n",
    "INSERT INTO nulltable VALUES\n",
    "    (1, \"A\"),\n",
    "    (2, NULL),\n",
    "    (NULL, \"C\"),\n",
    "    (NULL, NULL),\n",
    "    (5, \"E\");\n",
    "\n",
    "\"\"\")\n",
    "conn.commit()"
   ]
  },
  {
   "cell_type": "code",
   "execution_count": 6,
   "metadata": {
    "scrolled": true
   },
   "outputs": [
    {
     "data": {
      "text/plain": [
       "[(1, 'A'), (2, None), (None, 'C'), (None, None), (5, 'E')]"
      ]
     },
     "execution_count": 6,
     "metadata": {},
     "output_type": "execute_result"
    }
   ],
   "source": [
    "cur.execute(\"SELECT * FROM nulltable;\").fetchall()"
   ]
  },
  {
   "cell_type": "code",
   "execution_count": 7,
   "metadata": {},
   "outputs": [
    {
     "data": {
      "text/plain": [
       "[(None, 'C'), (None, None)]"
      ]
     },
     "execution_count": 7,
     "metadata": {},
     "output_type": "execute_result"
    }
   ],
   "source": [
    "cur.execute(\"SELECT * FROM nulltable WHERE col1 IS NULL;\").fetchall()"
   ]
  },
  {
   "cell_type": "code",
   "execution_count": 8,
   "metadata": {},
   "outputs": [
    {
     "data": {
      "text/plain": [
       "[(2, None), (None, None)]"
      ]
     },
     "execution_count": 8,
     "metadata": {},
     "output_type": "execute_result"
    }
   ],
   "source": [
    "cur.execute(\"SELECT * FROM nulltable WHERE col2 IS NULL;\").fetchall()"
   ]
  },
  {
   "cell_type": "code",
   "execution_count": 9,
   "metadata": {},
   "outputs": [
    {
     "data": {
      "text/plain": [
       "[(1, 'A'), (2, 'Unknown'), ('Unknown', 'C'), ('Unknown', 'Unknown'), (5, 'E')]"
      ]
     },
     "execution_count": 9,
     "metadata": {},
     "output_type": "execute_result"
    }
   ],
   "source": [
    "##\n",
    "## condicionales\n",
    "##\n",
    "\n",
    "cur.execute(\"SELECT IFNULL(col1, 'Unknown'), IFNULL(col2, 'Unknown') FROM nulltable;\").fetchall()"
   ]
  }
 ],
 "metadata": {
  "kernelspec": {
   "display_name": "Python 3",
   "language": "python",
   "name": "python3"
  },
  "language_info": {
   "codemirror_mode": {
    "name": "ipython",
    "version": 3
   },
   "file_extension": ".py",
   "mimetype": "text/x-python",
   "name": "python",
   "nbconvert_exporter": "python",
   "pygments_lexer": "ipython3",
   "version": "3.8.3"
  }
 },
 "nbformat": 4,
 "nbformat_minor": 4
}
