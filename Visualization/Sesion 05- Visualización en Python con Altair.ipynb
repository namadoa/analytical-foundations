{
 "cells": [
  {
   "cell_type": "code",
   "execution_count": 2,
   "metadata": {
    "scrolled": true
   },
   "outputs": [
    {
     "name": "stdout",
     "output_type": "stream",
     "text": [
      "Collecting altair\n",
      "  Downloading altair-4.1.0-py3-none-any.whl (727 kB)\n",
      "Requirement already satisfied: toolz in c:\\users\\ofaa\\anaconda3\\lib\\site-packages (from altair) (0.10.0)\n",
      "Requirement already satisfied: entrypoints in c:\\users\\ofaa\\anaconda3\\lib\\site-packages (from altair) (0.3)\n",
      "Requirement already satisfied: numpy in c:\\users\\ofaa\\anaconda3\\lib\\site-packages (from altair) (1.18.5)\n",
      "Requirement already satisfied: jsonschema in c:\\users\\ofaa\\anaconda3\\lib\\site-packages (from altair) (3.2.0)\n",
      "Requirement already satisfied: pandas>=0.18 in c:\\users\\ofaa\\anaconda3\\lib\\site-packages (from altair) (1.0.5)\n",
      "Requirement already satisfied: jinja2 in c:\\users\\ofaa\\anaconda3\\lib\\site-packages (from altair) (2.11.2)\n",
      "Requirement already satisfied: attrs>=17.4.0 in c:\\users\\ofaa\\anaconda3\\lib\\site-packages (from jsonschema->altair) (19.3.0)\n",
      "Requirement already satisfied: pyrsistent>=0.14.0 in c:\\users\\ofaa\\anaconda3\\lib\\site-packages (from jsonschema->altair) (0.16.0)\n",
      "Requirement already satisfied: setuptools in c:\\users\\ofaa\\anaconda3\\lib\\site-packages (from jsonschema->altair) (49.2.0.post20200714)\n",
      "Requirement already satisfied: six>=1.11.0 in c:\\users\\ofaa\\anaconda3\\lib\\site-packages (from jsonschema->altair) (1.15.0)\n",
      "Requirement already satisfied: pytz>=2017.2 in c:\\users\\ofaa\\anaconda3\\lib\\site-packages (from pandas>=0.18->altair) (2020.1)\n",
      "Requirement already satisfied: python-dateutil>=2.6.1 in c:\\users\\ofaa\\anaconda3\\lib\\site-packages (from pandas>=0.18->altair) (2.8.1)\n",
      "Requirement already satisfied: MarkupSafe>=0.23 in c:\\users\\ofaa\\anaconda3\\lib\\site-packages (from jinja2->altair) (1.1.1)\n",
      "Installing collected packages: altair\n",
      "Successfully installed altair-4.1.0\n",
      "Note: you may need to restart the kernel to use updated packages.\n"
     ]
    }
   ],
   "source": [
    "pip install altair"
   ]
  },
  {
   "cell_type": "code",
   "execution_count": 4,
   "metadata": {
    "scrolled": true
   },
   "outputs": [
    {
     "name": "stdout",
     "output_type": "stream",
     "text": [
      "Requirement already satisfied: altair in c:\\users\\ofaa\\anaconda3\\lib\\site-packages (4.1.0)\n",
      "Collecting vega_datasets\n",
      "  Downloading vega_datasets-0.8.0-py2.py3-none-any.whl (210 kB)\n",
      "Requirement already satisfied: jinja2 in c:\\users\\ofaa\\anaconda3\\lib\\site-packages (from altair) (2.11.2)\n",
      "Requirement already satisfied: pandas>=0.18 in c:\\users\\ofaa\\anaconda3\\lib\\site-packages (from altair) (1.0.5)\n",
      "Requirement already satisfied: jsonschema in c:\\users\\ofaa\\anaconda3\\lib\\site-packages (from altair) (3.2.0)\n",
      "Requirement already satisfied: toolz in c:\\users\\ofaa\\anaconda3\\lib\\site-packages (from altair) (0.10.0)\n",
      "Requirement already satisfied: numpy in c:\\users\\ofaa\\anaconda3\\lib\\site-packages (from altair) (1.18.5)\n",
      "Requirement already satisfied: entrypoints in c:\\users\\ofaa\\anaconda3\\lib\\site-packages (from altair) (0.3)\n",
      "Requirement already satisfied: MarkupSafe>=0.23 in c:\\users\\ofaa\\anaconda3\\lib\\site-packages (from jinja2->altair) (1.1.1)\n",
      "Requirement already satisfied: pytz>=2017.2 in c:\\users\\ofaa\\anaconda3\\lib\\site-packages (from pandas>=0.18->altair) (2020.1)\n",
      "Requirement already satisfied: python-dateutil>=2.6.1 in c:\\users\\ofaa\\anaconda3\\lib\\site-packages (from pandas>=0.18->altair) (2.8.1)\n",
      "Requirement already satisfied: attrs>=17.4.0 in c:\\users\\ofaa\\anaconda3\\lib\\site-packages (from jsonschema->altair) (19.3.0)\n",
      "Requirement already satisfied: setuptools in c:\\users\\ofaa\\anaconda3\\lib\\site-packages (from jsonschema->altair) (49.2.0.post20200714)\n",
      "Requirement already satisfied: pyrsistent>=0.14.0 in c:\\users\\ofaa\\anaconda3\\lib\\site-packages (from jsonschema->altair) (0.16.0)\n",
      "Requirement already satisfied: six>=1.11.0 in c:\\users\\ofaa\\anaconda3\\lib\\site-packages (from jsonschema->altair) (1.15.0)\n",
      "Installing collected packages: vega-datasets\n",
      "Successfully installed vega-datasets-0.8.0\n",
      "Note: you may need to restart the kernel to use updated packages.\n"
     ]
    }
   ],
   "source": [
    "pip install altair vega_datasets"
   ]
  },
  {
   "cell_type": "code",
   "execution_count": 8,
   "metadata": {},
   "outputs": [],
   "source": [
    "## Preparación\n",
    "##\n",
    "import numpy as np\n",
    "import pandas as pd\n",
    "import altair as alt\n",
    "import matplotlib.pyplot as plt\n",
    "import matplotlib as mpl\n",
    "#alt.renderers.enable('notebook');\n",
    "%matplotlib inline\n"
   ]
  },
  {
   "cell_type": "code",
   "execution_count": 20,
   "metadata": {},
   "outputs": [],
   "source": [
    "df = pd.read_csv(\"https://raw.githubusercontent.com/jdvelasq/playground/master/datasets/indicadores-mundiales.csv\",\n",
    "                 sep = ',',           # separador de campos\n",
    "                 thousands = None,    # separador de miles para números\n",
    "                 decimal = '.',       # separador de los decimales para números\n",
    "                 encoding='latin-1')  # idioma"
   ]
  },
  {
   "cell_type": "code",
   "execution_count": 22,
   "metadata": {
    "scrolled": false
   },
   "outputs": [
    {
     "data": {
      "text/html": [
       "<div>\n",
       "<style scoped>\n",
       "    .dataframe tbody tr th:only-of-type {\n",
       "        vertical-align: middle;\n",
       "    }\n",
       "\n",
       "    .dataframe tbody tr th {\n",
       "        vertical-align: top;\n",
       "    }\n",
       "\n",
       "    .dataframe thead th {\n",
       "        text-align: right;\n",
       "    }\n",
       "</style>\n",
       "<table border=\"1\" class=\"dataframe\">\n",
       "  <thead>\n",
       "    <tr style=\"text-align: right;\">\n",
       "      <th></th>\n",
       "      <th>Poblacion 0-14</th>\n",
       "      <th>Poblacion 15-64</th>\n",
       "      <th>Poblacion 65+</th>\n",
       "    </tr>\n",
       "    <tr>\n",
       "      <th>Region</th>\n",
       "      <th></th>\n",
       "      <th></th>\n",
       "      <th></th>\n",
       "    </tr>\n",
       "  </thead>\n",
       "  <tbody>\n",
       "    <tr>\n",
       "      <th>Asia</th>\n",
       "      <td>5318.6</td>\n",
       "      <td>10668.7</td>\n",
       "      <td>1013.0</td>\n",
       "    </tr>\n",
       "    <tr>\n",
       "      <th>Europa</th>\n",
       "      <td>3780.2</td>\n",
       "      <td>13830.6</td>\n",
       "      <td>2890.5</td>\n",
       "    </tr>\n",
       "    <tr>\n",
       "      <th>Las Americas</th>\n",
       "      <td>5375.5</td>\n",
       "      <td>10901.8</td>\n",
       "      <td>1223.1</td>\n",
       "    </tr>\n",
       "    <tr>\n",
       "      <th>Oceania</th>\n",
       "      <td>1784.8</td>\n",
       "      <td>3133.1</td>\n",
       "      <td>282.5</td>\n",
       "    </tr>\n",
       "    <tr>\n",
       "      <th>Oriente Medio</th>\n",
       "      <td>1754.7</td>\n",
       "      <td>3251.1</td>\n",
       "      <td>194.2</td>\n",
       "    </tr>\n",
       "    <tr>\n",
       "      <th>africa</th>\n",
       "      <td>11136.2</td>\n",
       "      <td>14452.7</td>\n",
       "      <td>911.7</td>\n",
       "    </tr>\n",
       "  </tbody>\n",
       "</table>\n",
       "</div>"
      ],
      "text/plain": [
       "               Poblacion 0-14  Poblacion 15-64  Poblacion 65+\n",
       "Region                                                       \n",
       "Asia                   5318.6          10668.7         1013.0\n",
       "Europa                 3780.2          13830.6         2890.5\n",
       "Las Americas           5375.5          10901.8         1223.1\n",
       "Oceania                1784.8           3133.1          282.5\n",
       "Oriente Medio          1754.7           3251.1          194.2\n",
       "africa                11136.2          14452.7          911.7"
      ]
     },
     "execution_count": 22,
     "metadata": {},
     "output_type": "execute_result"
    }
   ],
   "source": [
    "df = df.groupby('Region').sum()[['Poblacion 0-14', 'Poblacion 15-64', 'Poblacion 65+']]\n",
    "df"
   ]
  },
  {
   "cell_type": "markdown",
   "metadata": {},
   "source": [
    "Altair opera directamente sobre los campos del DataFrame. Por ello, para construir el gráfico solicitado, se requiere cambiar la forma del DataFrame mediante una operación de stack(), así:"
   ]
  },
  {
   "cell_type": "code",
   "execution_count": 24,
   "metadata": {
    "scrolled": true
   },
   "outputs": [
    {
     "data": {
      "text/html": [
       "<div>\n",
       "<style scoped>\n",
       "    .dataframe tbody tr th:only-of-type {\n",
       "        vertical-align: middle;\n",
       "    }\n",
       "\n",
       "    .dataframe tbody tr th {\n",
       "        vertical-align: top;\n",
       "    }\n",
       "\n",
       "    .dataframe thead th {\n",
       "        text-align: right;\n",
       "    }\n",
       "</style>\n",
       "<table border=\"1\" class=\"dataframe\">\n",
       "  <thead>\n",
       "    <tr style=\"text-align: right;\">\n",
       "      <th></th>\n",
       "      <th></th>\n",
       "      <th></th>\n",
       "      <th>0</th>\n",
       "    </tr>\n",
       "    <tr>\n",
       "      <th>Region</th>\n",
       "      <th></th>\n",
       "      <th></th>\n",
       "      <th></th>\n",
       "    </tr>\n",
       "  </thead>\n",
       "  <tbody>\n",
       "    <tr>\n",
       "      <th rowspan=\"3\" valign=\"top\">Asia</th>\n",
       "      <th>Poblacion 0-14</th>\n",
       "      <th>0</th>\n",
       "      <td>5318.6</td>\n",
       "    </tr>\n",
       "    <tr>\n",
       "      <th>Poblacion 15-64</th>\n",
       "      <th>0</th>\n",
       "      <td>10668.7</td>\n",
       "    </tr>\n",
       "    <tr>\n",
       "      <th>Poblacion 65+</th>\n",
       "      <th>0</th>\n",
       "      <td>1013.0</td>\n",
       "    </tr>\n",
       "    <tr>\n",
       "      <th rowspan=\"3\" valign=\"top\">Europa</th>\n",
       "      <th>Poblacion 0-14</th>\n",
       "      <th>0</th>\n",
       "      <td>3780.2</td>\n",
       "    </tr>\n",
       "    <tr>\n",
       "      <th>Poblacion 15-64</th>\n",
       "      <th>0</th>\n",
       "      <td>13830.6</td>\n",
       "    </tr>\n",
       "    <tr>\n",
       "      <th>Poblacion 65+</th>\n",
       "      <th>0</th>\n",
       "      <td>2890.5</td>\n",
       "    </tr>\n",
       "    <tr>\n",
       "      <th rowspan=\"3\" valign=\"top\">Las Americas</th>\n",
       "      <th>Poblacion 0-14</th>\n",
       "      <th>0</th>\n",
       "      <td>5375.5</td>\n",
       "    </tr>\n",
       "    <tr>\n",
       "      <th>Poblacion 15-64</th>\n",
       "      <th>0</th>\n",
       "      <td>10901.8</td>\n",
       "    </tr>\n",
       "    <tr>\n",
       "      <th>Poblacion 65+</th>\n",
       "      <th>0</th>\n",
       "      <td>1223.1</td>\n",
       "    </tr>\n",
       "    <tr>\n",
       "      <th rowspan=\"3\" valign=\"top\">Oceania</th>\n",
       "      <th>Poblacion 0-14</th>\n",
       "      <th>0</th>\n",
       "      <td>1784.8</td>\n",
       "    </tr>\n",
       "    <tr>\n",
       "      <th>Poblacion 15-64</th>\n",
       "      <th>0</th>\n",
       "      <td>3133.1</td>\n",
       "    </tr>\n",
       "    <tr>\n",
       "      <th>Poblacion 65+</th>\n",
       "      <th>0</th>\n",
       "      <td>282.5</td>\n",
       "    </tr>\n",
       "    <tr>\n",
       "      <th rowspan=\"3\" valign=\"top\">Oriente Medio</th>\n",
       "      <th>Poblacion 0-14</th>\n",
       "      <th>0</th>\n",
       "      <td>1754.7</td>\n",
       "    </tr>\n",
       "    <tr>\n",
       "      <th>Poblacion 15-64</th>\n",
       "      <th>0</th>\n",
       "      <td>3251.1</td>\n",
       "    </tr>\n",
       "    <tr>\n",
       "      <th>Poblacion 65+</th>\n",
       "      <th>0</th>\n",
       "      <td>194.2</td>\n",
       "    </tr>\n",
       "    <tr>\n",
       "      <th rowspan=\"3\" valign=\"top\">africa</th>\n",
       "      <th>Poblacion 0-14</th>\n",
       "      <th>0</th>\n",
       "      <td>11136.2</td>\n",
       "    </tr>\n",
       "    <tr>\n",
       "      <th>Poblacion 15-64</th>\n",
       "      <th>0</th>\n",
       "      <td>14452.7</td>\n",
       "    </tr>\n",
       "    <tr>\n",
       "      <th>Poblacion 65+</th>\n",
       "      <th>0</th>\n",
       "      <td>911.7</td>\n",
       "    </tr>\n",
       "  </tbody>\n",
       "</table>\n",
       "</div>"
      ],
      "text/plain": [
       "                                       0\n",
       "Region                                  \n",
       "Asia          Poblacion 0-14  0   5318.6\n",
       "              Poblacion 15-64 0  10668.7\n",
       "              Poblacion 65+   0   1013.0\n",
       "Europa        Poblacion 0-14  0   3780.2\n",
       "              Poblacion 15-64 0  13830.6\n",
       "              Poblacion 65+   0   2890.5\n",
       "Las Americas  Poblacion 0-14  0   5375.5\n",
       "              Poblacion 15-64 0  10901.8\n",
       "              Poblacion 65+   0   1223.1\n",
       "Oceania       Poblacion 0-14  0   1784.8\n",
       "              Poblacion 15-64 0   3133.1\n",
       "              Poblacion 65+   0    282.5\n",
       "Oriente Medio Poblacion 0-14  0   1754.7\n",
       "              Poblacion 15-64 0   3251.1\n",
       "              Poblacion 65+   0    194.2\n",
       "africa        Poblacion 0-14  0  11136.2\n",
       "              Poblacion 15-64 0  14452.7\n",
       "              Poblacion 65+   0    911.7"
      ]
     },
     "execution_count": 24,
     "metadata": {},
     "output_type": "execute_result"
    }
   ],
   "source": [
    "df = pd.DataFrame(df.stack())\n",
    "df"
   ]
  },
  {
   "cell_type": "code",
   "execution_count": 12,
   "metadata": {
    "scrolled": true
   },
   "outputs": [
    {
     "name": "stdout",
     "output_type": "stream",
     "text": [
      "('Asia', 'Poblacion 0-14')\n",
      "('Asia', 'Poblacion 15-64')\n",
      "('Asia', 'Poblacion 65+')\n",
      "('Europa', 'Poblacion 0-14')\n",
      "('Europa', 'Poblacion 15-64')\n",
      "('Europa', 'Poblacion 65+')\n",
      "('Las Americas', 'Poblacion 0-14')\n",
      "('Las Americas', 'Poblacion 15-64')\n",
      "('Las Americas', 'Poblacion 65+')\n",
      "('Oceania', 'Poblacion 0-14')\n",
      "('Oceania', 'Poblacion 15-64')\n",
      "('Oceania', 'Poblacion 65+')\n",
      "('Oriente Medio', 'Poblacion 0-14')\n",
      "('Oriente Medio', 'Poblacion 15-64')\n",
      "('Oriente Medio', 'Poblacion 65+')\n",
      "('africa', 'Poblacion 0-14')\n",
      "('africa', 'Poblacion 15-64')\n",
      "('africa', 'Poblacion 65+')\n"
     ]
    }
   ],
   "source": [
    "## El índice de cada fila es una tupla con el nombre\n",
    "## de la región y el rango de edad\n",
    "for p in df.index:\n",
    "    print(p)"
   ]
  },
  {
   "cell_type": "code",
   "execution_count": 25,
   "metadata": {},
   "outputs": [],
   "source": [
    "# # Se cambia el nombre de la última columna\n",
    "df.columns = [\"Poblacion\"]\n",
    "\n",
    "# #Se agrega la columna Region y se extrae la región como la primera\n",
    "# #componente del índice\n",
    "df[\"Region\"] = [p[0] for p in df.index]\n",
    "\n",
    "## Se agrega la columna Edad y se extrae como\n",
    "## La segunda componente del índice\n",
    "df[\"Age\"] = [p[1] for p in df.index]"
   ]
  },
  {
   "cell_type": "code",
   "execution_count": 26,
   "metadata": {},
   "outputs": [],
   "source": [
    "df.index = range(len(df))"
   ]
  },
  {
   "cell_type": "code",
   "execution_count": 27,
   "metadata": {
    "scrolled": true
   },
   "outputs": [
    {
     "data": {
      "text/html": [
       "<div>\n",
       "<style scoped>\n",
       "    .dataframe tbody tr th:only-of-type {\n",
       "        vertical-align: middle;\n",
       "    }\n",
       "\n",
       "    .dataframe tbody tr th {\n",
       "        vertical-align: top;\n",
       "    }\n",
       "\n",
       "    .dataframe thead th {\n",
       "        text-align: right;\n",
       "    }\n",
       "</style>\n",
       "<table border=\"1\" class=\"dataframe\">\n",
       "  <thead>\n",
       "    <tr style=\"text-align: right;\">\n",
       "      <th></th>\n",
       "      <th>Poblacion</th>\n",
       "      <th>Region</th>\n",
       "      <th>Age</th>\n",
       "    </tr>\n",
       "  </thead>\n",
       "  <tbody>\n",
       "    <tr>\n",
       "      <th>0</th>\n",
       "      <td>5318.6</td>\n",
       "      <td>Asia</td>\n",
       "      <td>Poblacion 0-14</td>\n",
       "    </tr>\n",
       "    <tr>\n",
       "      <th>1</th>\n",
       "      <td>10668.7</td>\n",
       "      <td>Asia</td>\n",
       "      <td>Poblacion 15-64</td>\n",
       "    </tr>\n",
       "    <tr>\n",
       "      <th>2</th>\n",
       "      <td>1013.0</td>\n",
       "      <td>Asia</td>\n",
       "      <td>Poblacion 65+</td>\n",
       "    </tr>\n",
       "    <tr>\n",
       "      <th>3</th>\n",
       "      <td>3780.2</td>\n",
       "      <td>Europa</td>\n",
       "      <td>Poblacion 0-14</td>\n",
       "    </tr>\n",
       "    <tr>\n",
       "      <th>4</th>\n",
       "      <td>13830.6</td>\n",
       "      <td>Europa</td>\n",
       "      <td>Poblacion 15-64</td>\n",
       "    </tr>\n",
       "    <tr>\n",
       "      <th>5</th>\n",
       "      <td>2890.5</td>\n",
       "      <td>Europa</td>\n",
       "      <td>Poblacion 65+</td>\n",
       "    </tr>\n",
       "    <tr>\n",
       "      <th>6</th>\n",
       "      <td>5375.5</td>\n",
       "      <td>Las Americas</td>\n",
       "      <td>Poblacion 0-14</td>\n",
       "    </tr>\n",
       "    <tr>\n",
       "      <th>7</th>\n",
       "      <td>10901.8</td>\n",
       "      <td>Las Americas</td>\n",
       "      <td>Poblacion 15-64</td>\n",
       "    </tr>\n",
       "    <tr>\n",
       "      <th>8</th>\n",
       "      <td>1223.1</td>\n",
       "      <td>Las Americas</td>\n",
       "      <td>Poblacion 65+</td>\n",
       "    </tr>\n",
       "    <tr>\n",
       "      <th>9</th>\n",
       "      <td>1784.8</td>\n",
       "      <td>Oceania</td>\n",
       "      <td>Poblacion 0-14</td>\n",
       "    </tr>\n",
       "    <tr>\n",
       "      <th>10</th>\n",
       "      <td>3133.1</td>\n",
       "      <td>Oceania</td>\n",
       "      <td>Poblacion 15-64</td>\n",
       "    </tr>\n",
       "    <tr>\n",
       "      <th>11</th>\n",
       "      <td>282.5</td>\n",
       "      <td>Oceania</td>\n",
       "      <td>Poblacion 65+</td>\n",
       "    </tr>\n",
       "    <tr>\n",
       "      <th>12</th>\n",
       "      <td>1754.7</td>\n",
       "      <td>Oriente Medio</td>\n",
       "      <td>Poblacion 0-14</td>\n",
       "    </tr>\n",
       "    <tr>\n",
       "      <th>13</th>\n",
       "      <td>3251.1</td>\n",
       "      <td>Oriente Medio</td>\n",
       "      <td>Poblacion 15-64</td>\n",
       "    </tr>\n",
       "    <tr>\n",
       "      <th>14</th>\n",
       "      <td>194.2</td>\n",
       "      <td>Oriente Medio</td>\n",
       "      <td>Poblacion 65+</td>\n",
       "    </tr>\n",
       "    <tr>\n",
       "      <th>15</th>\n",
       "      <td>11136.2</td>\n",
       "      <td>africa</td>\n",
       "      <td>Poblacion 0-14</td>\n",
       "    </tr>\n",
       "    <tr>\n",
       "      <th>16</th>\n",
       "      <td>14452.7</td>\n",
       "      <td>africa</td>\n",
       "      <td>Poblacion 15-64</td>\n",
       "    </tr>\n",
       "    <tr>\n",
       "      <th>17</th>\n",
       "      <td>911.7</td>\n",
       "      <td>africa</td>\n",
       "      <td>Poblacion 65+</td>\n",
       "    </tr>\n",
       "  </tbody>\n",
       "</table>\n",
       "</div>"
      ],
      "text/plain": [
       "    Poblacion         Region              Age\n",
       "0      5318.6           Asia   Poblacion 0-14\n",
       "1     10668.7           Asia  Poblacion 15-64\n",
       "2      1013.0           Asia    Poblacion 65+\n",
       "3      3780.2         Europa   Poblacion 0-14\n",
       "4     13830.6         Europa  Poblacion 15-64\n",
       "5      2890.5         Europa    Poblacion 65+\n",
       "6      5375.5   Las Americas   Poblacion 0-14\n",
       "7     10901.8   Las Americas  Poblacion 15-64\n",
       "8      1223.1   Las Americas    Poblacion 65+\n",
       "9      1784.8        Oceania   Poblacion 0-14\n",
       "10     3133.1        Oceania  Poblacion 15-64\n",
       "11      282.5        Oceania    Poblacion 65+\n",
       "12     1754.7  Oriente Medio   Poblacion 0-14\n",
       "13     3251.1  Oriente Medio  Poblacion 15-64\n",
       "14      194.2  Oriente Medio    Poblacion 65+\n",
       "15    11136.2         africa   Poblacion 0-14\n",
       "16    14452.7         africa  Poblacion 15-64\n",
       "17      911.7         africa    Poblacion 65+"
      ]
     },
     "execution_count": 27,
     "metadata": {},
     "output_type": "execute_result"
    }
   ],
   "source": [
    "df"
   ]
  },
  {
   "cell_type": "markdown",
   "metadata": {},
   "source": [
    "## Construcción del gráfico"
   ]
  },
  {
   "cell_type": "markdown",
   "metadata": {},
   "source": [
    "Se realiza la primera interación para construir el gráfico. La estructura de un gráfico en Altair siempre es la misma. La componente mark_bar() indica el tipo de gráfico. Los campos se indican mediante su nombre, seguido de :, seguido del tipo de dato (N: Nominal, Q: Quantity)."
   ]
  },
  {
   "cell_type": "code",
   "execution_count": 29,
   "metadata": {
    "scrolled": true
   },
   "outputs": [
    {
     "data": {
      "text/html": [
       "\n",
       "<div id=\"altair-viz-94e329ea318647e0b959c39e3ffbe093\"></div>\n",
       "<script type=\"text/javascript\">\n",
       "  (function(spec, embedOpt){\n",
       "    let outputDiv = document.currentScript.previousElementSibling;\n",
       "    if (outputDiv.id !== \"altair-viz-94e329ea318647e0b959c39e3ffbe093\") {\n",
       "      outputDiv = document.getElementById(\"altair-viz-94e329ea318647e0b959c39e3ffbe093\");\n",
       "    }\n",
       "    const paths = {\n",
       "      \"vega\": \"https://cdn.jsdelivr.net/npm//vega@5?noext\",\n",
       "      \"vega-lib\": \"https://cdn.jsdelivr.net/npm//vega-lib?noext\",\n",
       "      \"vega-lite\": \"https://cdn.jsdelivr.net/npm//vega-lite@4.8.1?noext\",\n",
       "      \"vega-embed\": \"https://cdn.jsdelivr.net/npm//vega-embed@6?noext\",\n",
       "    };\n",
       "\n",
       "    function loadScript(lib) {\n",
       "      return new Promise(function(resolve, reject) {\n",
       "        var s = document.createElement('script');\n",
       "        s.src = paths[lib];\n",
       "        s.async = true;\n",
       "        s.onload = () => resolve(paths[lib]);\n",
       "        s.onerror = () => reject(`Error loading script: ${paths[lib]}`);\n",
       "        document.getElementsByTagName(\"head\")[0].appendChild(s);\n",
       "      });\n",
       "    }\n",
       "\n",
       "    function showError(err) {\n",
       "      outputDiv.innerHTML = `<div class=\"error\" style=\"color:red;\">${err}</div>`;\n",
       "      throw err;\n",
       "    }\n",
       "\n",
       "    function displayChart(vegaEmbed) {\n",
       "      vegaEmbed(outputDiv, spec, embedOpt)\n",
       "        .catch(err => showError(`Javascript Error: ${err.message}<br>This usually means there's a typo in your chart specification. See the javascript console for the full traceback.`));\n",
       "    }\n",
       "\n",
       "    if(typeof define === \"function\" && define.amd) {\n",
       "      requirejs.config({paths});\n",
       "      require([\"vega-embed\"], displayChart, err => showError(`Error loading script: ${err.message}`));\n",
       "    } else if (typeof vegaEmbed === \"function\") {\n",
       "      displayChart(vegaEmbed);\n",
       "    } else {\n",
       "      loadScript(\"vega\")\n",
       "        .then(() => loadScript(\"vega-lite\"))\n",
       "        .then(() => loadScript(\"vega-embed\"))\n",
       "        .catch(showError)\n",
       "        .then(() => displayChart(vegaEmbed));\n",
       "    }\n",
       "  })({\"config\": {\"view\": {\"continuousWidth\": 400, \"continuousHeight\": 300}}, \"data\": {\"name\": \"data-79353f9e73966b76ee648c81c5e15d05\"}, \"mark\": \"bar\", \"encoding\": {\"x\": {\"type\": \"nominal\", \"field\": \"Region\"}, \"y\": {\"type\": \"quantitative\", \"field\": \"Poblacion\"}}, \"$schema\": \"https://vega.github.io/schema/vega-lite/v4.8.1.json\", \"datasets\": {\"data-79353f9e73966b76ee648c81c5e15d05\": [{\"Poblacion\": 5318.5999999999985, \"Region\": \"Asia\", \"Age\": \"Poblacion 0-14\"}, {\"Poblacion\": 10668.699999999999, \"Region\": \"Asia\", \"Age\": \"Poblacion 15-64\"}, {\"Poblacion\": 1013.0000000000001, \"Region\": \"Asia\", \"Age\": \"Poblacion 65+\"}, {\"Poblacion\": 3780.200000000001, \"Region\": \"Europa\", \"Age\": \"Poblacion 0-14\"}, {\"Poblacion\": 13830.599999999999, \"Region\": \"Europa\", \"Age\": \"Poblacion 15-64\"}, {\"Poblacion\": 2890.500000000002, \"Region\": \"Europa\", \"Age\": \"Poblacion 65+\"}, {\"Poblacion\": 5375.500000000002, \"Region\": \"Las Americas\", \"Age\": \"Poblacion 0-14\"}, {\"Poblacion\": 10901.799999999996, \"Region\": \"Las Americas\", \"Age\": \"Poblacion 15-64\"}, {\"Poblacion\": 1223.1, \"Region\": \"Las Americas\", \"Age\": \"Poblacion 65+\"}, {\"Poblacion\": 1784.8, \"Region\": \"Oceania\", \"Age\": \"Poblacion 0-14\"}, {\"Poblacion\": 3133.1000000000004, \"Region\": \"Oceania\", \"Age\": \"Poblacion 15-64\"}, {\"Poblacion\": 282.50000000000006, \"Region\": \"Oceania\", \"Age\": \"Poblacion 65+\"}, {\"Poblacion\": 1754.7000000000003, \"Region\": \"Oriente Medio\", \"Age\": \"Poblacion 0-14\"}, {\"Poblacion\": 3251.1000000000004, \"Region\": \"Oriente Medio\", \"Age\": \"Poblacion 15-64\"}, {\"Poblacion\": 194.20000000000005, \"Region\": \"Oriente Medio\", \"Age\": \"Poblacion 65+\"}, {\"Poblacion\": 11136.2, \"Region\": \"africa\", \"Age\": \"Poblacion 0-14\"}, {\"Poblacion\": 14452.699999999992, \"Region\": \"africa\", \"Age\": \"Poblacion 15-64\"}, {\"Poblacion\": 911.7000000000003, \"Region\": \"africa\", \"Age\": \"Poblacion 65+\"}]}}, {\"mode\": \"vega-lite\"});\n",
       "</script>"
      ],
      "text/plain": [
       "alt.Chart(...)"
      ]
     },
     "execution_count": 29,
     "metadata": {},
     "output_type": "execute_result"
    }
   ],
   "source": [
    "##\n",
    "## En este primer gráfico, los valores están apilados.\n",
    "##\n",
    "alt.Chart(df).mark_bar().encode(\n",
    "    x = \"Region:N\",\n",
    "    y = \"Poblacion:Q\")"
   ]
  },
  {
   "cell_type": "code",
   "execution_count": 44,
   "metadata": {
    "scrolled": true
   },
   "outputs": [
    {
     "data": {
      "text/plain": [
       "Text(0, 0.5, 'Poblacion')"
      ]
     },
     "execution_count": 44,
     "metadata": {},
     "output_type": "execute_result"
    },
    {
     "data": {
      "image/png": "[encoded data removed]",
      "text/plain": [
       "<Figure size 432x288 with 1 Axes>"
      ]
     },
     "metadata": {
      "needs_background": "light"
     },
     "output_type": "display_data"
    }
   ],
   "source": [
    "plt.bar(df[\"Region\"], df[\"Poblacion\"])\n",
    "plt.xticks(rotation = \"vertical\")\n",
    "plt.xlabel(\"Region\")\n",
    "plt.ylabel(\"Poblacion\")"
   ]
  },
  {
   "cell_type": "code",
   "execution_count": 48,
   "metadata": {
    "scrolled": true
   },
   "outputs": [
    {
     "data": {
      "text/html": [
       "\n",
       "<div id=\"altair-viz-42e4f07448334d68a64764bf7c32872b\"></div>\n",
       "<script type=\"text/javascript\">\n",
       "  (function(spec, embedOpt){\n",
       "    let outputDiv = document.currentScript.previousElementSibling;\n",
       "    if (outputDiv.id !== \"altair-viz-42e4f07448334d68a64764bf7c32872b\") {\n",
       "      outputDiv = document.getElementById(\"altair-viz-42e4f07448334d68a64764bf7c32872b\");\n",
       "    }\n",
       "    const paths = {\n",
       "      \"vega\": \"https://cdn.jsdelivr.net/npm//vega@5?noext\",\n",
       "      \"vega-lib\": \"https://cdn.jsdelivr.net/npm//vega-lib?noext\",\n",
       "      \"vega-lite\": \"https://cdn.jsdelivr.net/npm//vega-lite@4.8.1?noext\",\n",
       "      \"vega-embed\": \"https://cdn.jsdelivr.net/npm//vega-embed@6?noext\",\n",
       "    };\n",
       "\n",
       "    function loadScript(lib) {\n",
       "      return new Promise(function(resolve, reject) {\n",
       "        var s = document.createElement('script');\n",
       "        s.src = paths[lib];\n",
       "        s.async = true;\n",
       "        s.onload = () => resolve(paths[lib]);\n",
       "        s.onerror = () => reject(`Error loading script: ${paths[lib]}`);\n",
       "        document.getElementsByTagName(\"head\")[0].appendChild(s);\n",
       "      });\n",
       "    }\n",
       "\n",
       "    function showError(err) {\n",
       "      outputDiv.innerHTML = `<div class=\"error\" style=\"color:red;\">${err}</div>`;\n",
       "      throw err;\n",
       "    }\n",
       "\n",
       "    function displayChart(vegaEmbed) {\n",
       "      vegaEmbed(outputDiv, spec, embedOpt)\n",
       "        .catch(err => showError(`Javascript Error: ${err.message}<br>This usually means there's a typo in your chart specification. See the javascript console for the full traceback.`));\n",
       "    }\n",
       "\n",
       "    if(typeof define === \"function\" && define.amd) {\n",
       "      requirejs.config({paths});\n",
       "      require([\"vega-embed\"], displayChart, err => showError(`Error loading script: ${err.message}`));\n",
       "    } else if (typeof vegaEmbed === \"function\") {\n",
       "      displayChart(vegaEmbed);\n",
       "    } else {\n",
       "      loadScript(\"vega\")\n",
       "        .then(() => loadScript(\"vega-lite\"))\n",
       "        .then(() => loadScript(\"vega-embed\"))\n",
       "        .catch(showError)\n",
       "        .then(() => displayChart(vegaEmbed));\n",
       "    }\n",
       "  })({\"config\": {\"view\": {\"continuousWidth\": 400, \"continuousHeight\": 300}}, \"data\": {\"name\": \"data-79353f9e73966b76ee648c81c5e15d05\"}, \"mark\": \"bar\", \"encoding\": {\"color\": {\"type\": \"nominal\", \"field\": \"Age\"}, \"x\": {\"type\": \"nominal\", \"field\": \"Region\"}, \"y\": {\"type\": \"quantitative\", \"field\": \"Poblacion\"}}, \"$schema\": \"https://vega.github.io/schema/vega-lite/v4.8.1.json\", \"datasets\": {\"data-79353f9e73966b76ee648c81c5e15d05\": [{\"Poblacion\": 5318.5999999999985, \"Region\": \"Asia\", \"Age\": \"Poblacion 0-14\"}, {\"Poblacion\": 10668.699999999999, \"Region\": \"Asia\", \"Age\": \"Poblacion 15-64\"}, {\"Poblacion\": 1013.0000000000001, \"Region\": \"Asia\", \"Age\": \"Poblacion 65+\"}, {\"Poblacion\": 3780.200000000001, \"Region\": \"Europa\", \"Age\": \"Poblacion 0-14\"}, {\"Poblacion\": 13830.599999999999, \"Region\": \"Europa\", \"Age\": \"Poblacion 15-64\"}, {\"Poblacion\": 2890.500000000002, \"Region\": \"Europa\", \"Age\": \"Poblacion 65+\"}, {\"Poblacion\": 5375.500000000002, \"Region\": \"Las Americas\", \"Age\": \"Poblacion 0-14\"}, {\"Poblacion\": 10901.799999999996, \"Region\": \"Las Americas\", \"Age\": \"Poblacion 15-64\"}, {\"Poblacion\": 1223.1, \"Region\": \"Las Americas\", \"Age\": \"Poblacion 65+\"}, {\"Poblacion\": 1784.8, \"Region\": \"Oceania\", \"Age\": \"Poblacion 0-14\"}, {\"Poblacion\": 3133.1000000000004, \"Region\": \"Oceania\", \"Age\": \"Poblacion 15-64\"}, {\"Poblacion\": 282.50000000000006, \"Region\": \"Oceania\", \"Age\": \"Poblacion 65+\"}, {\"Poblacion\": 1754.7000000000003, \"Region\": \"Oriente Medio\", \"Age\": \"Poblacion 0-14\"}, {\"Poblacion\": 3251.1000000000004, \"Region\": \"Oriente Medio\", \"Age\": \"Poblacion 15-64\"}, {\"Poblacion\": 194.20000000000005, \"Region\": \"Oriente Medio\", \"Age\": \"Poblacion 65+\"}, {\"Poblacion\": 11136.2, \"Region\": \"africa\", \"Age\": \"Poblacion 0-14\"}, {\"Poblacion\": 14452.699999999992, \"Region\": \"africa\", \"Age\": \"Poblacion 15-64\"}, {\"Poblacion\": 911.7000000000003, \"Region\": \"africa\", \"Age\": \"Poblacion 65+\"}]}}, {\"mode\": \"vega-lite\"});\n",
       "</script>"
      ],
      "text/plain": [
       "alt.Chart(...)"
      ]
     },
     "execution_count": 48,
     "metadata": {},
     "output_type": "execute_result"
    }
   ],
   "source": [
    "##\n",
    "## Se cambian los colores para cada rango de edad\n",
    "\n",
    "alt.Chart(df).mark_bar().encode(\n",
    "    x = 'Region:N',          # Columna en el eje X\n",
    "    y = 'Poblacion:Q',       # Columna en el eje Y\n",
    "    color = 'Age:N'          # Los colores cambian con el\n",
    ")      "
   ]
  },
  {
   "cell_type": "code",
   "execution_count": 49,
   "metadata": {
    "scrolled": true
   },
   "outputs": [
    {
     "data": {
      "text/html": [
       "\n",
       "<div id=\"altair-viz-4e4002035da448c3a8fc7fd99c46a9d8\"></div>\n",
       "<script type=\"text/javascript\">\n",
       "  (function(spec, embedOpt){\n",
       "    let outputDiv = document.currentScript.previousElementSibling;\n",
       "    if (outputDiv.id !== \"altair-viz-4e4002035da448c3a8fc7fd99c46a9d8\") {\n",
       "      outputDiv = document.getElementById(\"altair-viz-4e4002035da448c3a8fc7fd99c46a9d8\");\n",
       "    }\n",
       "    const paths = {\n",
       "      \"vega\": \"https://cdn.jsdelivr.net/npm//vega@5?noext\",\n",
       "      \"vega-lib\": \"https://cdn.jsdelivr.net/npm//vega-lib?noext\",\n",
       "      \"vega-lite\": \"https://cdn.jsdelivr.net/npm//vega-lite@4.8.1?noext\",\n",
       "      \"vega-embed\": \"https://cdn.jsdelivr.net/npm//vega-embed@6?noext\",\n",
       "    };\n",
       "\n",
       "    function loadScript(lib) {\n",
       "      return new Promise(function(resolve, reject) {\n",
       "        var s = document.createElement('script');\n",
       "        s.src = paths[lib];\n",
       "        s.async = true;\n",
       "        s.onload = () => resolve(paths[lib]);\n",
       "        s.onerror = () => reject(`Error loading script: ${paths[lib]}`);\n",
       "        document.getElementsByTagName(\"head\")[0].appendChild(s);\n",
       "      });\n",
       "    }\n",
       "\n",
       "    function showError(err) {\n",
       "      outputDiv.innerHTML = `<div class=\"error\" style=\"color:red;\">${err}</div>`;\n",
       "      throw err;\n",
       "    }\n",
       "\n",
       "    function displayChart(vegaEmbed) {\n",
       "      vegaEmbed(outputDiv, spec, embedOpt)\n",
       "        .catch(err => showError(`Javascript Error: ${err.message}<br>This usually means there's a typo in your chart specification. See the javascript console for the full traceback.`));\n",
       "    }\n",
       "\n",
       "    if(typeof define === \"function\" && define.amd) {\n",
       "      requirejs.config({paths});\n",
       "      require([\"vega-embed\"], displayChart, err => showError(`Error loading script: ${err.message}`));\n",
       "    } else if (typeof vegaEmbed === \"function\") {\n",
       "      displayChart(vegaEmbed);\n",
       "    } else {\n",
       "      loadScript(\"vega\")\n",
       "        .then(() => loadScript(\"vega-lite\"))\n",
       "        .then(() => loadScript(\"vega-embed\"))\n",
       "        .catch(showError)\n",
       "        .then(() => displayChart(vegaEmbed));\n",
       "    }\n",
       "  })({\"config\": {\"view\": {\"continuousWidth\": 400, \"continuousHeight\": 300}}, \"data\": {\"name\": \"data-79353f9e73966b76ee648c81c5e15d05\"}, \"mark\": \"bar\", \"encoding\": {\"color\": {\"type\": \"nominal\", \"field\": \"Age\"}, \"row\": {\"type\": \"nominal\", \"field\": \"Age\"}, \"x\": {\"type\": \"nominal\", \"field\": \"Region\"}, \"y\": {\"type\": \"quantitative\", \"field\": \"Poblacion\"}}, \"$schema\": \"https://vega.github.io/schema/vega-lite/v4.8.1.json\", \"datasets\": {\"data-79353f9e73966b76ee648c81c5e15d05\": [{\"Poblacion\": 5318.5999999999985, \"Region\": \"Asia\", \"Age\": \"Poblacion 0-14\"}, {\"Poblacion\": 10668.699999999999, \"Region\": \"Asia\", \"Age\": \"Poblacion 15-64\"}, {\"Poblacion\": 1013.0000000000001, \"Region\": \"Asia\", \"Age\": \"Poblacion 65+\"}, {\"Poblacion\": 3780.200000000001, \"Region\": \"Europa\", \"Age\": \"Poblacion 0-14\"}, {\"Poblacion\": 13830.599999999999, \"Region\": \"Europa\", \"Age\": \"Poblacion 15-64\"}, {\"Poblacion\": 2890.500000000002, \"Region\": \"Europa\", \"Age\": \"Poblacion 65+\"}, {\"Poblacion\": 5375.500000000002, \"Region\": \"Las Americas\", \"Age\": \"Poblacion 0-14\"}, {\"Poblacion\": 10901.799999999996, \"Region\": \"Las Americas\", \"Age\": \"Poblacion 15-64\"}, {\"Poblacion\": 1223.1, \"Region\": \"Las Americas\", \"Age\": \"Poblacion 65+\"}, {\"Poblacion\": 1784.8, \"Region\": \"Oceania\", \"Age\": \"Poblacion 0-14\"}, {\"Poblacion\": 3133.1000000000004, \"Region\": \"Oceania\", \"Age\": \"Poblacion 15-64\"}, {\"Poblacion\": 282.50000000000006, \"Region\": \"Oceania\", \"Age\": \"Poblacion 65+\"}, {\"Poblacion\": 1754.7000000000003, \"Region\": \"Oriente Medio\", \"Age\": \"Poblacion 0-14\"}, {\"Poblacion\": 3251.1000000000004, \"Region\": \"Oriente Medio\", \"Age\": \"Poblacion 15-64\"}, {\"Poblacion\": 194.20000000000005, \"Region\": \"Oriente Medio\", \"Age\": \"Poblacion 65+\"}, {\"Poblacion\": 11136.2, \"Region\": \"africa\", \"Age\": \"Poblacion 0-14\"}, {\"Poblacion\": 14452.699999999992, \"Region\": \"africa\", \"Age\": \"Poblacion 15-64\"}, {\"Poblacion\": 911.7000000000003, \"Region\": \"africa\", \"Age\": \"Poblacion 65+\"}]}}, {\"mode\": \"vega-lite\"});\n",
       "</script>"
      ],
      "text/plain": [
       "alt.Chart(...)"
      ]
     },
     "execution_count": 49,
     "metadata": {},
     "output_type": "execute_result"
    }
   ],
   "source": [
    "alt.Chart(df).mark_bar().encode(\n",
    "    x = \"Region:N\",\n",
    "    y = \"Poblacion:Q\",\n",
    "    color = \"Age:N\",\n",
    "    row = \"Age:N\")"
   ]
  },
  {
   "cell_type": "code",
   "execution_count": 50,
   "metadata": {
    "scrolled": true
   },
   "outputs": [
    {
     "data": {
      "text/html": [
       "\n",
       "<div id=\"altair-viz-79e94a3332734aa28c39cce8099ccd73\"></div>\n",
       "<script type=\"text/javascript\">\n",
       "  (function(spec, embedOpt){\n",
       "    let outputDiv = document.currentScript.previousElementSibling;\n",
       "    if (outputDiv.id !== \"altair-viz-79e94a3332734aa28c39cce8099ccd73\") {\n",
       "      outputDiv = document.getElementById(\"altair-viz-79e94a3332734aa28c39cce8099ccd73\");\n",
       "    }\n",
       "    const paths = {\n",
       "      \"vega\": \"https://cdn.jsdelivr.net/npm//vega@5?noext\",\n",
       "      \"vega-lib\": \"https://cdn.jsdelivr.net/npm//vega-lib?noext\",\n",
       "      \"vega-lite\": \"https://cdn.jsdelivr.net/npm//vega-lite@4.8.1?noext\",\n",
       "      \"vega-embed\": \"https://cdn.jsdelivr.net/npm//vega-embed@6?noext\",\n",
       "    };\n",
       "\n",
       "    function loadScript(lib) {\n",
       "      return new Promise(function(resolve, reject) {\n",
       "        var s = document.createElement('script');\n",
       "        s.src = paths[lib];\n",
       "        s.async = true;\n",
       "        s.onload = () => resolve(paths[lib]);\n",
       "        s.onerror = () => reject(`Error loading script: ${paths[lib]}`);\n",
       "        document.getElementsByTagName(\"head\")[0].appendChild(s);\n",
       "      });\n",
       "    }\n",
       "\n",
       "    function showError(err) {\n",
       "      outputDiv.innerHTML = `<div class=\"error\" style=\"color:red;\">${err}</div>`;\n",
       "      throw err;\n",
       "    }\n",
       "\n",
       "    function displayChart(vegaEmbed) {\n",
       "      vegaEmbed(outputDiv, spec, embedOpt)\n",
       "        .catch(err => showError(`Javascript Error: ${err.message}<br>This usually means there's a typo in your chart specification. See the javascript console for the full traceback.`));\n",
       "    }\n",
       "\n",
       "    if(typeof define === \"function\" && define.amd) {\n",
       "      requirejs.config({paths});\n",
       "      require([\"vega-embed\"], displayChart, err => showError(`Error loading script: ${err.message}`));\n",
       "    } else if (typeof vegaEmbed === \"function\") {\n",
       "      displayChart(vegaEmbed);\n",
       "    } else {\n",
       "      loadScript(\"vega\")\n",
       "        .then(() => loadScript(\"vega-lite\"))\n",
       "        .then(() => loadScript(\"vega-embed\"))\n",
       "        .catch(showError)\n",
       "        .then(() => displayChart(vegaEmbed));\n",
       "    }\n",
       "  })({\"config\": {\"view\": {\"continuousWidth\": 400, \"continuousHeight\": 300}}, \"data\": {\"name\": \"data-79353f9e73966b76ee648c81c5e15d05\"}, \"mark\": \"bar\", \"encoding\": {\"color\": {\"type\": \"nominal\", \"field\": \"Age\"}, \"row\": {\"type\": \"nominal\", \"field\": \"Age\"}, \"x\": {\"type\": \"nominal\", \"field\": \"Region\"}, \"y\": {\"type\": \"quantitative\", \"field\": \"Poblacion\"}}, \"height\": 200, \"width\": 350, \"$schema\": \"https://vega.github.io/schema/vega-lite/v4.8.1.json\", \"datasets\": {\"data-79353f9e73966b76ee648c81c5e15d05\": [{\"Poblacion\": 5318.5999999999985, \"Region\": \"Asia\", \"Age\": \"Poblacion 0-14\"}, {\"Poblacion\": 10668.699999999999, \"Region\": \"Asia\", \"Age\": \"Poblacion 15-64\"}, {\"Poblacion\": 1013.0000000000001, \"Region\": \"Asia\", \"Age\": \"Poblacion 65+\"}, {\"Poblacion\": 3780.200000000001, \"Region\": \"Europa\", \"Age\": \"Poblacion 0-14\"}, {\"Poblacion\": 13830.599999999999, \"Region\": \"Europa\", \"Age\": \"Poblacion 15-64\"}, {\"Poblacion\": 2890.500000000002, \"Region\": \"Europa\", \"Age\": \"Poblacion 65+\"}, {\"Poblacion\": 5375.500000000002, \"Region\": \"Las Americas\", \"Age\": \"Poblacion 0-14\"}, {\"Poblacion\": 10901.799999999996, \"Region\": \"Las Americas\", \"Age\": \"Poblacion 15-64\"}, {\"Poblacion\": 1223.1, \"Region\": \"Las Americas\", \"Age\": \"Poblacion 65+\"}, {\"Poblacion\": 1784.8, \"Region\": \"Oceania\", \"Age\": \"Poblacion 0-14\"}, {\"Poblacion\": 3133.1000000000004, \"Region\": \"Oceania\", \"Age\": \"Poblacion 15-64\"}, {\"Poblacion\": 282.50000000000006, \"Region\": \"Oceania\", \"Age\": \"Poblacion 65+\"}, {\"Poblacion\": 1754.7000000000003, \"Region\": \"Oriente Medio\", \"Age\": \"Poblacion 0-14\"}, {\"Poblacion\": 3251.1000000000004, \"Region\": \"Oriente Medio\", \"Age\": \"Poblacion 15-64\"}, {\"Poblacion\": 194.20000000000005, \"Region\": \"Oriente Medio\", \"Age\": \"Poblacion 65+\"}, {\"Poblacion\": 11136.2, \"Region\": \"africa\", \"Age\": \"Poblacion 0-14\"}, {\"Poblacion\": 14452.699999999992, \"Region\": \"africa\", \"Age\": \"Poblacion 15-64\"}, {\"Poblacion\": 911.7000000000003, \"Region\": \"africa\", \"Age\": \"Poblacion 65+\"}]}}, {\"mode\": \"vega-lite\"});\n",
       "</script>"
      ],
      "text/plain": [
       "alt.Chart(...)"
      ]
     },
     "execution_count": 50,
     "metadata": {},
     "output_type": "execute_result"
    }
   ],
   "source": [
    "## Se procede a cambiar el tamaño del gráfico\n",
    "## usando 'properties'\n",
    "\n",
    "alt.Chart(df).mark_bar().encode(\n",
    "    x = \"Region:N\",\n",
    "    y = \"Poblacion:Q\",\n",
    "    color = \"Age:N\",\n",
    "    row = \"Age:N\").properties(width = 350, height=200)"
   ]
  },
  {
   "cell_type": "markdown",
   "metadata": {},
   "source": [
    "## Gráfico alternativo"
   ]
  },
  {
   "cell_type": "code",
   "execution_count": 51,
   "metadata": {},
   "outputs": [
    {
     "data": {
      "text/html": [
       "\n",
       "<div id=\"altair-viz-7afb55eab65a4dbe90b643693307cb95\"></div>\n",
       "<script type=\"text/javascript\">\n",
       "  (function(spec, embedOpt){\n",
       "    let outputDiv = document.currentScript.previousElementSibling;\n",
       "    if (outputDiv.id !== \"altair-viz-7afb55eab65a4dbe90b643693307cb95\") {\n",
       "      outputDiv = document.getElementById(\"altair-viz-7afb55eab65a4dbe90b643693307cb95\");\n",
       "    }\n",
       "    const paths = {\n",
       "      \"vega\": \"https://cdn.jsdelivr.net/npm//vega@5?noext\",\n",
       "      \"vega-lib\": \"https://cdn.jsdelivr.net/npm//vega-lib?noext\",\n",
       "      \"vega-lite\": \"https://cdn.jsdelivr.net/npm//vega-lite@4.8.1?noext\",\n",
       "      \"vega-embed\": \"https://cdn.jsdelivr.net/npm//vega-embed@6?noext\",\n",
       "    };\n",
       "\n",
       "    function loadScript(lib) {\n",
       "      return new Promise(function(resolve, reject) {\n",
       "        var s = document.createElement('script');\n",
       "        s.src = paths[lib];\n",
       "        s.async = true;\n",
       "        s.onload = () => resolve(paths[lib]);\n",
       "        s.onerror = () => reject(`Error loading script: ${paths[lib]}`);\n",
       "        document.getElementsByTagName(\"head\")[0].appendChild(s);\n",
       "      });\n",
       "    }\n",
       "\n",
       "    function showError(err) {\n",
       "      outputDiv.innerHTML = `<div class=\"error\" style=\"color:red;\">${err}</div>`;\n",
       "      throw err;\n",
       "    }\n",
       "\n",
       "    function displayChart(vegaEmbed) {\n",
       "      vegaEmbed(outputDiv, spec, embedOpt)\n",
       "        .catch(err => showError(`Javascript Error: ${err.message}<br>This usually means there's a typo in your chart specification. See the javascript console for the full traceback.`));\n",
       "    }\n",
       "\n",
       "    if(typeof define === \"function\" && define.amd) {\n",
       "      requirejs.config({paths});\n",
       "      require([\"vega-embed\"], displayChart, err => showError(`Error loading script: ${err.message}`));\n",
       "    } else if (typeof vegaEmbed === \"function\") {\n",
       "      displayChart(vegaEmbed);\n",
       "    } else {\n",
       "      loadScript(\"vega\")\n",
       "        .then(() => loadScript(\"vega-lite\"))\n",
       "        .then(() => loadScript(\"vega-embed\"))\n",
       "        .catch(showError)\n",
       "        .then(() => displayChart(vegaEmbed));\n",
       "    }\n",
       "  })({\"config\": {\"view\": {\"continuousWidth\": 400, \"continuousHeight\": 300}}, \"data\": {\"name\": \"data-79353f9e73966b76ee648c81c5e15d05\"}, \"mark\": \"bar\", \"encoding\": {\"color\": {\"type\": \"nominal\", \"field\": \"Age\"}, \"column\": {\"type\": \"nominal\", \"field\": \"Age\"}, \"x\": {\"type\": \"quantitative\", \"field\": \"Poblacion\"}, \"y\": {\"type\": \"nominal\", \"field\": \"Region\"}}, \"height\": 200, \"width\": 200, \"$schema\": \"https://vega.github.io/schema/vega-lite/v4.8.1.json\", \"datasets\": {\"data-79353f9e73966b76ee648c81c5e15d05\": [{\"Poblacion\": 5318.5999999999985, \"Region\": \"Asia\", \"Age\": \"Poblacion 0-14\"}, {\"Poblacion\": 10668.699999999999, \"Region\": \"Asia\", \"Age\": \"Poblacion 15-64\"}, {\"Poblacion\": 1013.0000000000001, \"Region\": \"Asia\", \"Age\": \"Poblacion 65+\"}, {\"Poblacion\": 3780.200000000001, \"Region\": \"Europa\", \"Age\": \"Poblacion 0-14\"}, {\"Poblacion\": 13830.599999999999, \"Region\": \"Europa\", \"Age\": \"Poblacion 15-64\"}, {\"Poblacion\": 2890.500000000002, \"Region\": \"Europa\", \"Age\": \"Poblacion 65+\"}, {\"Poblacion\": 5375.500000000002, \"Region\": \"Las Americas\", \"Age\": \"Poblacion 0-14\"}, {\"Poblacion\": 10901.799999999996, \"Region\": \"Las Americas\", \"Age\": \"Poblacion 15-64\"}, {\"Poblacion\": 1223.1, \"Region\": \"Las Americas\", \"Age\": \"Poblacion 65+\"}, {\"Poblacion\": 1784.8, \"Region\": \"Oceania\", \"Age\": \"Poblacion 0-14\"}, {\"Poblacion\": 3133.1000000000004, \"Region\": \"Oceania\", \"Age\": \"Poblacion 15-64\"}, {\"Poblacion\": 282.50000000000006, \"Region\": \"Oceania\", \"Age\": \"Poblacion 65+\"}, {\"Poblacion\": 1754.7000000000003, \"Region\": \"Oriente Medio\", \"Age\": \"Poblacion 0-14\"}, {\"Poblacion\": 3251.1000000000004, \"Region\": \"Oriente Medio\", \"Age\": \"Poblacion 15-64\"}, {\"Poblacion\": 194.20000000000005, \"Region\": \"Oriente Medio\", \"Age\": \"Poblacion 65+\"}, {\"Poblacion\": 11136.2, \"Region\": \"africa\", \"Age\": \"Poblacion 0-14\"}, {\"Poblacion\": 14452.699999999992, \"Region\": \"africa\", \"Age\": \"Poblacion 15-64\"}, {\"Poblacion\": 911.7000000000003, \"Region\": \"africa\", \"Age\": \"Poblacion 65+\"}]}}, {\"mode\": \"vega-lite\"});\n",
       "</script>"
      ],
      "text/plain": [
       "alt.Chart(...)"
      ]
     },
     "execution_count": 51,
     "metadata": {},
     "output_type": "execute_result"
    }
   ],
   "source": [
    "alt.Chart(df).mark_bar().encode(\n",
    "    x = 'Poblacion:Q',\n",
    "    y = 'Region:N',\n",
    "    color = 'Age:N',\n",
    "    column='Age:N'\n",
    ").properties(width=200, height=200)"
   ]
  }
 ],
 "metadata": {
  "kernelspec": {
   "display_name": "Python 3",
   "language": "python",
   "name": "python3"
  },
  "language_info": {
   "codemirror_mode": {
    "name": "ipython",
    "version": 3
   },
   "file_extension": ".py",
   "mimetype": "text/x-python",
   "name": "python",
   "nbconvert_exporter": "python",
   "pygments_lexer": "ipython3",
   "version": "3.8.3"
  }
 },
 "nbformat": 4,
 "nbformat_minor": 4
}
