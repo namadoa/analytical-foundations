{
 "cells": [
  {
   "cell_type": "markdown",
   "metadata": {},
   "source": [
    "## Selección de datos de tablas"
   ]
  },
  {
   "cell_type": "code",
   "execution_count": 5,
   "metadata": {},
   "outputs": [],
   "source": [
    "import matplotlib.pyplot as plt\n",
    "import numpy as np"
   ]
  },
  {
   "cell_type": "code",
   "execution_count": 12,
   "metadata": {},
   "outputs": [
    {
     "data": {
      "text/plain": [
       "Text(0.5, 0, 'putos')"
      ]
     },
     "execution_count": 12,
     "metadata": {},
     "output_type": "execute_result"
    },
    {
     "data": {
      "image/png": "[encoded data removed]",
      "text/plain": [
       "<Figure size 432x288 with 1 Axes>"
      ]
     },
     "metadata": {
      "needs_background": "light"
     },
     "output_type": "display_data"
    }
   ],
   "source": [
    "n = np.random.normal(1,2,1000)\n",
    "plt.hist(n)\n",
    "plt.xlabel(\"putos\")"
   ]
  },
  {
   "cell_type": "code",
   "execution_count": 59,
   "metadata": {
    "scrolled": false
   },
   "outputs": [
    {
     "data": {
      "text/html": [
       "<div>\n",
       "<style scoped>\n",
       "    .dataframe tbody tr th:only-of-type {\n",
       "        vertical-align: middle;\n",
       "    }\n",
       "\n",
       "    .dataframe tbody tr th {\n",
       "        vertical-align: top;\n",
       "    }\n",
       "\n",
       "    .dataframe thead th {\n",
       "        text-align: right;\n",
       "    }\n",
       "</style>\n",
       "<table border=\"1\" class=\"dataframe\">\n",
       "  <thead>\n",
       "    <tr style=\"text-align: right;\">\n",
       "      <th></th>\n",
       "      <th>t</th>\n",
       "      <th>srcuser</th>\n",
       "      <th>srchost</th>\n",
       "      <th>dstuser</th>\n",
       "      <th>dsthost</th>\n",
       "      <th>size</th>\n",
       "    </tr>\n",
       "  </thead>\n",
       "  <tbody>\n",
       "    <tr>\n",
       "      <th>0</th>\n",
       "      <td>2006-05-11 10:15:08</td>\n",
       "      <td>barb</td>\n",
       "      <td>saturn</td>\n",
       "      <td>tricia</td>\n",
       "      <td>mars</td>\n",
       "      <td>58274</td>\n",
       "    </tr>\n",
       "    <tr>\n",
       "      <th>1</th>\n",
       "      <td>2006-05-12 12:48:13</td>\n",
       "      <td>tricia</td>\n",
       "      <td>mars</td>\n",
       "      <td>gene</td>\n",
       "      <td>venus</td>\n",
       "      <td>194925</td>\n",
       "    </tr>\n",
       "    <tr>\n",
       "      <th>2</th>\n",
       "      <td>2006-05-12 15:02:49</td>\n",
       "      <td>phil</td>\n",
       "      <td>mars</td>\n",
       "      <td>phil</td>\n",
       "      <td>saturn</td>\n",
       "      <td>1048</td>\n",
       "    </tr>\n",
       "    <tr>\n",
       "      <th>3</th>\n",
       "      <td>2006-05-13 13:59:18</td>\n",
       "      <td>barb</td>\n",
       "      <td>saturn</td>\n",
       "      <td>tricia</td>\n",
       "      <td>venus</td>\n",
       "      <td>271</td>\n",
       "    </tr>\n",
       "    <tr>\n",
       "      <th>4</th>\n",
       "      <td>2006-05-14 09:31:37</td>\n",
       "      <td>gene</td>\n",
       "      <td>venus</td>\n",
       "      <td>barb</td>\n",
       "      <td>mars</td>\n",
       "      <td>2291</td>\n",
       "    </tr>\n",
       "    <tr>\n",
       "      <th>5</th>\n",
       "      <td>2006-05-14 11:52:17</td>\n",
       "      <td>phil</td>\n",
       "      <td>mars</td>\n",
       "      <td>tricia</td>\n",
       "      <td>saturn</td>\n",
       "      <td>5781</td>\n",
       "    </tr>\n",
       "    <tr>\n",
       "      <th>6</th>\n",
       "      <td>2006-05-14 14:42:21</td>\n",
       "      <td>barb</td>\n",
       "      <td>venus</td>\n",
       "      <td>barb</td>\n",
       "      <td>venus</td>\n",
       "      <td>98151</td>\n",
       "    </tr>\n",
       "    <tr>\n",
       "      <th>7</th>\n",
       "      <td>2006-05-14 17:03:01</td>\n",
       "      <td>tricia</td>\n",
       "      <td>saturn</td>\n",
       "      <td>phil</td>\n",
       "      <td>venus</td>\n",
       "      <td>2394482</td>\n",
       "    </tr>\n",
       "    <tr>\n",
       "      <th>8</th>\n",
       "      <td>2006-05-15 07:17:48</td>\n",
       "      <td>gene</td>\n",
       "      <td>mars</td>\n",
       "      <td>gene</td>\n",
       "      <td>saturn</td>\n",
       "      <td>3824</td>\n",
       "    </tr>\n",
       "    <tr>\n",
       "      <th>9</th>\n",
       "      <td>2006-05-15 08:50:57</td>\n",
       "      <td>phil</td>\n",
       "      <td>venus</td>\n",
       "      <td>phil</td>\n",
       "      <td>venus</td>\n",
       "      <td>978</td>\n",
       "    </tr>\n",
       "    <tr>\n",
       "      <th>10</th>\n",
       "      <td>2006-05-15 10:25:52</td>\n",
       "      <td>gene</td>\n",
       "      <td>mars</td>\n",
       "      <td>tricia</td>\n",
       "      <td>saturn</td>\n",
       "      <td>998532</td>\n",
       "    </tr>\n",
       "    <tr>\n",
       "      <th>11</th>\n",
       "      <td>2006-05-15 17:35:31</td>\n",
       "      <td>gene</td>\n",
       "      <td>saturn</td>\n",
       "      <td>gene</td>\n",
       "      <td>mars</td>\n",
       "      <td>3856</td>\n",
       "    </tr>\n",
       "    <tr>\n",
       "      <th>12</th>\n",
       "      <td>2006-05-16 09:00:28</td>\n",
       "      <td>gene</td>\n",
       "      <td>venus</td>\n",
       "      <td>barb</td>\n",
       "      <td>mars</td>\n",
       "      <td>613</td>\n",
       "    </tr>\n",
       "    <tr>\n",
       "      <th>13</th>\n",
       "      <td>2006-05-16 23:04:19</td>\n",
       "      <td>phil</td>\n",
       "      <td>venus</td>\n",
       "      <td>barb</td>\n",
       "      <td>venus</td>\n",
       "      <td>10294</td>\n",
       "    </tr>\n",
       "    <tr>\n",
       "      <th>14</th>\n",
       "      <td>2006-05-17 12:49:23</td>\n",
       "      <td>phil</td>\n",
       "      <td>mars</td>\n",
       "      <td>tricia</td>\n",
       "      <td>saturn</td>\n",
       "      <td>873</td>\n",
       "    </tr>\n",
       "    <tr>\n",
       "      <th>15</th>\n",
       "      <td>2006-05-19 22:21:51</td>\n",
       "      <td>gene</td>\n",
       "      <td>saturn</td>\n",
       "      <td>gene</td>\n",
       "      <td>venus</td>\n",
       "      <td>23992</td>\n",
       "    </tr>\n",
       "  </tbody>\n",
       "</table>\n",
       "</div>"
      ],
      "text/plain": [
       "                      t srcuser srchost dstuser dsthost     size\n",
       "0   2006-05-11 10:15:08    barb  saturn  tricia    mars    58274\n",
       "1   2006-05-12 12:48:13  tricia    mars    gene   venus   194925\n",
       "2   2006-05-12 15:02:49    phil    mars    phil  saturn     1048\n",
       "3   2006-05-13 13:59:18    barb  saturn  tricia   venus      271\n",
       "4   2006-05-14 09:31:37    gene   venus    barb    mars     2291\n",
       "5   2006-05-14 11:52:17    phil    mars  tricia  saturn     5781\n",
       "6   2006-05-14 14:42:21    barb   venus    barb   venus    98151\n",
       "7   2006-05-14 17:03:01  tricia  saturn    phil   venus  2394482\n",
       "8   2006-05-15 07:17:48    gene    mars    gene  saturn     3824\n",
       "9   2006-05-15 08:50:57    phil   venus    phil   venus      978\n",
       "10  2006-05-15 10:25:52    gene    mars  tricia  saturn   998532\n",
       "11  2006-05-15 17:35:31    gene  saturn    gene    mars     3856\n",
       "12  2006-05-16 09:00:28    gene   venus    barb    mars      613\n",
       "13  2006-05-16 23:04:19    phil   venus    barb   venus    10294\n",
       "14  2006-05-17 12:49:23    phil    mars  tricia  saturn      873\n",
       "15  2006-05-19 22:21:51    gene  saturn    gene   venus    23992"
      ]
     },
     "execution_count": 59,
     "metadata": {},
     "output_type": "execute_result"
    }
   ],
   "source": [
    "import pandas as pd\n",
    "mail = pd.read_csv('https://raw.githubusercontent.com/jdvelasq/datalabs/master/datasets/mail.csv')\n",
    "mail"
   ]
  },
  {
   "cell_type": "code",
   "execution_count": 47,
   "metadata": {
    "scrolled": true
   },
   "outputs": [
    {
     "data": {
      "text/plain": [
       "[[''], ['srcuse'], ['srchos'], ['dstuse'], ['dsthos'], ['siz']]"
      ]
     },
     "execution_count": 47,
     "metadata": {},
     "output_type": "execute_result"
    }
   ],
   "source": [
    "[row.split(\",\") for row in mail]"
   ]
  },
  {
   "cell_type": "markdown",
   "metadata": {},
   "source": [
    "## Selección de columnas"
   ]
  },
  {
   "cell_type": "code",
   "execution_count": null,
   "metadata": {},
   "outputs": [],
   "source": [
    "[[row[0], row[2], row[3], row[4], row[1], row[5]] for row in mail]"
   ]
  },
  {
   "cell_type": "code",
   "execution_count": 50,
   "metadata": {},
   "outputs": [],
   "source": [
    "#Selección de filas\n",
    "\n",
    "[[row[0], row[1], row[3], row[4]] for row in mail if row[2]==\"venus\"]"
   ]
  },
  {
   "cell_type": "code",
   "execution_count": null,
   "metadata": {},
   "outputs": [],
   "source": [
    "#Elimina los \"\\n al final de cada string\"\n",
    "mail = [row[0:-1] for row in mail]\n"
   ]
  },
  {
   "cell_type": "code",
   "execution_count": 51,
   "metadata": {},
   "outputs": [],
   "source": [
    "mail = mail[1:] #Separa los nombres y los datos"
   ]
  },
  {
   "cell_type": "code",
   "execution_count": 52,
   "metadata": {},
   "outputs": [
    {
     "data": {
      "text/plain": [
       "['srcuse', 'srchos', 'dstuse', 'dsthos', 'siz']"
      ]
     },
     "execution_count": 52,
     "metadata": {},
     "output_type": "execute_result"
    }
   ],
   "source": [
    "import re\n",
    "[[row[0], row[1], row[2]] for row in mail if re.search(\"^s\", row[2])]\n"
   ]
  },
  {
   "cell_type": "code",
   "execution_count": null,
   "metadata": {},
   "outputs": [],
   "source": [
    "[[row[0], row[1], row[2]] for row in mail if row[1] == \"barb\" and row[3] == \"tricia\"]"
   ]
  },
  {
   "cell_type": "markdown",
   "metadata": {},
   "source": [
    "## Combinación de Columnas"
   ]
  },
  {
   "cell_type": "code",
   "execution_count": null,
   "metadata": {},
   "outputs": [],
   "source": [
    "[[row[0], row[1] + \"@\" + row[2], row[3] + \"@\" + row[4]] for row in mail]\n"
   ]
  },
  {
   "cell_type": "markdown",
   "metadata": {},
   "source": [
    "# Selección condicional"
   ]
  },
  {
   "cell_type": "code",
   "execution_count": null,
   "metadata": {},
   "outputs": [],
   "source": [
    "[row for row in mail if float(row[5])/1024 > 500]"
   ]
  },
  {
   "cell_type": "markdown",
   "metadata": {},
   "source": [
    "### Remoción de duplicados"
   ]
  },
  {
   "cell_type": "code",
   "execution_count": null,
   "metadata": {},
   "outputs": [],
   "source": [
    "[row[1] for row in mail]"
   ]
  },
  {
   "cell_type": "code",
   "execution_count": null,
   "metadata": {},
   "outputs": [],
   "source": [
    "len(set([row[1] for row in mail]))"
   ]
  },
  {
   "cell_type": "markdown",
   "metadata": {},
   "source": [
    "## Manejo de NULL"
   ]
  },
  {
   "cell_type": "code",
   "execution_count": null,
   "metadata": {},
   "outputs": [],
   "source": [
    "taxpayer = open(\"files/taxpayer.csv\").readlines()\n",
    "taxpayer = [row[0:-1] for row in taxpayer]\n",
    "taxpayer = [row.split(\",\") for row in taxpayer]\n",
    "taxpayer"
   ]
  },
  {
   "cell_type": "code",
   "execution_count": null,
   "metadata": {},
   "outputs": [],
   "source": [
    "taxpayer = [ [element if element != \"NULL\" else None for element in row] for row in taxpayer]"
   ]
  },
  {
   "cell_type": "code",
   "execution_count": null,
   "metadata": {},
   "outputs": [],
   "source": [
    "[[row for row in taxpayer if row[1] is not None]]"
   ]
  },
  {
   "cell_type": "markdown",
   "metadata": {},
   "source": [
    "## Ordenamiento"
   ]
  },
  {
   "cell_type": "code",
   "execution_count": 53,
   "metadata": {},
   "outputs": [],
   "source": [
    "from operator import itemgetter\n",
    "sorted([row for row in mail if int(row[5]) > 100000], key=itemgetter(5))\n"
   ]
  },
  {
   "cell_type": "code",
   "execution_count": null,
   "metadata": {},
   "outputs": [],
   "source": [
    "mail = [[element if index != 5 else int(element) for index, element in enumerate(row)] for row in mail]\n"
   ]
  },
  {
   "cell_type": "code",
   "execution_count": 60,
   "metadata": {
    "scrolled": true
   },
   "outputs": [
    {
     "name": "stdout",
     "output_type": "stream",
     "text": [
      "(0, 't')\n",
      "(1, 'srcuser')\n",
      "(2, 'srchost')\n",
      "(3, 'dstuser')\n",
      "(4, 'dsthost')\n",
      "(5, 'size')\n"
     ]
    }
   ],
   "source": [
    "sorted([row for row in mail if int(row[5]) > 100000], key=itemgetter(5))"
   ]
  },
  {
   "cell_type": "markdown",
   "metadata": {},
   "source": [
    "### Joins"
   ]
  },
  {
   "cell_type": "code",
   "execution_count": null,
   "metadata": {},
   "outputs": [],
   "source": [
    "profile_contact = open(\"files/profile_contact.csv\", \"r\").readlines()\n",
    "profile_contact = profile_contact[1:]\n",
    "profile_ontact = [row[0:-1] for row in profile_contact]\n",
    "profile_contact = [row.split(\",\") for row in profile_contact]\n",
    "profile_contact"
   ]
  },
  {
   "cell_type": "code",
   "execution_count": null,
   "metadata": {},
   "outputs": [],
   "source": [
    "profile0 = [[str(idx)] + row for idx, row in enumerate(profile)]\n",
    "profile0"
   ]
  },
  {
   "cell_type": "code",
   "execution_count": null,
   "metadata": {},
   "outputs": [],
   "source": [
    "[[row_pc[0], row_p[1], row_pc[1]] for row_p in profile0 for row_pc in profile_contact if row_p[0] == row_pc[0]]\n"
   ]
  },
  {
   "cell_type": "code",
   "execution_count": null,
   "metadata": {},
   "outputs": [],
   "source": [
    "[row_pc for row_pc in profile_contact if row_pc[0] in [row_p[0] for row_p in porfile0 if row_p[1] == \"Mort\"]]\n"
   ]
  },
  {
   "cell_type": "markdown",
   "metadata": {},
   "source": [
    "## Selección del principio o el final"
   ]
  },
  {
   "cell_type": "code",
   "execution_count": null,
   "metadata": {},
   "outputs": [],
   "source": [
    "profile[:5]"
   ]
  },
  {
   "cell_type": "code",
   "execution_count": null,
   "metadata": {},
   "outputs": [],
   "source": [
    "profile[-5:]"
   ]
  },
  {
   "cell_type": "markdown",
   "metadata": {},
   "source": [
    "## Selección en el medio"
   ]
  },
  {
   "cell_type": "code",
   "execution_count": null,
   "metadata": {},
   "outputs": [],
   "source": [
    "profile[3:8]"
   ]
  },
  {
   "cell_type": "markdown",
   "metadata": {},
   "source": [
    "## Realización de cómputos"
   ]
  },
  {
   "cell_type": "code",
   "execution_count": 61,
   "metadata": {},
   "outputs": [
    {
     "data": {
      "text/plain": [
       "[[1, 2], [3, 4], [5, 6], [7, 8]]"
      ]
     },
     "execution_count": 61,
     "metadata": {},
     "output_type": "execute_result"
    }
   ],
   "source": [
    "data = [[1, 2], [3, 4], [5, 6], [7, 8]]\n",
    "data"
   ]
  },
  {
   "cell_type": "code",
   "execution_count": 62,
   "metadata": {},
   "outputs": [
    {
     "data": {
      "text/plain": [
       "[2, 12, 30, 56]"
      ]
     },
     "execution_count": 62,
     "metadata": {},
     "output_type": "execute_result"
    }
   ],
   "source": [
    "[row[0] * row[1] for row in data]"
   ]
  },
  {
   "cell_type": "markdown",
   "metadata": {},
   "source": [
    "## Cadenas de Caracteres\n"
   ]
  },
  {
   "cell_type": "markdown",
   "metadata": {},
   "source": [
    "### Mayúsculas / Minúsculas"
   ]
  },
  {
   "cell_type": "code",
   "execution_count": null,
   "metadata": {},
   "outputs": [],
   "source": [
    "limbs = open(\"files/limbs.csv\", \"r\").readlines()\n",
    "limbs = limbs[1:]\n",
    "limbs = [row[0:-1] for row in limbs]\n",
    "limbs = [row.split(\",\") for row in limbs]\n",
    "limbs"
   ]
  },
  {
   "cell_type": "code",
   "execution_count": null,
   "metadata": {},
   "outputs": [],
   "source": [
    "[[row[0].upper(), row[0].lower(), row[0].capitalize()] for row in limbs]"
   ]
  },
  {
   "cell_type": "markdown",
   "metadata": {},
   "source": [
    "### Búsqueda de patrones"
   ]
  },
  {
   "cell_type": "code",
   "execution_count": 64,
   "metadata": {},
   "outputs": [
    {
     "data": {
      "text/plain": [
       "[['copper'],\n",
       " [' gold'],\n",
       " [' iron'],\n",
       " [' lead'],\n",
       " [' mercury'],\n",
       " [' platinum'],\n",
       " [' silver'],\n",
       " [' tin']]"
      ]
     },
     "execution_count": 64,
     "metadata": {},
     "output_type": "execute_result"
    }
   ],
   "source": [
    "metals = [[x] for x in \"copper, gold, iron, lead, mercury, platinum, silver, tin\".split(\",\")]\n",
    "metals"
   ]
  },
  {
   "cell_type": "code",
   "execution_count": 67,
   "metadata": {},
   "outputs": [
    {
     "data": {
      "text/plain": [
       "[['copper']]"
      ]
     },
     "execution_count": 67,
     "metadata": {},
     "output_type": "execute_result"
    }
   ],
   "source": [
    "## cadenas que inician con \"c\"\n",
    "import re\n",
    "[[row[0]] for row in metals if re.search(\"^co\", row[0])]"
   ]
  },
  {
   "cell_type": "code",
   "execution_count": 68,
   "metadata": {},
   "outputs": [
    {
     "data": {
      "text/plain": [
       "[['copper'], [' silver']]"
      ]
     },
     "execution_count": 68,
     "metadata": {},
     "output_type": "execute_result"
    }
   ],
   "source": [
    "## cadenas que finalizan con \"er\"\n",
    "[[row[0]] for row in metals if re.search(\"er$\", row[0])]"
   ]
  },
  {
   "cell_type": "code",
   "execution_count": 69,
   "metadata": {},
   "outputs": [
    {
     "data": {
      "text/plain": [
       "[['copper']]"
      ]
     },
     "execution_count": 69,
     "metadata": {},
     "output_type": "execute_result"
    }
   ],
   "source": [
    "## cadenas que contiene pp a partir de la segunda posición\n",
    "[[row[0]] for row in metals if re.search(\"^pp\", row[0][2:])]"
   ]
  },
  {
   "cell_type": "code",
   "execution_count": 70,
   "metadata": {},
   "outputs": [
    {
     "data": {
      "text/plain": [
       "[['copper'], [' gold'], [' lead'], [' mercury']]"
      ]
     },
     "execution_count": 70,
     "metadata": {},
     "output_type": "execute_result"
    }
   ],
   "source": [
    "## cadenas que no contienen i\n",
    "[[row[0]] for row in metals if not re.search(\"i\", row[0])]"
   ]
  },
  {
   "cell_type": "code",
   "execution_count": 72,
   "metadata": {},
   "outputs": [
    {
     "data": {
      "text/plain": [
       "[['cop'], [' go'], [' ir'], [' le'], [' me'], [' pl'], [' si'], [' ti']]"
      ]
     },
     "execution_count": 72,
     "metadata": {},
     "output_type": "execute_result"
    }
   ],
   "source": [
    "## Las primeras 3 letras de cada string\n",
    "[[row[0][:3]] for row in metals]"
   ]
  },
  {
   "cell_type": "code",
   "execution_count": 73,
   "metadata": {},
   "outputs": [
    {
     "data": {
      "text/plain": [
       "[['copper'], [' silver']]"
      ]
     },
     "execution_count": 73,
     "metadata": {},
     "output_type": "execute_result"
    }
   ],
   "source": [
    "## cadenas que empiezan con una vocal que terminan en \"ir\"\n",
    "[[row[0]] for row in metals if re.search(\"^[aeiou]|er$\", row[0])]"
   ]
  },
  {
   "cell_type": "markdown",
   "metadata": {},
   "source": [
    "### Fechas y Horas"
   ]
  },
  {
   "cell_type": "markdown",
   "metadata": {},
   "source": [
    "### Extracción de partes"
   ]
  },
  {
   "cell_type": "code",
   "execution_count": 1,
   "metadata": {},
   "outputs": [
    {
     "data": {
      "text/plain": [
       "datetime.date(2020, 10, 28)"
      ]
     },
     "execution_count": 1,
     "metadata": {},
     "output_type": "execute_result"
    }
   ],
   "source": [
    "import time, datetime\n",
    "datetime.date.today()"
   ]
  },
  {
   "cell_type": "code",
   "execution_count": 2,
   "metadata": {},
   "outputs": [
    {
     "data": {
      "text/plain": [
       "'2020-10-28'"
      ]
     },
     "execution_count": 2,
     "metadata": {},
     "output_type": "execute_result"
    }
   ],
   "source": [
    "datetime.date.today().isoformat()"
   ]
  },
  {
   "cell_type": "code",
   "execution_count": 3,
   "metadata": {},
   "outputs": [
    {
     "data": {
      "text/plain": [
       "'20/10/28'"
      ]
     },
     "execution_count": 3,
     "metadata": {},
     "output_type": "execute_result"
    }
   ],
   "source": [
    "datetime.date.today().strftime(\"%y/%m/%d\")"
   ]
  },
  {
   "cell_type": "code",
   "execution_count": 4,
   "metadata": {
    "scrolled": true
   },
   "outputs": [
    {
     "data": {
      "text/plain": [
       "'2020-10-28 08:54:28.518314'"
      ]
     },
     "execution_count": 4,
     "metadata": {},
     "output_type": "execute_result"
    }
   ],
   "source": [
    "datetime.datetime.now().isoformat(\" \")"
   ]
  },
  {
   "cell_type": "code",
   "execution_count": 5,
   "metadata": {
    "scrolled": true
   },
   "outputs": [
    {
     "ename": "NameError",
     "evalue": "name 'da' is not defined",
     "output_type": "error",
     "traceback": [
      "\u001b[1;31m---------------------------------------------------------------------------\u001b[0m",
      "\u001b[1;31mNameError\u001b[0m                                 Traceback (most recent call last)",
      "\u001b[1;32m<ipython-input-5-948bfaaa301d>\u001b[0m in \u001b[0;36m<module>\u001b[1;34m\u001b[0m\n\u001b[1;32m----> 1\u001b[1;33m \u001b[0mda\u001b[0m\u001b[1;33m\u001b[0m\u001b[1;33m\u001b[0m\u001b[0m\n\u001b[0m",
      "\u001b[1;31mNameError\u001b[0m: name 'da' is not defined"
     ]
    }
   ],
   "source": [
    "datetime_val = open(\"files/datetime_val.csv\", \"r\").readlines()\n",
    "datetime_val = datetime_val[1:]\n",
    "datetime_val = [row[0:-1] if row[-1] == \"\\n\" else row for row in datetime_val]\n",
    "datetime_val = [row.split(\",\") for row in datetime_val]\n",
    "datetime_val"
   ]
  },
  {
   "cell_type": "code",
   "execution_count": 6,
   "metadata": {},
   "outputs": [],
   "source": [
    "# Se debe redefinir estas funciones de acuerdo\n",
    "#con el formato particular de la fecha y la hora en los datosh"
   ]
  },
  {
   "cell_type": "code",
   "execution_count": 9,
   "metadata": {},
   "outputs": [],
   "source": [
    "def YEAR(s):\n",
    "    return datetime.datetime.strptime(s, \"%Y-%m-%d %H:%M:%S\").strftime(\"%Y\")\n",
    "\n",
    "def MONTH(s):\n",
    "    #Numero del mes\n",
    "    return datetime.datetime.strptime(s, \"%Y-%m-%d %H:%M:%S\").month\n",
    "def MONTHNAME(s):\n",
    "    return datetime.datetime.strptime(s, \"%Y-%m-%d %H:%M:%S\").strftime(\"%B\")\n",
    "\n",
    "def MONTHNAME_ABBR(s):\n",
    "    return datetime.datetime.strptime(s, \"%Y-%m-%d %H:%M:%S\").strftime(\"%b\")\n",
    "\n",
    "def DAYOFMONTH(s):\n",
    "    return datetime.datetime.strptime(s, \"%Y-%m-%d %H:%M:%S\").strftime(\"%d\")\n",
    "def DAYNAME(s):\n",
    "    return datetime.datetime.strptime(s, \"%Y-%m-%d %H:%M:%S\").strftime(\"%A\")\n",
    "def DAYNAME_ABBR(s):\n",
    "    return datetime.datetime.strptime(s, \"%Y-%m-%d %H:%M:%S\").strftime(\"%a\")\n",
    "def WEEKDAY(s):\n",
    "    return datetime.datetime.strptime(s, \"%Y-%m-%d %H:%M:%S\").strftime(\"%w\")\n",
    "def DAYOFYEAR(s):\n",
    "    return datetime.datetime.strptime(s, \"%Y-%m-%d %H:%M:%S\").strftime(\"%J\")\n",
    "def WEEKOFYEAR(s):\n",
    "    return datetime.datetime.strptime(s, \"%Y-%m-%d %H:%M:%S\").strftime(\"%W\")\n",
    "\n"
   ]
  },
  {
   "cell_type": "code",
   "execution_count": 10,
   "metadata": {
    "scrolled": true
   },
   "outputs": [
    {
     "ename": "NameError",
     "evalue": "name 'datetime_val' is not defined",
     "output_type": "error",
     "traceback": [
      "\u001b[1;31m---------------------------------------------------------------------------\u001b[0m",
      "\u001b[1;31mNameError\u001b[0m                                 Traceback (most recent call last)",
      "\u001b[1;32m<ipython-input-10-5d780a866afb>\u001b[0m in \u001b[0;36m<module>\u001b[1;34m\u001b[0m\n\u001b[1;32m----> 1\u001b[1;33m \u001b[1;33m[\u001b[0m\u001b[1;33m[\u001b[0m\u001b[0mrow\u001b[0m\u001b[1;33m[\u001b[0m\u001b[1;36m0\u001b[0m\u001b[1;33m]\u001b[0m\u001b[1;33m,\u001b[0m \u001b[0mYEAR\u001b[0m\u001b[1;33m(\u001b[0m\u001b[0mrow\u001b[0m\u001b[1;33m[\u001b[0m\u001b[1;36m0\u001b[0m\u001b[1;33m]\u001b[0m\u001b[1;33m)\u001b[0m\u001b[1;33m,\u001b[0m \u001b[0mMONTH\u001b[0m\u001b[1;33m(\u001b[0m\u001b[0mrow\u001b[0m\u001b[1;33m[\u001b[0m\u001b[1;36m0\u001b[0m\u001b[1;33m]\u001b[0m\u001b[1;33m)\u001b[0m\u001b[1;33m,\u001b[0m \u001b[0mMONTHNAME\u001b[0m\u001b[1;33m(\u001b[0m\u001b[0mrow\u001b[0m\u001b[1;33m[\u001b[0m\u001b[1;36m0\u001b[0m\u001b[1;33m]\u001b[0m\u001b[1;33m)\u001b[0m\u001b[1;33m,\u001b[0m \u001b[0mMONTHNAME_ABBR\u001b[0m\u001b[1;33m(\u001b[0m\u001b[0mrow\u001b[0m\u001b[1;33m[\u001b[0m\u001b[1;36m0\u001b[0m\u001b[1;33m]\u001b[0m\u001b[1;33m)\u001b[0m\u001b[1;33m]\u001b[0m \u001b[1;32mfor\u001b[0m \u001b[0mrow\u001b[0m \u001b[1;32min\u001b[0m \u001b[0mdatetime_val\u001b[0m\u001b[1;33m]\u001b[0m\u001b[1;33m\u001b[0m\u001b[1;33m\u001b[0m\u001b[0m\n\u001b[0m",
      "\u001b[1;31mNameError\u001b[0m: name 'datetime_val' is not defined"
     ]
    }
   ],
   "source": [
    "[[row[0], YEAR(row[0]), MONTH(row[0]), MONTHNAME(row[0]), MONTHNAME_ABBR(row[0])] for row in datetime]"
   ]
  },
  {
   "cell_type": "code",
   "execution_count": null,
   "metadata": {},
   "outputs": [],
   "source": [
    "[[row[0], DAYOFMONTH(row[0]), DAYNAME(row[0]), DAYNAME_ABBR(row[0])] for row in datetime_val]"
   ]
  },
  {
   "cell_type": "code",
   "execution_count": 11,
   "metadata": {},
   "outputs": [],
   "source": [
    "## Se deben redefinir estas funciones de acuerdo con\n",
    "## el formato particular de la fechar y hora en los datos\n",
    "\n",
    "def HOUR(s):\n",
    "    return datetime.datetime.strptime(s, \"%Y-%m-%d %H:%M:%S\").strftime(\"%H\")\n",
    "\n",
    "def MINUTE(s):\n",
    "    return datetime.datetime.strptime(s, \"%Y-%m-%d %H:%M:%S\").strftime(\"%M\")\n",
    "\n",
    "def SECOND(s):\n",
    "    return datetime.datetime.strptime(s, \"%Y-%m-%d %H:%M:%S\").strftime(\"%S\")\n"
   ]
  },
  {
   "cell_type": "code",
   "execution_count": null,
   "metadata": {},
   "outputs": [],
   "source": [
    "\n",
    "\n",
    "[[row[0], HOUR(row[0]), MINUTE(row[0]), SECOND(row[0])] for row in datetime_val]"
   ]
  },
  {
   "cell_type": "code",
   "execution_count": null,
   "metadata": {},
   "outputs": [],
   "source": [
    "[[row[0], datetime.datetine.strptime(row[0], \"%Y-%m-%d %H:%M:%S\").strftime(\"%d/%m/%y\")] for row in datetime_val]"
   ]
  },
  {
   "cell_type": "markdown",
   "metadata": {},
   "source": [
    "## Cómputos con fechas"
   ]
  },
  {
   "cell_type": "code",
   "execution_count": null,
   "metadata": {},
   "outputs": [],
   "source": [
    "## Intervalos\n",
    "[[datetime.datetime.now() - datetime.datetime.strptime(row[0], \"%Y-%m-%d %H:%M:%S\")] for row in datetime_val]"
   ]
  },
  {
   "cell_type": "code",
   "execution_count": 12,
   "metadata": {},
   "outputs": [
    {
     "data": {
      "text/plain": [
       "datetime.timedelta(days=-29)"
      ]
     },
     "execution_count": 12,
     "metadata": {},
     "output_type": "execute_result"
    }
   ],
   "source": [
    "##Otro ejemplo\n",
    "x = datetime.datetime.strptime(\"2018-09-30\", \"%Y-%m-%d\")\n",
    "y = datetime.datetime.strptime(\"2018-09-01\", \"%Y-%m-%d\")\n",
    "y - x"
   ]
  },
  {
   "cell_type": "code",
   "execution_count": 13,
   "metadata": {},
   "outputs": [
    {
     "data": {
      "text/plain": [
       "datetime.datetime(2018, 9, 6, 0, 0)"
      ]
     },
     "execution_count": 13,
     "metadata": {},
     "output_type": "execute_result"
    }
   ],
   "source": [
    "y + datetime.timedelta(days=5)"
   ]
  },
  {
   "cell_type": "code",
   "execution_count": 14,
   "metadata": {
    "scrolled": true
   },
   "outputs": [
    {
     "ename": "NameError",
     "evalue": "name 'datetime_val' is not defined",
     "output_type": "error",
     "traceback": [
      "\u001b[1;31m---------------------------------------------------------------------------\u001b[0m",
      "\u001b[1;31mNameError\u001b[0m                                 Traceback (most recent call last)",
      "\u001b[1;32m<ipython-input-14-f59b73c970a8>\u001b[0m in \u001b[0;36m<module>\u001b[1;34m\u001b[0m\n\u001b[0;32m      1\u001b[0m \u001b[1;31m## Suma 60 horas a cada fecha\u001b[0m\u001b[1;33m\u001b[0m\u001b[1;33m\u001b[0m\u001b[1;33m\u001b[0m\u001b[0m\n\u001b[0;32m      2\u001b[0m [[(datetime.datetime.strptime(row[0], \"%Y-%m-%d %H:%M:%S\") +\n\u001b[1;32m----> 3\u001b[1;33m   datetime.timedelta(hours=60)).isoformat(\" \")] for row in datetime_val]\n\u001b[0m",
      "\u001b[1;31mNameError\u001b[0m: name 'datetime_val' is not defined"
     ]
    }
   ],
   "source": [
    "## Suma 60 horas a cada fecha\n",
    "[[(datetime.datetime.strptime(row[0], \"%Y-%m-%d %H:%M:%S\") +\n",
    "  datetime.timedelta(hours=60)).isoformat(\" \")] for row in datetime_val]\n"
   ]
  },
  {
   "cell_type": "code",
   "execution_count": null,
   "metadata": {},
   "outputs": [],
   "source": [
    "## Calcula la edad\n",
    "x = [[(datetime.datetime.now() - datetime.datetime.strptime(row[0], \"%Y-%m-%d %H:%M:%S\"))] for row in datetime_val]"
   ]
  },
  {
   "cell_type": "code",
   "execution_count": null,
   "metadata": {},
   "outputs": [],
   "source": [
    "[[int(row[0].days / 365)] for row in x]"
   ]
  },
  {
   "cell_type": "markdown",
   "metadata": {},
   "source": [
    "## Resumenes "
   ]
  },
  {
   "cell_type": "markdown",
   "metadata": {},
   "source": [
    "## Valores únicos"
   ]
  },
  {
   "cell_type": "code",
   "execution_count": 15,
   "metadata": {
    "scrolled": true
   },
   "outputs": [
    {
     "ename": "NameError",
     "evalue": "name 'mail' is not defined",
     "output_type": "error",
     "traceback": [
      "\u001b[1;31m---------------------------------------------------------------------------\u001b[0m",
      "\u001b[1;31mNameError\u001b[0m                                 Traceback (most recent call last)",
      "\u001b[1;32m<ipython-input-15-9187761d2cde>\u001b[0m in \u001b[0;36m<module>\u001b[1;34m\u001b[0m\n\u001b[0;32m      1\u001b[0m \u001b[1;31m## valores únicos\u001b[0m\u001b[1;33m\u001b[0m\u001b[1;33m\u001b[0m\u001b[1;33m\u001b[0m\u001b[0m\n\u001b[1;32m----> 2\u001b[1;33m \u001b[0mset\u001b[0m\u001b[1;33m(\u001b[0m\u001b[1;33m[\u001b[0m\u001b[0mrow\u001b[0m\u001b[1;33m[\u001b[0m\u001b[1;36m1\u001b[0m\u001b[1;33m]\u001b[0m \u001b[1;32mfor\u001b[0m \u001b[0mrow\u001b[0m \u001b[1;32min\u001b[0m \u001b[0mmail\u001b[0m\u001b[1;33m]\u001b[0m\u001b[1;33m)\u001b[0m\u001b[1;33m\u001b[0m\u001b[1;33m\u001b[0m\u001b[0m\n\u001b[0m",
      "\u001b[1;31mNameError\u001b[0m: name 'mail' is not defined"
     ]
    }
   ],
   "source": [
    "## valores únicos\n",
    "set([row[1] for row in mail])"
   ]
  },
  {
   "cell_type": "code",
   "execution_count": null,
   "metadata": {},
   "outputs": [],
   "source": [
    "len(set([row[1] for row in mail]))"
   ]
  },
  {
   "cell_type": "markdown",
   "metadata": {},
   "source": [
    "## Búsqueda del máximo o el mínimo"
   ]
  },
  {
   "cell_type": "code",
   "execution_count": null,
   "metadata": {},
   "outputs": [],
   "source": [
    "[row for row in limbs[:-1] if int(row[1]) == max(int(x[1]) for x in limbs[:-1] )]"
   ]
  },
  {
   "cell_type": "markdown",
   "metadata": {},
   "source": [
    "## Agrupamientos"
   ]
  },
  {
   "cell_type": "code",
   "execution_count": null,
   "metadata": {},
   "outputs": [],
   "source": [
    "import itertools\n",
    "from operator import itemgetter\n",
    "\n",
    "for key, group in itertools.groupby(sorted(mail, key=itemgetter(1)), itemgetter(1)):\n",
    "    print(key)\n",
    "    for g in group:\n",
    "        print(\" \", g)"
   ]
  },
  {
   "cell_type": "code",
   "execution_count": null,
   "metadata": {},
   "outputs": [],
   "source": [
    "## Cuenta el numero de elementos por grupo\n",
    "[[key, len(list(group))] for key, group in intertools.groupby(sorted(mail, key=itemgetter(1)), itemgetter(1))]"
   ]
  }
 ],
 "metadata": {
  "kernelspec": {
   "display_name": "Python 3",
   "language": "python",
   "name": "python3"
  },
  "language_info": {
   "codemirror_mode": {
    "name": "ipython",
    "version": 3
   },
   "file_extension": ".py",
   "mimetype": "text/x-python",
   "name": "python",
   "nbconvert_exporter": "python",
   "pygments_lexer": "ipython3",
   "version": "3.8.3"
  }
 },
 "nbformat": 4,
 "nbformat_minor": 4
}
